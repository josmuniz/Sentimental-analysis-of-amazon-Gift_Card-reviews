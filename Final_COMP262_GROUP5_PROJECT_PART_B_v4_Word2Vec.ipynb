{
 "cells": [
  {
   "cell_type": "markdown",
   "id": "b759b295-6846-4b2f-970c-065b060907db",
   "metadata": {
    "id": "b759b295-6846-4b2f-970c-065b060907db"
   },
   "source": [
    "## Sentiment Anylisis Model Gift Cards\n",
    "### COMP262 - Group 5\n",
    "Juan Arevalo  \n",
    "Jose Muniz  \n",
    "Ruben Ormeno  \n",
    "Samantha Ortiz de Foronda  \n",
    "Mariela Ramos Vila\n"
   ]
  },
  {
   "cell_type": "markdown",
   "id": "928fc166",
   "metadata": {},
   "source": [
    "### 12.\tModeling (Sentiment Analysis) Machine Learning approach"
   ]
  },
  {
   "cell_type": "code",
   "execution_count": 1,
   "id": "ba0e5440-5bad-48f8-8a28-d130958734f0",
   "metadata": {
    "id": "ba0e5440-5bad-48f8-8a28-d130958734f0"
   },
   "outputs": [],
   "source": [
    "import matplotlib.pyplot as plt\n",
    "import pandas as pd\n",
    "import seaborn as sns\n",
    "import scipy.stats as stats\n",
    "import spacy\n",
    "from nltk.corpus import stopwords\n",
    "from nltk.stem import WordNetLemmatizer\n",
    "from sklearn.feature_extraction.text import TfidfVectorizer\n",
    "from sklearn.model_selection import train_test_split\n",
    "from gensim.models import Word2Vec\n",
    "from sklearn.model_selection import train_test_split\n",
    "from sklearn.linear_model import LogisticRegression\n",
    "from sklearn.metrics import accuracy_score\n",
    "from nltk.tokenize import word_tokenize\n",
    "import numpy as np\n"
   ]
  },
  {
   "cell_type": "code",
   "execution_count": 2,
   "id": "b2b6a1c8-8ab3-4660-90ad-06c73a1f4971",
   "metadata": {
    "id": "b2b6a1c8-8ab3-4660-90ad-06c73a1f4971"
   },
   "outputs": [],
   "source": [
    "#Load data\n",
    "df = pd.read_json(r\"C:\\Users\\saman\\Downloads\\Gift_Cards.json\\Gift_Cards.json\",lines = True)"
   ]
  },
  {
   "cell_type": "markdown",
   "id": "10f7e0b3",
   "metadata": {
    "id": "3b1df795-ce62-43d6-8752-dba63d2fc054"
   },
   "source": [
    "#### Field Description\n",
    "overall (bigint) – User rating (1-5)  \n",
    "verified (boolean)  Is the review verified (true, false)  \n",
    "reviewtime (string) – Timestamp formatted like “10 30, 2009”  \n",
    "reviewerid (string) – Amazon generated user id  \n",
    "asin (string) – Unique Amazon generated product id  \n",
    "reviewername (string) – User supplied name  \n",
    "reviewtext (string) – Review text  \n",
    "summary (string) – Summary of Review text  \n",
    "unixreviewtime (bigint) – Timestamp formatted in epoch time  \n",
    "vote (double) – Userful voters form other users  \n",
    "style - a disctionary of the product metadata, e.g., \"Format\" is \"Hardcover\"  \n",
    "image -  images that users post after they have received the product  "
   ]
  },
  {
   "cell_type": "code",
   "execution_count": 3,
   "id": "addc3efd-2894-41e4-b2f9-32bc295dc48d",
   "metadata": {
    "colab": {
     "base_uri": "https://localhost:8080/"
    },
    "id": "addc3efd-2894-41e4-b2f9-32bc295dc48d",
    "outputId": "602d013b-3062-4143-d04a-440aacef9453",
    "scrolled": false
   },
   "outputs": [
    {
     "name": "stdout",
     "output_type": "stream",
     "text": [
      "\n",
      "---Name and Types of colums---\n",
      "\n",
      "<class 'pandas.core.frame.DataFrame'>\n",
      "RangeIndex: 147194 entries, 0 to 147193\n",
      "Data columns (total 12 columns):\n",
      " #   Column          Non-Null Count   Dtype \n",
      "---  ------          --------------   ----- \n",
      " 0   overall         147194 non-null  int64 \n",
      " 1   vote            6341 non-null    object\n",
      " 2   verified        147194 non-null  bool  \n",
      " 3   reviewTime      147194 non-null  object\n",
      " 4   reviewerID      147194 non-null  object\n",
      " 5   asin            147194 non-null  object\n",
      " 6   style           42375 non-null   object\n",
      " 7   reviewerName    147190 non-null  object\n",
      " 8   reviewText      147035 non-null  object\n",
      " 9   summary         147154 non-null  object\n",
      " 10  unixReviewTime  147194 non-null  int64 \n",
      " 11  image           406 non-null     object\n",
      "dtypes: bool(1), int64(2), object(9)\n",
      "memory usage: 12.5+ MB\n",
      "None\n",
      "\n",
      "---Shape----\n",
      "\n",
      "(147194, 12)\n"
     ]
    }
   ],
   "source": [
    "# Base exploration\n",
    "print('\\n---Name and Types of colums---\\n')\n",
    "print(df.info())\n",
    "print('\\n---Shape----\\n')\n",
    "print(df.shape)\n"
   ]
  },
  {
   "cell_type": "markdown",
   "id": "5fdaf512",
   "metadata": {},
   "source": [
    "### a.\tSelect a subset of the original data minimum 2000 reviews"
   ]
  },
  {
   "cell_type": "code",
   "execution_count": 4,
   "id": "b5328a8c",
   "metadata": {},
   "outputs": [],
   "source": [
    "# Select a Subset of Data\n",
    "subset_data = df.sample(n=147194, random_state=42)"
   ]
  },
  {
   "cell_type": "markdown",
   "id": "015375aa",
   "metadata": {},
   "source": [
    "### b. Carry out data exploration on the subset and pre-processing "
   ]
  },
  {
   "cell_type": "markdown",
   "id": "ca18c63b",
   "metadata": {},
   "source": [
    "### b.1 Data exploration"
   ]
  },
  {
   "cell_type": "code",
   "execution_count": 5,
   "id": "500d8551",
   "metadata": {},
   "outputs": [
    {
     "name": "stdout",
     "output_type": "stream",
     "text": [
      "\n",
      "---Name and Types of colums---\n",
      "\n",
      "<class 'pandas.core.frame.DataFrame'>\n",
      "Index: 147194 entries, 83758 to 121958\n",
      "Data columns (total 12 columns):\n",
      " #   Column          Non-Null Count   Dtype \n",
      "---  ------          --------------   ----- \n",
      " 0   overall         147194 non-null  int64 \n",
      " 1   vote            6341 non-null    object\n",
      " 2   verified        147194 non-null  bool  \n",
      " 3   reviewTime      147194 non-null  object\n",
      " 4   reviewerID      147194 non-null  object\n",
      " 5   asin            147194 non-null  object\n",
      " 6   style           42375 non-null   object\n",
      " 7   reviewerName    147190 non-null  object\n",
      " 8   reviewText      147035 non-null  object\n",
      " 9   summary         147154 non-null  object\n",
      " 10  unixReviewTime  147194 non-null  int64 \n",
      " 11  image           406 non-null     object\n",
      "dtypes: bool(1), int64(2), object(9)\n",
      "memory usage: 13.6+ MB\n",
      "None\n",
      "\n",
      "---Shape----\n",
      "\n",
      "(147194, 12)\n"
     ]
    }
   ],
   "source": [
    "# Base exploration\n",
    "print('\\n---Name and Types of colums---\\n')\n",
    "print(subset_data.info())\n",
    "print('\\n---Shape----\\n')\n",
    "print(subset_data.shape)"
   ]
  },
  {
   "cell_type": "code",
   "execution_count": 6,
   "id": "c89ad948-6982-446a-98b4-f9ae49b473d8",
   "metadata": {
    "colab": {
     "base_uri": "https://localhost:8080/",
     "height": 425
    },
    "id": "c89ad948-6982-446a-98b4-f9ae49b473d8",
    "outputId": "17132faf-c20b-4abf-d4ba-3b30d32ded10",
    "scrolled": false
   },
   "outputs": [
    {
     "data": {
      "text/html": [
       "<div>\n",
       "<style scoped>\n",
       "    .dataframe tbody tr th:only-of-type {\n",
       "        vertical-align: middle;\n",
       "    }\n",
       "\n",
       "    .dataframe tbody tr th {\n",
       "        vertical-align: top;\n",
       "    }\n",
       "\n",
       "    .dataframe thead th {\n",
       "        text-align: right;\n",
       "    }\n",
       "</style>\n",
       "<table border=\"1\" class=\"dataframe\">\n",
       "  <thead>\n",
       "    <tr style=\"text-align: right;\">\n",
       "      <th></th>\n",
       "      <th>Column</th>\n",
       "      <th>Total counts</th>\n",
       "      <th>Unique Value</th>\n",
       "      <th>Missing values</th>\n",
       "    </tr>\n",
       "  </thead>\n",
       "  <tbody>\n",
       "    <tr>\n",
       "      <th>0</th>\n",
       "      <td>reviewerID</td>\n",
       "      <td>147194</td>\n",
       "      <td>128877</td>\n",
       "      <td>0</td>\n",
       "    </tr>\n",
       "    <tr>\n",
       "      <th>1</th>\n",
       "      <td>reviewText</td>\n",
       "      <td>147035</td>\n",
       "      <td>121735</td>\n",
       "      <td>159</td>\n",
       "    </tr>\n",
       "    <tr>\n",
       "      <th>2</th>\n",
       "      <td>reviewerName</td>\n",
       "      <td>147190</td>\n",
       "      <td>97693</td>\n",
       "      <td>4</td>\n",
       "    </tr>\n",
       "    <tr>\n",
       "      <th>3</th>\n",
       "      <td>summary</td>\n",
       "      <td>147154</td>\n",
       "      <td>55653</td>\n",
       "      <td>40</td>\n",
       "    </tr>\n",
       "    <tr>\n",
       "      <th>4</th>\n",
       "      <td>reviewTime</td>\n",
       "      <td>147194</td>\n",
       "      <td>2888</td>\n",
       "      <td>0</td>\n",
       "    </tr>\n",
       "    <tr>\n",
       "      <th>5</th>\n",
       "      <td>unixReviewTime</td>\n",
       "      <td>147194</td>\n",
       "      <td>2888</td>\n",
       "      <td>0</td>\n",
       "    </tr>\n",
       "    <tr>\n",
       "      <th>6</th>\n",
       "      <td>asin</td>\n",
       "      <td>147194</td>\n",
       "      <td>1548</td>\n",
       "      <td>0</td>\n",
       "    </tr>\n",
       "    <tr>\n",
       "      <th>7</th>\n",
       "      <td>image</td>\n",
       "      <td>147194</td>\n",
       "      <td>394</td>\n",
       "      <td>0</td>\n",
       "    </tr>\n",
       "    <tr>\n",
       "      <th>8</th>\n",
       "      <td>vote</td>\n",
       "      <td>6341</td>\n",
       "      <td>149</td>\n",
       "      <td>140853</td>\n",
       "    </tr>\n",
       "    <tr>\n",
       "      <th>9</th>\n",
       "      <td>style</td>\n",
       "      <td>147194</td>\n",
       "      <td>37</td>\n",
       "      <td>0</td>\n",
       "    </tr>\n",
       "    <tr>\n",
       "      <th>10</th>\n",
       "      <td>overall</td>\n",
       "      <td>147194</td>\n",
       "      <td>5</td>\n",
       "      <td>0</td>\n",
       "    </tr>\n",
       "    <tr>\n",
       "      <th>11</th>\n",
       "      <td>verified</td>\n",
       "      <td>147194</td>\n",
       "      <td>2</td>\n",
       "      <td>0</td>\n",
       "    </tr>\n",
       "  </tbody>\n",
       "</table>\n",
       "</div>"
      ],
      "text/plain": [
       "            Column  Total counts  Unique Value  Missing values\n",
       "0       reviewerID        147194        128877               0\n",
       "1       reviewText        147035        121735             159\n",
       "2     reviewerName        147190         97693               4\n",
       "3          summary        147154         55653              40\n",
       "4       reviewTime        147194          2888               0\n",
       "5   unixReviewTime        147194          2888               0\n",
       "6             asin        147194          1548               0\n",
       "7            image        147194           394               0\n",
       "8             vote          6341           149          140853\n",
       "9            style        147194            37               0\n",
       "10         overall        147194             5               0\n",
       "11        verified        147194             2               0"
      ]
     },
     "execution_count": 6,
     "metadata": {},
     "output_type": "execute_result"
    }
   ],
   "source": [
    "# classes by variable\n",
    "def check_columns(dataframe):\n",
    "    total_counts = []\n",
    "    unique_counts = []\n",
    "    missing_values = []\n",
    "    for column in dataframe.columns:\n",
    "        try:\n",
    "            # Attempt to count unique values in the usual way\n",
    "            total_count = dataframe[column].count()\n",
    "            unique_count = dataframe[column].nunique()\n",
    "            missing_value = dataframe[column].isna().sum()\n",
    "            \n",
    "        except TypeError:\n",
    "            # Handle unhashable items by converting them to strings (or another approach as needed)\n",
    "            total_count = dataframe[column].astype(str).count()\n",
    "            unique_count = dataframe[column].astype(str).nunique()\n",
    "            missing_value = dataframe[column].astype(str).isna().sum() \n",
    "                \n",
    "        total_counts.append(total_count)\n",
    "        unique_counts.append(unique_count)\n",
    "        missing_values.append(missing_value)\n",
    "\n",
    "    # Create DataFrame with counts\n",
    "    nunique_df = pd.DataFrame({'Column': dataframe.columns, 'Total counts': total_counts,'Unique Value': unique_counts, 'Missing values': missing_values})\n",
    "    nunique_df = nunique_df.sort_values('Unique Value', ascending=False).reset_index(drop=True)\n",
    "    return nunique_df\n",
    "check_columns(subset_data)"
   ]
  },
  {
   "cell_type": "code",
   "execution_count": 7,
   "id": "3e6805d2",
   "metadata": {
    "scrolled": false
   },
   "outputs": [
    {
     "name": "stdout",
     "output_type": "stream",
     "text": [
      "\n",
      "Counts and Averages of Overall:\n",
      "count    147194.000000\n",
      "mean          4.671970\n",
      "std           0.955134\n",
      "min           1.000000\n",
      "25%           5.000000\n",
      "50%           5.000000\n",
      "75%           5.000000\n",
      "max           5.000000\n",
      "Name: overall, dtype: float64\n"
     ]
    },
    {
     "data": {
      "image/png": "[encoded data removed]",
      "text/plain": [
       "<Figure size 1000x600 with 1 Axes>"
      ]
     },
     "metadata": {},
     "output_type": "display_data"
    }
   ],
   "source": [
    "# Select numerical variables\n",
    "\n",
    "# Print summary statistics\n",
    "print(\"\\nCounts and Averages of Overall:\")\n",
    "print(subset_data['overall'].describe())\n",
    "\n",
    "# Plotting\n",
    "plt.figure(figsize=(10, 6))\n",
    "subset_data['overall'].value_counts().sort_index().plot(kind='bar', color='skyblue')\n",
    "plt.title('Distribution of Overall Ratings')\n",
    "plt.xlabel('Overall Rating')\n",
    "plt.ylabel('Frequency')\n",
    "plt.xticks(rotation=0)  # Rotate x-axis labels if needed\n",
    "plt.grid(axis='y')  \n",
    "\n",
    "plt.tight_layout()\n",
    "plt.show()\n"
   ]
  },
  {
   "cell_type": "markdown",
   "id": "d8fee923",
   "metadata": {},
   "source": [
    "#### Distribution of number of reviews across products"
   ]
  },
  {
   "cell_type": "code",
   "execution_count": 8,
   "id": "14973943-11ad-49c5-915c-f85ab7581b2d",
   "metadata": {
    "colab": {
     "base_uri": "https://localhost:8080/",
     "height": 634
    },
    "id": "14973943-11ad-49c5-915c-f85ab7581b2d",
    "outputId": "4362fa69-9b09-498e-91f8-2b046f85b23e"
   },
   "outputs": [
    {
     "data": {
      "image/png": "[encoded data removed]",
      "text/plain": [
       "<Figure size 640x480 with 1 Axes>"
      ]
     },
     "metadata": {},
     "output_type": "display_data"
    },
    {
     "name": "stdout",
     "output_type": "stream",
     "text": [
      "Maximum review count: 8174\n"
     ]
    }
   ],
   "source": [
    "# Calculate the number of reviews per product (ASIN)\n",
    "review_counts = subset_data['asin'].value_counts()\n",
    "\n",
    "# Create the plot\n",
    "#plt.figure(figsize=(10, 4))\n",
    "review_counts.plot(kind='bar')\n",
    "plt.title('Distribution of Number of Reviews Across Products')\n",
    "plt.xlabel('Product ID (ASIN)')\n",
    "plt.ylabel('Number of Reviews')\n",
    "plt.xticks([])  # Rotate the x-axis labels for better readability\n",
    "plt.show()\n",
    "\n",
    "review_counts = subset_data['asin'].value_counts()\n",
    "max_review_count = review_counts.max()\n",
    "\n",
    "print(\"Maximum review count:\", max_review_count)\n"
   ]
  },
  {
   "cell_type": "markdown",
   "id": "9f88e06b-72ae-4b51-9ce8-91901e92b785",
   "metadata": {
    "id": "9f88e06b-72ae-4b51-9ce8-91901e92b785"
   },
   "source": [
    "#### Distribution of number of reviews per products"
   ]
  },
  {
   "cell_type": "code",
   "execution_count": 9,
   "id": "0522a913-04f6-4e06-9ad6-0a89112ce407",
   "metadata": {
    "colab": {
     "base_uri": "https://localhost:8080/",
     "height": 564
    },
    "id": "0522a913-04f6-4e06-9ad6-0a89112ce407",
    "outputId": "5aeed184-e412-4d14-9c1c-9dd20f49a7b3"
   },
   "outputs": [
    {
     "data": {
      "image/png": "[encoded data removed]",
      "text/plain": [
       "<Figure size 1200x600 with 1 Axes>"
      ]
     },
     "metadata": {},
     "output_type": "display_data"
    }
   ],
   "source": [
    "reviews_per_product = subset_data['asin'].value_counts()\n",
    "\n",
    "# plot using seaborn\n",
    "plt.figure(figsize=(12, 6))\n",
    "sns.histplot(reviews_per_product, bins=30, kde=True, color='blue')\n",
    "plt.title('Distribution of the Number of Reviews Per Product')\n",
    "plt.xlabel('Number of Reviews')\n",
    "plt.ylabel('Number of Products')\n",
    "plt.grid(axis='y', alpha=0.75)\n",
    "\n",
    "plt.show()\n"
   ]
  },
  {
   "cell_type": "code",
   "execution_count": 10,
   "id": "902c27fc-b85c-4073-85f2-f4db11dd495d",
   "metadata": {
    "colab": {
     "base_uri": "https://localhost:8080/",
     "height": 720
    },
    "id": "902c27fc-b85c-4073-85f2-f4db11dd495d",
    "outputId": "57ddf658-28e4-4aa6-aac1-ddb38c3c9370"
   },
   "outputs": [
    {
     "name": "stdout",
     "output_type": "stream",
     "text": [
      "Top 10 products with the most reviews:\n",
      "asin\n",
      "B004Q7CK9M    8174\n",
      "B004LLIKVU    5420\n",
      "B0091JKVU0    3486\n",
      "B00JDQJZWG    2999\n",
      "B0091JKY0M    2481\n",
      "B014S24DAI    2293\n",
      "B004LLIKY2    2234\n",
      "B0066AZGD4    2223\n",
      "B00H5BMH44    2131\n",
      "B0091JL3OI    1946\n",
      "Name: count, dtype: int64\n"
     ]
    }
   ],
   "source": [
    "# Calculate the top 10 products with the most reviews and their counts\n",
    "top_10_most_reviews = subset_data['asin'].value_counts().head(10)\n",
    "\n",
    "print(\"Top 10 products with the most reviews:\")\n",
    "print(top_10_most_reviews)\n"
   ]
  },
  {
   "cell_type": "code",
   "execution_count": 11,
   "id": "158c7cb4",
   "metadata": {},
   "outputs": [
    {
     "name": "stdout",
     "output_type": "stream",
     "text": [
      "Reviews for product with ASIN B004Q7CK9M : 25749    I bought this as a Christmas gift because I'm ...\n",
      "24762                           was a gift, very happy....\n",
      "30167    I find Amazon gift cards to be the best gift c...\n",
      "30986    Amazon gift cards are great to give and receiv...\n",
      "24540    Gift card comes in a good quality Christmas ca...\n",
      "                               ...                        \n",
      "24538                                   Grandson loves it!\n",
      "30535    I asked my friends what gift they wanted and t...\n",
      "26854    Great gift cards and the smile on the card tra...\n",
      "24300                 Loved the card, loved the gift card.\n",
      "23247    My son was happy to get this little gift card ...\n",
      "Name: reviewText, Length: 8174, dtype: object\n"
     ]
    }
   ],
   "source": [
    "max_asin = top_10_most_reviews.index[0]  # maximum review count product\n",
    "max_asin_reviews = subset_data[subset_data['asin'] == max_asin]['reviewText']\n",
    "\n",
    "print(\"Reviews for product with ASIN\", max_asin, \":\", max_asin_reviews)"
   ]
  },
  {
   "cell_type": "markdown",
   "id": "758ac9d8-b2b8-4057-b0e6-d077bfbef201",
   "metadata": {
    "id": "758ac9d8-b2b8-4057-b0e6-d077bfbef201"
   },
   "source": [
    "#### Distribution reviews per user"
   ]
  },
  {
   "cell_type": "code",
   "execution_count": 12,
   "id": "d545f9f4-f9b5-4d83-a751-214eececa13f",
   "metadata": {
    "colab": {
     "base_uri": "https://localhost:8080/",
     "height": 564
    },
    "id": "d545f9f4-f9b5-4d83-a751-214eececa13f",
    "outputId": "b51d6927-df5c-4fd8-aa20-9985d53c13bc"
   },
   "outputs": [
    {
     "name": "stdout",
     "output_type": "stream",
     "text": [
      "Maximum number of reviews per user: 39\n",
      "Minimum number of reviews per user: 1\n",
      "Average number of reviews per user: 1.1421277652335173\n"
     ]
    }
   ],
   "source": [
    "# Calculate the number of reviews per user\n",
    "reviews_per_user = subset_data['reviewerID'].value_counts()\n",
    "\n",
    "# Calculate the maximum, minimum, and average number of reviews per user\n",
    "max_reviews_per_user = reviews_per_user.max()\n",
    "min_reviews_per_user = reviews_per_user.min()\n",
    "avg_reviews_per_user = reviews_per_user.mean()\n",
    "\n",
    "print(\"Maximum number of reviews per user:\", max_reviews_per_user)\n",
    "print(\"Minimum number of reviews per user:\", min_reviews_per_user)\n",
    "print(\"Average number of reviews per user:\", avg_reviews_per_user)\n"
   ]
  },
  {
   "cell_type": "markdown",
   "id": "eb5ca567",
   "metadata": {},
   "source": [
    "#### Review lengths"
   ]
  },
  {
   "cell_type": "code",
   "execution_count": 13,
   "id": "fa027ecc",
   "metadata": {},
   "outputs": [
    {
     "data": {
      "image/png": "[encoded data removed]",
      "text/plain": [
       "<Figure size 1000x600 with 1 Axes>"
      ]
     },
     "metadata": {},
     "output_type": "display_data"
    }
   ],
   "source": [
    "# Calculate review lengths\n",
    "df_length = subset_data['reviewText'].dropna().apply(lambda x: len(str(x).split()))\n",
    "\n",
    "# Plot histogram of review lengths\n",
    "plt.figure(figsize=(10, 6))\n",
    "plt.hist(df_length, bins=50, color='skyblue', edgecolor='black')\n",
    "plt.title('Distribution of Review Lengths')\n",
    "plt.xlabel('Review Length')\n",
    "plt.ylabel('Frequency')\n",
    "plt.grid(True)\n",
    "plt.show()\n",
    "# Calculate maximum, minimum, and average review lengths\n",
    "max_review_length = df_length.max()\n",
    "min_review_length = df_length.min()\n",
    "avg_review_length = df_length.mean()\n"
   ]
  },
  {
   "cell_type": "code",
   "execution_count": 14,
   "id": "90f6c0ef",
   "metadata": {},
   "outputs": [
    {
     "name": "stdout",
     "output_type": "stream",
     "text": [
      "Minimum review length: 1\n",
      "Maximum review length: 896\n",
      "Average review length: 18.41667630156085\n"
     ]
    }
   ],
   "source": [
    "# review lengths\n",
    "print(\"Minimum review length:\", df_length.min())\n",
    "print(\"Maximum review length:\", df_length.max())\n",
    "print(\"Average review length:\", df_length.mean())"
   ]
  },
  {
   "cell_type": "markdown",
   "id": "180256be",
   "metadata": {},
   "source": [
    "### b.2 Pre-processing"
   ]
  },
  {
   "cell_type": "code",
   "execution_count": 15,
   "id": "iT-QKvp7mXD-",
   "metadata": {
    "id": "iT-QKvp7mXD-"
   },
   "outputs": [],
   "source": [
    "# Labeling the data based on ratings\n",
    "def label_rating(row):\n",
    "    if row['overall'] >= 4:\n",
    "        return 'positive'\n",
    "    elif row['overall'] == 3:\n",
    "        return 'neutral'\n",
    "    else:  # Ratings 1 and 2\n",
    "        return 'negative'\n",
    "\n",
    "subset_data['rating_label'] = subset_data.apply(label_rating, axis=1)"
   ]
  },
  {
   "cell_type": "markdown",
   "id": "88134515",
   "metadata": {},
   "source": [
    "#### Chose the appropriate columns for your sentiment analyzer"
   ]
  },
  {
   "cell_type": "code",
   "execution_count": 16,
   "id": "4d87c246-302b-47bc-9429-f8064c6b2088",
   "metadata": {},
   "outputs": [
    {
     "name": "stdout",
     "output_type": "stream",
     "text": [
      "DataFrame shape: (147194, 3)\n"
     ]
    },
    {
     "data": {
      "text/html": [
       "<div>\n",
       "<style scoped>\n",
       "    .dataframe tbody tr th:only-of-type {\n",
       "        vertical-align: middle;\n",
       "    }\n",
       "\n",
       "    .dataframe tbody tr th {\n",
       "        vertical-align: top;\n",
       "    }\n",
       "\n",
       "    .dataframe thead th {\n",
       "        text-align: right;\n",
       "    }\n",
       "</style>\n",
       "<table border=\"1\" class=\"dataframe\">\n",
       "  <thead>\n",
       "    <tr style=\"text-align: right;\">\n",
       "      <th></th>\n",
       "      <th>verified</th>\n",
       "      <th>rating_label</th>\n",
       "      <th>combined_text</th>\n",
       "    </tr>\n",
       "  </thead>\n",
       "  <tbody>\n",
       "    <tr>\n",
       "      <th>83758</th>\n",
       "      <td>True</td>\n",
       "      <td>neutral</td>\n",
       "      <td>Not much to really say about this other than i...</td>\n",
       "    </tr>\n",
       "    <tr>\n",
       "      <th>135602</th>\n",
       "      <td>True</td>\n",
       "      <td>positive</td>\n",
       "      <td>Ok Five Stars</td>\n",
       "    </tr>\n",
       "    <tr>\n",
       "      <th>65221</th>\n",
       "      <td>True</td>\n",
       "      <td>positive</td>\n",
       "      <td>Good Five Stars</td>\n",
       "    </tr>\n",
       "    <tr>\n",
       "      <th>39765</th>\n",
       "      <td>True</td>\n",
       "      <td>positive</td>\n",
       "      <td>The gift card was printed on line and we found...</td>\n",
       "    </tr>\n",
       "    <tr>\n",
       "      <th>2495</th>\n",
       "      <td>True</td>\n",
       "      <td>positive</td>\n",
       "      <td>I very much like the print-at-home Amazon gift...</td>\n",
       "    </tr>\n",
       "  </tbody>\n",
       "</table>\n",
       "</div>"
      ],
      "text/plain": [
       "        verified rating_label  \\\n",
       "83758       True      neutral   \n",
       "135602      True     positive   \n",
       "65221       True     positive   \n",
       "39765       True     positive   \n",
       "2495        True     positive   \n",
       "\n",
       "                                            combined_text  \n",
       "83758   Not much to really say about this other than i...  \n",
       "135602                                      Ok Five Stars  \n",
       "65221                                     Good Five Stars  \n",
       "39765   The gift card was printed on line and we found...  \n",
       "2495    I very much like the print-at-home Amazon gift...  "
      ]
     },
     "execution_count": 16,
     "metadata": {},
     "output_type": "execute_result"
    }
   ],
   "source": [
    "# Dropping columns 'image', 'vote', and 'style' columns because are not important for the analysis\n",
    "subset_data.drop(columns=['image', 'vote', 'style'], inplace=True, errors='ignore')\n",
    "\n",
    "\n",
    "# Dropping 'overall' because'rating_label' will be used\n",
    "subset_data.drop(columns=['overall'], inplace=True)\n",
    "\n",
    "# Dropping columns that are not important for Sentiment analysis\n",
    "subset_data.drop(columns=['reviewerName', 'reviewerID', 'asin', 'unixReviewTime', 'reviewTime' ], inplace=True)\n",
    "\n",
    "# Chose the appropriate columns for your sentiment analyzer\n",
    "subset_data['reviewText'] = subset_data['reviewText'].fillna('')\n",
    "subset_data['summary'] = subset_data['summary'].fillna('')\n",
    "\n",
    "# Combine 'reviewText' and 'summary' into a single column for a comprehensive sentiment analysis\n",
    "subset_data['combined_text'] = subset_data['reviewText'] + \" \" + subset_data['summary']\n",
    "\n",
    "subset_data.drop(columns=['reviewText', 'summary'], inplace=True, errors='ignore')\n",
    "\n",
    "# Print the shape of the DataFrame to see the number of entries and columns\n",
    "print(\"DataFrame shape:\", subset_data.shape)\n",
    "\n",
    "subset_data.head()"
   ]
  },
  {
   "cell_type": "code",
   "execution_count": 17,
   "id": "6d7d7296",
   "metadata": {},
   "outputs": [
    {
     "name": "stdout",
     "output_type": "stream",
     "text": [
      "\n",
      "Missing values in 'combined_text': 0\n"
     ]
    }
   ],
   "source": [
    "# Print a summary of any missing values in the combined_text column\n",
    "print(\"\\nMissing values in 'combined_text':\", subset_data['combined_text'].isnull().sum())\n"
   ]
  },
  {
   "cell_type": "markdown",
   "id": "68211e64",
   "metadata": {},
   "source": [
    "#### Check for outliers"
   ]
  },
  {
   "cell_type": "markdown",
   "id": "5912448b",
   "metadata": {},
   "source": [
    "#### Unverified Reviewers outliers"
   ]
  },
  {
   "cell_type": "code",
   "execution_count": 18,
   "id": "c45db94f",
   "metadata": {},
   "outputs": [
    {
     "name": "stdout",
     "output_type": "stream",
     "text": [
      "Number of Unverified Reviewers: 8957\n"
     ]
    }
   ],
   "source": [
    "def identify_unverified_reviewers(df):\n",
    "    unverified_reviewers = df[df['verified'] == False]\n",
    "    df = df.drop(unverified_reviewers.index)\n",
    "    return len(unverified_reviewers)\n",
    "\n",
    "\n",
    "unverified_reviewers_count = identify_unverified_reviewers(subset_data)\n",
    "print(\"Number of Unverified Reviewers:\", unverified_reviewers_count)\n"
   ]
  },
  {
   "cell_type": "code",
   "execution_count": 19,
   "id": "4fe0e06f",
   "metadata": {},
   "outputs": [
    {
     "data": {
      "text/plain": [
       "(138237, 3)"
      ]
     },
     "execution_count": 19,
     "metadata": {},
     "output_type": "execute_result"
    }
   ],
   "source": [
    "# Delete unverified users reviews \n",
    "subset_data = subset_data[subset_data['verified'] != False]\n",
    "subset_data.shape\n"
   ]
  },
  {
   "cell_type": "code",
   "execution_count": 20,
   "id": "d4f02c81",
   "metadata": {},
   "outputs": [
    {
     "data": {
      "text/plain": [
       "(138237, 2)"
      ]
     },
     "execution_count": 20,
     "metadata": {},
     "output_type": "execute_result"
    }
   ],
   "source": [
    "# Drop column 'verified'\n",
    "subset_data.drop(columns=['verified'], inplace=True, errors='ignore')\n",
    "subset_data.shape"
   ]
  },
  {
   "cell_type": "markdown",
   "id": "be858787",
   "metadata": {},
   "source": [
    "#### Word count outliers"
   ]
  },
  {
   "cell_type": "code",
   "execution_count": 21,
   "id": "13db9248-4c12-49ce-b6cf-95dd6b257197",
   "metadata": {},
   "outputs": [
    {
     "name": "stdout",
     "output_type": "stream",
     "text": [
      "Outlier threshold (Z-Score Method): 91.31244646736587\n"
     ]
    },
    {
     "data": {
      "image/png": "[encoded data removed]",
      "text/plain": [
       "<Figure size 800x600 with 1 Axes>"
      ]
     },
     "metadata": {},
     "output_type": "display_data"
    }
   ],
   "source": [
    "# Check for outliers in 'combined_text' by word count\n",
    "subset_data['word_count'] = subset_data['combined_text'].fillna('').apply(lambda x: len(x.split()))\n",
    "\n",
    "# Calculate z-scores\n",
    "mean_length = subset_data['word_count'].mean()\n",
    "std_length = subset_data['word_count'].std()\n",
    "\n",
    "# Define threshold for outliers using z-scores\n",
    "z_score_threshold = 3\n",
    "\n",
    "# Print outlier threshold\n",
    "outlier_threshold = mean_length + z_score_threshold * std_length\n",
    "print(\"Outlier threshold (Z-Score Method):\", outlier_threshold)\n",
    "\n",
    "# Calculate z-scores for word count\n",
    "wordcount_z_score = (subset_data['word_count'] - mean_length) / std_length\n",
    "\n",
    "# Identify outliers using z-scores\n",
    "outliers_z_score = subset_data['word_count'][(wordcount_z_score > z_score_threshold) | (wordcount_z_score < -z_score_threshold)]\n",
    "\n",
    "# Create a scatter plot to visualize the distribution of review lengths and identify outliers using z-scores\n",
    "plt.figure(figsize=(8, 6))\n",
    "plt.scatter(subset_data['word_count'].index, subset_data['word_count'], c='blue', label='Word Count')\n",
    "plt.scatter(outliers_z_score.index, outliers_z_score, c='red', label='Outliers (Z-Score Method)')\n",
    "plt.xlabel('Index')\n",
    "plt.ylabel('Word Count')\n",
    "plt.title('Distribution of Word Counts with Outliers (Z-Score Method)')\n",
    "plt.legend()\n",
    "plt.show()"
   ]
  },
  {
   "cell_type": "code",
   "execution_count": 22,
   "id": "5cec613f",
   "metadata": {},
   "outputs": [
    {
     "data": {
      "text/plain": [
       "(135947, 2)"
      ]
     },
     "execution_count": 22,
     "metadata": {},
     "output_type": "execute_result"
    }
   ],
   "source": [
    "# Filter rows where word count is less than or equal to 89 to delete oouliers\n",
    "subset_data = subset_data[subset_data['word_count'] <= outlier_threshold]\n",
    "\n",
    "# Drop the 'word_count' column as it's no longer needed\n",
    "subset_data.drop(columns=['word_count'], inplace=True)\n",
    "\n",
    "# Optionally, you can reset the index of the DataFrame after dropping rows\n",
    "subset_data.reset_index(drop=True, inplace=True)\n",
    "\n",
    "subset_data.shape"
   ]
  },
  {
   "cell_type": "code",
   "execution_count": 23,
   "id": "07a4d2ce",
   "metadata": {},
   "outputs": [
    {
     "data": {
      "text/html": [
       "<div>\n",
       "<style scoped>\n",
       "    .dataframe tbody tr th:only-of-type {\n",
       "        vertical-align: middle;\n",
       "    }\n",
       "\n",
       "    .dataframe tbody tr th {\n",
       "        vertical-align: top;\n",
       "    }\n",
       "\n",
       "    .dataframe thead th {\n",
       "        text-align: right;\n",
       "    }\n",
       "</style>\n",
       "<table border=\"1\" class=\"dataframe\">\n",
       "  <thead>\n",
       "    <tr style=\"text-align: right;\">\n",
       "      <th></th>\n",
       "      <th>rating_label</th>\n",
       "      <th>combined_text</th>\n",
       "    </tr>\n",
       "  </thead>\n",
       "  <tbody>\n",
       "    <tr>\n",
       "      <th>0</th>\n",
       "      <td>neutral</td>\n",
       "      <td>Not much to really say about this other than i...</td>\n",
       "    </tr>\n",
       "    <tr>\n",
       "      <th>1</th>\n",
       "      <td>positive</td>\n",
       "      <td>Ok Five Stars</td>\n",
       "    </tr>\n",
       "    <tr>\n",
       "      <th>2</th>\n",
       "      <td>positive</td>\n",
       "      <td>Good Five Stars</td>\n",
       "    </tr>\n",
       "    <tr>\n",
       "      <th>3</th>\n",
       "      <td>positive</td>\n",
       "      <td>The gift card was printed on line and we found...</td>\n",
       "    </tr>\n",
       "    <tr>\n",
       "      <th>4</th>\n",
       "      <td>positive</td>\n",
       "      <td>I very much like the print-at-home Amazon gift...</td>\n",
       "    </tr>\n",
       "  </tbody>\n",
       "</table>\n",
       "</div>"
      ],
      "text/plain": [
       "  rating_label                                      combined_text\n",
       "0      neutral  Not much to really say about this other than i...\n",
       "1     positive                                      Ok Five Stars\n",
       "2     positive                                    Good Five Stars\n",
       "3     positive  The gift card was printed on line and we found...\n",
       "4     positive  I very much like the print-at-home Amazon gift..."
      ]
     },
     "execution_count": 23,
     "metadata": {},
     "output_type": "execute_result"
    }
   ],
   "source": [
    "subset_data.head()"
   ]
  },
  {
   "cell_type": "code",
   "execution_count": 24,
   "id": "ec08d2ef",
   "metadata": {},
   "outputs": [
    {
     "name": "stdout",
     "output_type": "stream",
     "text": [
      "<class 'pandas.core.frame.DataFrame'>\n",
      "RangeIndex: 135947 entries, 0 to 135946\n",
      "Data columns (total 2 columns):\n",
      " #   Column         Non-Null Count   Dtype \n",
      "---  ------         --------------   ----- \n",
      " 0   rating_label   135947 non-null  object\n",
      " 1   combined_text  135947 non-null  object\n",
      "dtypes: object(2)\n",
      "memory usage: 2.1+ MB\n"
     ]
    }
   ],
   "source": [
    "subset_data.info()"
   ]
  },
  {
   "cell_type": "markdown",
   "id": "47587b31",
   "metadata": {},
   "source": [
    "#### Duplicates"
   ]
  },
  {
   "cell_type": "code",
   "execution_count": 25,
   "id": "e1c93605",
   "metadata": {},
   "outputs": [
    {
     "name": "stdout",
     "output_type": "stream",
     "text": [
      "Number of duplicate rows considering reviewerID, asin, unixReviewTime and reviewText: 24158\n"
     ]
    }
   ],
   "source": [
    "# Find duplicates in the 'combined_text' column\n",
    "duplicates_combinedText = subset_data[subset_data.duplicated(subset=['combined_text'], keep=False)]\n",
    "\n",
    "# Count the number of duplicate rows based on specific columns\n",
    "duplicate_count = duplicates_combinedText.shape[0]\n",
    "\n",
    "print(\"Number of duplicate rows considering reviewerID, asin, unixReviewTime and reviewText:\", duplicate_count)\n"
   ]
  },
  {
   "cell_type": "code",
   "execution_count": 26,
   "id": "0cf9b33e",
   "metadata": {},
   "outputs": [
    {
     "name": "stdout",
     "output_type": "stream",
     "text": [
      "Number of rows after removing duplicates: 115622\n"
     ]
    }
   ],
   "source": [
    "# Remove duplicates from subset_data based on the 'combined_text' column\n",
    "subset_data = subset_data.drop_duplicates(subset=['combined_text'], keep='first')\n",
    "\n",
    "# Verify the removal of duplicates\n",
    "print(\"Number of rows after removing duplicates:\", len(subset_data))\n"
   ]
  },
  {
   "cell_type": "code",
   "execution_count": 27,
   "id": "78610a7e",
   "metadata": {
    "scrolled": false
   },
   "outputs": [
    {
     "data": {
      "image/png": "[encoded data removed]",
      "text/plain": [
       "<Figure size 400x300 with 1 Axes>"
      ]
     },
     "metadata": {},
     "output_type": "display_data"
    },
    {
     "name": "stdout",
     "output_type": "stream",
     "text": [
      "positive: 92.62%\n",
      "negative: 5.28%\n",
      "neutral: 2.11%\n",
      "Shape of dataframe: (115622, 2)\n",
      "\n",
      "Count Values\n",
      "rating_label\n",
      "positive    107085\n",
      "negative      6103\n",
      "neutral       2434\n",
      "Name: count, dtype: int64\n"
     ]
    }
   ],
   "source": [
    "# Count the frequency of each rating label\n",
    "label_counts = subset_data['rating_label'].value_counts()\n",
    "\n",
    "# Calculate percentage of each rating label\n",
    "label_percentage = label_counts / len(subset_data) * 100\n",
    "\n",
    "# Plot the frequency of each rating label using seaborn\n",
    "plt.figure(figsize=(4, 3))\n",
    "sns.barplot(x=label_counts.index, y=label_counts.values, palette='magma')\n",
    "plt.title('Frequency of Rating Labels')\n",
    "plt.xlabel('Rating Label')\n",
    "plt.ylabel('Frequency')\n",
    "\n",
    "plt.show()\n",
    "\n",
    "\n",
    "# Print the percentage for each rating label\n",
    "for label, percentage in zip(label_percentage.index, label_percentage.values):\n",
    "    print(f\"{label}: {percentage:.2f}%\")\n",
    "# Print shape of dataframe\n",
    "print(\"Shape of dataframe:\", subset_data.shape)\n",
    "print(\"\\nCount Values\")\n",
    "print(label_counts)\n"
   ]
  },
  {
   "cell_type": "code",
   "execution_count": 28,
   "id": "97d166d6",
   "metadata": {},
   "outputs": [
    {
     "data": {
      "text/plain": [
       "'\\nfrom imblearn.over_sampling import SMOTE\\nfrom sklearn.feature_extraction.text import TfidfVectorizer\\n\\n# Vectorize the text data\\ntfidf_vectorizer = TfidfVectorizer(max_features=4000)  # You can adjust max_features as needed\\nX_tfidf = tfidf_vectorizer.fit_transform(subset_data[\\'combined_text\\'])\\n\\n# Apply SMOTE to balance the classes\\nsmote = SMOTE(random_state=42)\\nX_resampled, y_resampled = smote.fit_resample(X_tfidf, subset_data[\\'rating_label\\'])\\n\\n# Convert the resampled data back to DataFrame\\noversampled_data = pd.DataFrame({\\'rating_label\\': y_resampled, \\'combined_text\\': X_resampled})\\n\\n# Verify the new distribution\\nlabel_counts_oversampled = oversampled_data[\\'rating_label\\'].value_counts()\\nlabel_percentage_oversampled = label_counts_oversampled / len(oversampled_data) * 100\\n\\n# Plot the frequency of each rating label after oversampling\\nplt.figure(figsize=(4, 3))\\nsns.barplot(x=label_counts_oversampled.index, y=label_counts_oversampled.values, palette=\\'magma\\')\\nplt.title(\\'Frequency of Rating Labels after Oversampling\\')\\nplt.xlabel(\\'Rating Label\\')\\nplt.ylabel(\\'Frequency\\')\\nplt.show()\\n\\n# Print the percentage for each rating label after oversampling\\nfor label, percentage in zip(label_percentage_oversampled.index, label_percentage_oversampled.values):\\n    print(f\"{label}: {percentage:.2f}%\")\\n'"
      ]
     },
     "execution_count": 28,
     "metadata": {},
     "output_type": "execute_result"
    }
   ],
   "source": [
    "'''\n",
    "from imblearn.over_sampling import SMOTE\n",
    "from sklearn.feature_extraction.text import TfidfVectorizer\n",
    "\n",
    "# Vectorize the text data\n",
    "tfidf_vectorizer = TfidfVectorizer(max_features=4000)  # You can adjust max_features as needed\n",
    "X_tfidf = tfidf_vectorizer.fit_transform(subset_data['combined_text'])\n",
    "\n",
    "# Apply SMOTE to balance the classes\n",
    "smote = SMOTE(random_state=42)\n",
    "X_resampled, y_resampled = smote.fit_resample(X_tfidf, subset_data['rating_label'])\n",
    "\n",
    "# Convert the resampled data back to DataFrame\n",
    "oversampled_data = pd.DataFrame({'rating_label': y_resampled, 'combined_text': X_resampled})\n",
    "\n",
    "# Verify the new distribution\n",
    "label_counts_oversampled = oversampled_data['rating_label'].value_counts()\n",
    "label_percentage_oversampled = label_counts_oversampled / len(oversampled_data) * 100\n",
    "\n",
    "# Plot the frequency of each rating label after oversampling\n",
    "plt.figure(figsize=(4, 3))\n",
    "sns.barplot(x=label_counts_oversampled.index, y=label_counts_oversampled.values, palette='magma')\n",
    "plt.title('Frequency of Rating Labels after Oversampling')\n",
    "plt.xlabel('Rating Label')\n",
    "plt.ylabel('Frequency')\n",
    "plt.show()\n",
    "\n",
    "# Print the percentage for each rating label after oversampling\n",
    "for label, percentage in zip(label_percentage_oversampled.index, label_percentage_oversampled.values):\n",
    "    print(f\"{label}: {percentage:.2f}%\")\n",
    "'''"
   ]
  },
  {
   "cell_type": "code",
   "execution_count": 29,
   "id": "c7df7089",
   "metadata": {},
   "outputs": [
    {
     "name": "stdout",
     "output_type": "stream",
     "text": [
      "Balanced class distribution:\n",
      "rating_label\n",
      "neutral     2434\n",
      "negative    2434\n",
      "positive    2434\n",
      "Name: count, dtype: int64\n"
     ]
    }
   ],
   "source": [
    "min_count = min(label_counts['positive'], label_counts['negative'], label_counts['neutral'])\n",
    "\n",
    "subset_balanced = pd.concat([\n",
    "    subset_data[subset_data['rating_label'] == 'positive'].sample(min_count, random_state=42),\n",
    "    subset_data[subset_data['rating_label'] == 'negative'].sample(min_count, random_state=42),\n",
    "    subset_data[subset_data['rating_label'] == 'neutral']\n",
    "])\n",
    "\n",
    "subset_balanced = subset_balanced.sample(frac=1, random_state=42).reset_index(drop=True)\n",
    "subset_data = subset_balanced\n",
    "print(\"Balanced class distribution:\")\n",
    "print(subset_balanced['rating_label'].value_counts())"
   ]
  },
  {
   "cell_type": "code",
   "execution_count": 30,
   "id": "7f7a895e",
   "metadata": {},
   "outputs": [
    {
     "data": {
      "image/png": "[encoded data removed]",
      "text/plain": [
       "<Figure size 400x300 with 1 Axes>"
      ]
     },
     "metadata": {},
     "output_type": "display_data"
    },
    {
     "name": "stdout",
     "output_type": "stream",
     "text": [
      "neutral: 33.33%\n",
      "negative: 33.33%\n",
      "positive: 33.33%\n",
      "Shape of dataframe: (7302, 2)\n",
      "\n",
      "Count Values\n",
      "rating_label\n",
      "neutral     2434\n",
      "negative    2434\n",
      "positive    2434\n",
      "Name: count, dtype: int64\n"
     ]
    }
   ],
   "source": [
    "# Count the frequency of each rating label\n",
    "label_counts = subset_data['rating_label'].value_counts()\n",
    "\n",
    "# Calculate percentage of each rating label\n",
    "label_percentage = label_counts / len(subset_data) * 100\n",
    "\n",
    "# Plot the frequency of each rating label using seaborn\n",
    "plt.figure(figsize=(4, 3))\n",
    "sns.barplot(x=label_counts.index, y=label_counts.values, palette='magma')\n",
    "plt.title('Frequency of Rating Labels')\n",
    "plt.xlabel('Rating Label')\n",
    "plt.ylabel('Frequency')\n",
    "\n",
    "plt.show()\n",
    "\n",
    "\n",
    "# Print the percentage for each rating label\n",
    "for label, percentage in zip(label_percentage.index, label_percentage.values):\n",
    "    print(f\"{label}: {percentage:.2f}%\")\n",
    "# Print shape of dataframe\n",
    "print(\"Shape of dataframe:\", subset_data.shape)\n",
    "print(\"\\nCount Values\")\n",
    "print(label_counts)"
   ]
  },
  {
   "cell_type": "code",
   "execution_count": 31,
   "id": "e17780f2",
   "metadata": {},
   "outputs": [
    {
     "data": {
      "text/plain": [
       "0    I purchased the gift card a a Father 's day pr...\n",
       "1    Purchased a a gift for a friend . Delivery wa ...\n",
       "2                         MY CODE WAS INVALID One Star\n",
       "3                     I HAVE NEVER HAD ONE Three Stars\n",
       "4    The card itself wa a scratched up so for gift ...\n",
       "Name: reviews_after_preprocessing, dtype: object"
      ]
     },
     "execution_count": 31,
     "metadata": {},
     "output_type": "execute_result"
    }
   ],
   "source": [
    "from nltk.tokenize import word_tokenize\n",
    "\n",
    "# Define the list of stopwords and create the lemmatizer object\n",
    "stop_words = set(stopwords.words('english'))\n",
    "lemmatizer = WordNetLemmatizer()\n",
    "\n",
    "def preprocess_text(text):\n",
    "    # Tokenize the text using NLTK\n",
    "    tokens = word_tokenize(text)\n",
    "\n",
    "    # Remove stopwords\n",
    "#    tokens = [token for token in tokens if token.lower() not in stop_words]\n",
    "\n",
    "    # Lemmatize each word\n",
    "    tokens = [lemmatizer.lemmatize(token) for token in tokens]\n",
    "\n",
    "    # Join tokens back into text\n",
    "    preprocessed_text = ' '.join(tokens)\n",
    "\n",
    "    return preprocessed_text\n",
    "\n",
    "\n",
    "subset_data['reviews_after_preprocessing'] = subset_balanced['combined_text'].apply(preprocess_text)\n",
    "subset_data['reviews_after_preprocessing'].head()"
   ]
  },
  {
   "cell_type": "markdown",
   "id": "d8eb0269",
   "metadata": {},
   "source": [
    "### c. Split the data into 70% for training and 30% for testing,—Use stratified splitting based on the rating value field."
   ]
  },
  {
   "cell_type": "code",
   "execution_count": 32,
   "id": "048efba6",
   "metadata": {},
   "outputs": [
    {
     "name": "stdout",
     "output_type": "stream",
     "text": [
      "(5111,) (5111,)\n",
      "(2191,) (2191,)\n",
      "4381    Came a described . The box it came in wa adora...\n",
      "2542    very cute . The person who received the card l...\n",
      "6119    Bait-and-switch : While browsing Amazon , I wa...\n",
      "1576    Amazon gift card are the most requested gift i...\n",
      "2895    Great for a 17 year old grandson . Gift for te...\n",
      "7052    I give many Amazon gift card each year . Peopl...\n",
      "6430    Not bad considering it wa free . You essential...\n",
      "2907    Gift for my niece . She loved it because wa cu...\n",
      "1083    Easy to process and send to recipient ! Five S...\n",
      "604     Great looking tin , great for a gift . Male or...\n",
      "3836    Given a a Christmas gift I guess it worked out...\n",
      "3223    Everybody love to get an amazon gift card ! Bo...\n",
      "4590    I gave these a christmas gift to my niece and ...\n",
      "6198    I expected the recipient to be able to shop at...\n",
      "259     What can you say , it 's a gift card . Really ...\n",
      "1001    Card did n't even work what a waste of money ,...\n",
      "2530    Great idea for kid to color gift for teacher '...\n",
      "3725    I sent the gift card thru facebook to 16 year ...\n",
      "2883    The food is good but the process need some wor...\n",
      "2286                  Have already received it Five Stars\n",
      "Name: reviews_after_preprocessing, dtype: object\n",
      "4381    positive\n",
      "2542    positive\n",
      "6119    negative\n",
      "1576    positive\n",
      "2895    positive\n",
      "7052    positive\n",
      "6430     neutral\n",
      "2907    positive\n",
      "1083    positive\n",
      "604     positive\n",
      "3836     neutral\n",
      "3223    positive\n",
      "4590     neutral\n",
      "6198    negative\n",
      "259      neutral\n",
      "1001    negative\n",
      "2530     neutral\n",
      "3725     neutral\n",
      "2883     neutral\n",
      "2286    positive\n",
      "Name: rating_label, dtype: object\n"
     ]
    }
   ],
   "source": [
    "from sklearn.model_selection import StratifiedShuffleSplit\n",
    "\n",
    "X = subset_data['reviews_after_preprocessing']\n",
    "y = subset_data['rating_label']\n",
    "\n",
    "# Create a StratifiedShuffleSplit object for the first split\n",
    "split_initial = StratifiedShuffleSplit(n_splits=1, test_size=0.3, random_state=42)\n",
    "\n",
    "# Split the data into training/validation and test sets\n",
    "for train_index, test_index in split_initial.split(X, y):\n",
    "    X_train = X[train_index]\n",
    "    y_train = y[train_index]\n",
    "    X_test = X[test_index]\n",
    "    y_test = y[test_index]\n",
    "\n",
    "print(X_train.shape, y_train.shape)\n",
    "print(X_test.shape, y_test.shape)\n",
    "\n",
    "print(X_train.head(20))\n",
    "print(y_train.head(20))"
   ]
  },
  {
   "cell_type": "markdown",
   "id": "91b86ddc-3df8-4c7e-9a6c-67582fcb96a1",
   "metadata": {},
   "source": [
    "### d.\tRepresent the text using one of the text represtations discussed in the course, make sure to note in your report why you chose that representation."
   ]
  },
  {
   "cell_type": "code",
   "execution_count": 34,
   "id": "00f9d58d",
   "metadata": {},
   "outputs": [
    {
     "name": "stdout",
     "output_type": "stream",
     "text": [
      "Shape of X_train_text: (5111, 300)\n",
      "Shape of X_test_text: (2191, 300)\n"
     ]
    }
   ],
   "source": [
    "from gensim.models import KeyedVectors\n",
    "import numpy as np\n",
    "\n",
    "# Function to load Word2Vec embeddings from file\n",
    "def load_word2vec_embeddings(file_path):\n",
    "    word2vec_model = KeyedVectors.load_word2vec_format(file_path, binary=True)\n",
    "    return word2vec_model\n",
    "\n",
    "# Load Word2Vec embeddings (example file path)\n",
    "word2vec_file_path = r\"C:\\users\\saman\\Downloads\\GoogleNews-vectors-negative300.bin\" \n",
    "word2vec_embeddings = load_word2vec_embeddings(word2vec_file_path)\n",
    "\n",
    "# Function to vectorize text using Word2Vec embeddings\n",
    "def vectorize_text_with_word2vec(text, embeddings_model, embedding_dim):\n",
    "    vectorized_text = []\n",
    "    for sentence in text:\n",
    "        sentence_vector = []\n",
    "        for word in sentence.split():\n",
    "            if word in embeddings_model:\n",
    "                sentence_vector.append(embeddings_model[word])\n",
    "        if sentence_vector:\n",
    "            vectorized_text.append(np.mean(sentence_vector, axis=0))\n",
    "        else:\n",
    "            vectorized_text.append(np.zeros(embedding_dim))\n",
    "    return np.array(vectorized_text)\n",
    "\n",
    "# Assuming Word2Vec embeddings of dimension 300\n",
    "embedding_dim = 300 \n",
    "\n",
    "X_train_textr = vectorize_text_with_word2vec(X_train, word2vec_embeddings, embedding_dim)\n",
    "X_test_textr = vectorize_text_with_word2vec(X_test, word2vec_embeddings, embedding_dim)\n",
    "\n",
    "print(\"Shape of X_train_text:\", X_train_textr.shape)\n",
    "print(\"Shape of X_test_text:\", X_test_textr.shape)\n",
    "\n"
   ]
  },
  {
   "cell_type": "markdown",
   "id": "74b663aa",
   "metadata": {},
   "source": [
    "### e.\tBuild two sentiment analysis models using 70% of the data. Choose two of the following Machine Learning algorithms to build and fine tune your models:"
   ]
  },
  {
   "cell_type": "markdown",
   "id": "d886c998",
   "metadata": {},
   "source": [
    "#### Logistic Regression "
   ]
  },
  {
   "cell_type": "code",
   "execution_count": 36,
   "id": "aa8ee4f7",
   "metadata": {
    "scrolled": false
   },
   "outputs": [
    {
     "name": "stderr",
     "output_type": "stream",
     "text": [
      "C:\\Users\\saman\\anaconda3\\Lib\\site-packages\\sklearn\\linear_model\\_logistic.py:460: ConvergenceWarning: lbfgs failed to converge (status=1):\n",
      "STOP: TOTAL NO. of ITERATIONS REACHED LIMIT.\n",
      "\n",
      "Increase the number of iterations (max_iter) or scale the data as shown in:\n",
      "    https://scikit-learn.org/stable/modules/preprocessing.html\n",
      "Please also refer to the documentation for alternative solver options:\n",
      "    https://scikit-learn.org/stable/modules/linear_model.html#logistic-regression\n",
      "  n_iter_i = _check_optimize_result(\n"
     ]
    }
   ],
   "source": [
    "from sklearn.linear_model import LogisticRegression\n",
    "\n",
    "# Build and fine-tune sentiment analysis models\n",
    "# Model 1: Logistic Regression\n",
    "logreg = LogisticRegression()\n",
    "logreg.fit(X_train_textr, y_train)\n",
    "\n",
    "# Make predictions on test data\n",
    "y_pred_class = logreg.predict(X_test_textr)\n"
   ]
  },
  {
   "cell_type": "code",
   "execution_count": 37,
   "id": "0e0685cf",
   "metadata": {},
   "outputs": [],
   "source": [
    "#Step 4: Evaluate the classifier using various measures\n",
    "\n",
    "# Function to plot confusion matrix. \n",
    "# Ref:http://scikit-learn.org/stable/auto_examples/model_selection/plot_confusion_matrix.html\n",
    "import numpy as np\n",
    "import itertools\n",
    "from sklearn.metrics import roc_auc_score\n",
    "from sklearn.metrics import accuracy_score, classification_report, confusion_matrix\n",
    "\n",
    "def plot_confusion_matrix(cm, classes,\n",
    "                          normalize=False,\n",
    "                          title='Confusion matrix',\n",
    "                          cmap=plt.cm.Blues):\n",
    "    \"\"\"\n",
    "    This function prints and plots the confusion matrix.\n",
    "    Normalization can be applied by setting `normalize=True`.\n",
    "    \"\"\"\n",
    "    if normalize:\n",
    "        cm = cm.astype('float') / cm.sum(axis=1)[:, np.newaxis]\n",
    "\n",
    "    plt.imshow(cm, interpolation='nearest', cmap=cmap)\n",
    "    plt.title(title)\n",
    "    plt.colorbar()\n",
    "    tick_marks = np.arange(len(classes))\n",
    "    plt.xticks(tick_marks, classes, rotation=45)\n",
    "    plt.yticks(tick_marks, classes)\n",
    "\n",
    "    fmt = '.2f' if normalize else 'd'\n",
    "    thresh = cm.max() / 2.\n",
    "    for i, j in itertools.product(range(cm.shape[0]), range(cm.shape[1])):\n",
    "        plt.text(j, i, format(cm[i, j], fmt),\n",
    "                 horizontalalignment=\"center\",\n",
    "                 color=\"white\" if cm[i, j] > thresh else \"black\")\n",
    "\n",
    "    plt.tight_layout()\n",
    "    plt.ylabel('True label',fontsize=15)\n",
    "    plt.xlabel('Predicted label',fontsize=15)\n",
    "\n",
    "\n",
    "\n"
   ]
  },
  {
   "cell_type": "code",
   "execution_count": 38,
   "id": "5d464b95",
   "metadata": {},
   "outputs": [
    {
     "name": "stdout",
     "output_type": "stream",
     "text": [
      "Accuracy:  0.7608397991784573\n",
      "AUC:  0.9021535954403598\n",
      "Classification Report:\n",
      "              precision    recall  f1-score   support\n",
      "\n",
      "    negative       0.74      0.76      0.75       730\n",
      "     neutral       0.67      0.69      0.68       730\n",
      "    positive       0.87      0.83      0.85       731\n",
      "\n",
      "    accuracy                           0.76      2191\n",
      "   macro avg       0.76      0.76      0.76      2191\n",
      "weighted avg       0.76      0.76      0.76      2191\n",
      "\n"
     ]
    },
    {
     "data": {
      "image/png": "[encoded data removed]",
      "text/plain": [
       "<Figure size 800x600 with 2 Axes>"
      ]
     },
     "metadata": {},
     "output_type": "display_data"
    }
   ],
   "source": [
    "y_pred_prob = logreg.predict_proba(X_test_textr)\n",
    "\n",
    "#calculate evaluation measuresfor Logistic Regression\n",
    "print(\"Accuracy: \", accuracy_score(y_test, y_pred_class))\n",
    "print(\"AUC: \", roc_auc_score(y_test, y_pred_prob, multi_class='ovr'))\n",
    "# Other metrics\n",
    "print(\"Classification Report:\")\n",
    "print(classification_report(y_test, y_pred_class))\n",
    "cnf_matrix = confusion_matrix(y_test, y_pred_class)\n",
    "plt.figure(figsize=(8,6))\n",
    "\n",
    "plot_confusion_matrix(cnf_matrix, classes=['Negative','Neutral', 'Positive'],normalize=True,\n",
    "                      title='Confusion matrix with all features')\n",
    "\n",
    "acc_lg_test = accuracy_score(y_test, y_pred_class)"
   ]
  },
  {
   "cell_type": "markdown",
   "id": "902108fa",
   "metadata": {},
   "source": [
    "#### Support Vector Machine (SVM):"
   ]
  },
  {
   "cell_type": "code",
   "execution_count": 39,
   "id": "26ed49e8",
   "metadata": {
    "scrolled": false
   },
   "outputs": [
    {
     "name": "stdout",
     "output_type": "stream",
     "text": [
      "Accuracy:  0.7713372889091739\n",
      "AUC:  0.9100260197496493\n",
      "Classification Report:\n",
      "              precision    recall  f1-score   support\n",
      "\n",
      "    negative       0.77      0.74      0.76       730\n",
      "     neutral       0.67      0.72      0.70       730\n",
      "    positive       0.88      0.85      0.87       731\n",
      "\n",
      "    accuracy                           0.77      2191\n",
      "   macro avg       0.77      0.77      0.77      2191\n",
      "weighted avg       0.77      0.77      0.77      2191\n",
      "\n"
     ]
    },
    {
     "data": {
      "image/png": "[encoded data removed]",
      "text/plain": [
       "<Figure size 800x600 with 2 Axes>"
      ]
     },
     "metadata": {},
     "output_type": "display_data"
    }
   ],
   "source": [
    "from sklearn.svm import SVC\n",
    "\n",
    "# Instantiate the SVM model with 'rbf' kernel and class_weight='balanced'\n",
    "svm = SVC(kernel='rbf',  probability=True)\n",
    "\n",
    "# Fit the model with training data\n",
    "svm.fit(X_train_textr, y_train)\n",
    "\n",
    "# Make predictions on test data\n",
    "y_pred_class = svm.predict(X_test_textr)\n",
    "\n",
    "# Obtain predicted probabilities for each class\n",
    "y_pred_prob = svm.predict_proba(X_test_textr)\n",
    "acc_SVM_test = accuracy_score(y_test, y_pred_class)\n",
    "\n",
    "# Calculate evaluation measures:\n",
    "print(\"Accuracy: \", accuracy_score(y_test, y_pred_class))\n",
    "print(\"AUC: \", roc_auc_score(y_test, y_pred_prob, multi_class='ovr'))\n",
    "\n",
    "# Other metrics\n",
    "print(\"Classification Report:\")\n",
    "print(classification_report(y_test, y_pred_class))\n",
    "\n",
    "# Plot confusion matrix\n",
    "cnf_matrix = confusion_matrix(y_test, y_pred_class)\n",
    "plt.figure(figsize=(8,6))\n",
    "plot_confusion_matrix(cnf_matrix, classes=['Negative','Neutral', 'Positive'],normalize=True,\n",
    "                      title='Confusion matrix with all features')"
   ]
  },
  {
   "cell_type": "markdown",
   "id": "07285f0c",
   "metadata": {},
   "source": [
    "#### Naive Bayes:"
   ]
  },
  {
   "cell_type": "code",
   "execution_count": 40,
   "id": "6a56b00c",
   "metadata": {},
   "outputs": [
    {
     "name": "stdout",
     "output_type": "stream",
     "text": [
      "Accuracy:  0.49748973071656777\n",
      "AUC:  0.7055373708342222\n",
      "Classification Report:\n",
      "              precision    recall  f1-score   support\n",
      "\n",
      "    negative       0.44      0.85      0.58       730\n",
      "     neutral       0.56      0.15      0.24       730\n",
      "    positive       0.61      0.49      0.54       731\n",
      "\n",
      "    accuracy                           0.50      2191\n",
      "   macro avg       0.54      0.50      0.46      2191\n",
      "weighted avg       0.54      0.50      0.46      2191\n",
      "\n"
     ]
    },
    {
     "data": {
      "image/png": "[encoded data removed]",
      "text/plain": [
       "<Figure size 800x600 with 2 Axes>"
      ]
     },
     "metadata": {},
     "output_type": "display_data"
    }
   ],
   "source": [
    "\n",
    "from sklearn.naive_bayes import GaussianNB\n",
    "\n",
    "# Initialize Gaussian Naive Bayes classifier\n",
    "gaussian_nb = GaussianNB()\n",
    "\n",
    "# Train the model on the training data\n",
    "gaussian_nb.fit(X_train_textr, y_train)\n",
    "\n",
    "# Predict sentiment labels for the testing data\n",
    "y_pred_class = gaussian_nb.predict(X_test_textr)\n",
    "\n",
    "# Obtain predicted probabilities for each class\n",
    "y_pred_prob = gaussian_nb.predict_proba(X_test_textr)\n",
    "acc_NB_test = accuracy_score(y_test, y_pred_class)\n",
    "\n",
    "#calculate evaluation measures:\n",
    "print(\"Accuracy: \", accuracy_score(y_test, y_pred_class))\n",
    "print(\"AUC: \", roc_auc_score(y_test, y_pred_prob, multi_class='ovr'))\n",
    "# Other metrics\n",
    "print(\"Classification Report:\")\n",
    "print(classification_report(y_test, y_pred_class))\n",
    "cnf_matrix = confusion_matrix(y_test, y_pred_class)\n",
    "plt.figure(figsize=(8,6))\n",
    "\n",
    "plot_confusion_matrix(cnf_matrix, classes=['Negative','Neutral', 'Positive'],normalize=True,\n",
    "                      title='Confusion matrix with all features')"
   ]
  },
  {
   "cell_type": "markdown",
   "id": "f6b936bd",
   "metadata": {},
   "source": [
    "#### Gradient Boosting: "
   ]
  },
  {
   "cell_type": "code",
   "execution_count": 41,
   "id": "57dead64",
   "metadata": {
    "scrolled": false
   },
   "outputs": [
    {
     "name": "stdout",
     "output_type": "stream",
     "text": [
      "Accuracy:  0.7165677772706527\n",
      "AUC:  0.8811895811941602\n",
      "Classification Report:\n",
      "              precision    recall  f1-score   support\n",
      "\n",
      "    negative       0.71      0.72      0.71       730\n",
      "     neutral       0.63      0.62      0.62       730\n",
      "    positive       0.81      0.81      0.81       731\n",
      "\n",
      "    accuracy                           0.72      2191\n",
      "   macro avg       0.72      0.72      0.72      2191\n",
      "weighted avg       0.72      0.72      0.72      2191\n",
      "\n"
     ]
    },
    {
     "data": {
      "image/png": "[encoded data removed]",
      "text/plain": [
       "<Figure size 800x600 with 2 Axes>"
      ]
     },
     "metadata": {},
     "output_type": "display_data"
    }
   ],
   "source": [
    "from sklearn.ensemble import GradientBoostingClassifier\n",
    "\n",
    "# Initialize the Gradient Boosting model\n",
    "gradient_boosting = GradientBoostingClassifier()\n",
    "\n",
    "# Train the model on the training data\n",
    "gradient_boosting.fit(X_train_textr, y_train)\n",
    "\n",
    "# Predict sentiment labels for the testing data\n",
    "y_pred_class = gradient_boosting.predict(X_test_textr)\n",
    "\n",
    "# Obtain predicted probabilities for each class\n",
    "y_pred_prob = gradient_boosting.predict_proba(X_test_textr)\n",
    "acc_GB_test = accuracy_score(y_test, y_pred_class)\n",
    "\n",
    "#calculate evaluation measures:\n",
    "print(\"Accuracy: \", accuracy_score(y_test, y_pred_class))\n",
    "print(\"AUC: \", roc_auc_score(y_test, y_pred_prob, multi_class='ovr'))\n",
    "# Other metrics\n",
    "print(\"Classification Report:\")\n",
    "print(classification_report(y_test, y_pred_class))\n",
    "cnf_matrix = confusion_matrix(y_test, y_pred_class)\n",
    "plt.figure(figsize=(8,6))\n",
    "\n",
    "plot_confusion_matrix(cnf_matrix, classes=['Negative','Neutral', 'Positive'],normalize=True,\n",
    "                      title='Confusion matrix with all features')\n",
    "\n"
   ]
  },
  {
   "cell_type": "markdown",
   "id": "682c03f9",
   "metadata": {},
   "source": [
    "#### Multi-layer Perceptron (MLP):"
   ]
  },
  {
   "cell_type": "code",
   "execution_count": 42,
   "id": "ce631b01",
   "metadata": {
    "scrolled": false
   },
   "outputs": [
    {
     "name": "stderr",
     "output_type": "stream",
     "text": [
      "C:\\Users\\saman\\anaconda3\\Lib\\site-packages\\sklearn\\neural_network\\_multilayer_perceptron.py:691: ConvergenceWarning: Stochastic Optimizer: Maximum iterations (200) reached and the optimization hasn't converged yet.\n",
      "  warnings.warn(\n"
     ]
    },
    {
     "name": "stdout",
     "output_type": "stream",
     "text": [
      "Accuracy:  0.762665449566408\n",
      "AUC:  0.9095545304327617\n",
      "Classification Report:\n",
      "              precision    recall  f1-score   support\n",
      "\n",
      "    negative       0.76      0.75      0.76       730\n",
      "     neutral       0.67      0.70      0.69       730\n",
      "    positive       0.86      0.84      0.85       731\n",
      "\n",
      "    accuracy                           0.76      2191\n",
      "   macro avg       0.76      0.76      0.76      2191\n",
      "weighted avg       0.76      0.76      0.76      2191\n",
      "\n"
     ]
    },
    {
     "data": {
      "image/png": "[encoded data removed]",
      "text/plain": [
       "<Figure size 800x600 with 2 Axes>"
      ]
     },
     "metadata": {},
     "output_type": "display_data"
    }
   ],
   "source": [
    "from sklearn.neural_network import MLPClassifier\n",
    "\n",
    "# Initialize the MLP model\n",
    "mlp_model = MLPClassifier()\n",
    "\n",
    "# Train the model on the training data\n",
    "mlp_model.fit(X_train_textr, y_train)\n",
    "\n",
    "# Predict sentiment labels for the testing data\n",
    "y_pred_class = mlp_model.predict(X_test_textr)\n",
    "\n",
    "# Obtain predicted probabilities for each class\n",
    "y_pred_prob = mlp_model.predict_proba(X_test_textr)\n",
    "acc_MLP_test = accuracy_score(y_test, y_pred_class)\n",
    "\n",
    "#calculate evaluation measures:\n",
    "print(\"Accuracy: \", accuracy_score(y_test, y_pred_class))\n",
    "print(\"AUC: \", roc_auc_score(y_test, y_pred_prob, multi_class='ovr'))\n",
    "# Other metrics\n",
    "print(\"Classification Report:\")\n",
    "print(classification_report(y_test, y_pred_class))\n",
    "cnf_matrix = confusion_matrix(y_test, y_pred_class)\n",
    "plt.figure(figsize=(8,6))\n",
    "\n",
    "plot_confusion_matrix(cnf_matrix, classes=['Negative','Neutral', 'Positive'],normalize=True,\n",
    "                      title='Confusion matrix with all features')"
   ]
  },
  {
   "cell_type": "code",
   "execution_count": 43,
   "id": "fa60308f",
   "metadata": {},
   "outputs": [
    {
     "name": "stdout",
     "output_type": "stream",
     "text": [
      "\n",
      "=========================================\n",
      "ACCURACY OF MODELS WITH DATASET TESTING\n",
      "Accuracy Logistic Regresion: 76.08%\n",
      "Accuracy SVM Model: 77.13%\n",
      "Accuracy Naive Bayes Model: 49.75%\n",
      "Accuracy Gradient Boosting: 71.66%\n",
      "Accuracy MLP: 76.27%\n"
     ]
    }
   ],
   "source": [
    "print('\\n=========================================')\n",
    "print('ACCURACY OF MODELS WITH DATASET TESTING')\n",
    "print(\"Accuracy Logistic Regresion: {:.2%}\".format(acc_lg_test))\n",
    "print(\"Accuracy SVM Model: {:.2%}\".format(acc_SVM_test))\n",
    "print(\"Accuracy Naive Bayes Model: {:.2%}\".format(acc_NB_test))\n",
    "print(\"Accuracy Gradient Boosting: {:.2%}\".format(acc_GB_test))\n",
    "print(\"Accuracy MLP: {:.2%}\".format(acc_MLP_test))"
   ]
  },
  {
   "cell_type": "code",
   "execution_count": 44,
   "id": "b0a9b763",
   "metadata": {},
   "outputs": [
    {
     "name": "stdout",
     "output_type": "stream",
     "text": [
      "Logistic Regression Model:\n",
      "Predictions: ['positive' 'negative' 'negative' 'positive' 'positive' 'neutral'\n",
      " 'neutral']\n",
      "Accuracy Logistic Regresion: 0.7142857142857143\n",
      "\n",
      "SVM Model:\n",
      "Predictions: ['positive' 'negative' 'negative' 'positive' 'positive' 'neutral'\n",
      " 'neutral']\n",
      "Accuracy SVM Model: 0.7142857142857143\n",
      "\n",
      "Naive Bayes Model:\n",
      "Predictions: ['positive' 'positive' 'neutral' 'positive' 'positive' 'positive'\n",
      " 'negative']\n",
      "Accuracy Naive Bayes Model: 0.2857142857142857\n",
      "\n",
      "Gradient Boosting Model:\n",
      "Predictions: ['positive' 'neutral' 'neutral' 'neutral' 'positive' 'neutral' 'negative']\n",
      "Accuracy Gradient Boosting: 0.7142857142857143\n",
      "\n",
      "MLP Model:\n",
      "Predictions: ['positive' 'negative' 'negative' 'positive' 'positive' 'positive'\n",
      " 'negative']\n",
      "Accuracy MLP: 0.42857142857142855\n",
      "VADER Model:\n",
      "positive\n",
      "positive\n",
      "negative\n",
      "neutral\n",
      "positive\n",
      "neutral\n",
      "positive\n",
      "Accuracy VADER: 0.7142857142857143\n"
     ]
    }
   ],
   "source": [
    "# Test texts\n",
    "test_texts = [\n",
    "    \"This product is amazing!\",\n",
    "    \"It is not bad\",\n",
    "    \"I hate this product, it's terrible\",\n",
    "    \" xxxx\", \n",
    "    \"This product is great!\",\n",
    "    \"so so\",\n",
    "    \"This product is not bad, but it could be better\"\n",
    "]\n",
    "\n",
    "y_texts = [   \n",
    "    \"positive\",\n",
    "    \"neutral\",\n",
    "    \"negative\",\n",
    "    \"neutral\", \n",
    "    \"positive\",\n",
    "    \"neutral\",\n",
    "    \"neutral\"\n",
    "    ]\n",
    "# Preprocess the test texts\n",
    "preprocessed_test_texts = [preprocess_text(text) for text in test_texts]\n",
    "\n",
    "# Vectorize the preprocessed test texts using Word2vec\n",
    "X_test_vectorized = vectorize_text_with_word2vec(preprocessed_test_texts, word2vec_embeddings, embedding_dim)\n",
    "\n",
    "# Test Logistic Regression model\n",
    "print(\"Logistic Regression Model:\")\n",
    "# Make predictions\n",
    "y_pred_logreg = logreg.predict(X_test_vectorized)\n",
    "print(\"Predictions:\", y_pred_logreg)\n",
    "# Calculate accuracy\n",
    "accuracy_logreg = accuracy_score(y_texts, y_pred_logreg)\n",
    "print(\"Accuracy Logistic Regresion:\", accuracy_logreg)\n",
    "\n",
    "# Test SVM model\n",
    "print(\"\\nSVM Model:\")\n",
    "# Make predictions\n",
    "y_pred_svm = svm.predict(X_test_vectorized)\n",
    "print(\"Predictions:\", y_pred_svm)\n",
    "# Calculate accuracy\n",
    "accuracy_svm = accuracy_score(y_texts, y_pred_svm)\n",
    "print(\"Accuracy SVM Model:\", accuracy_svm)\n",
    "\n",
    "# Test Naive Bayes model\n",
    "print(\"\\nNaive Bayes Model:\")\n",
    "# Make predictions\n",
    "y_pred_naive_bayes = gaussian_nb.predict(X_test_vectorized)\n",
    "print(\"Predictions:\", y_pred_naive_bayes)\n",
    "# Calculate accuracy\n",
    "accuracy_naive_bayes = accuracy_score(y_texts, y_pred_naive_bayes)\n",
    "print(\"Accuracy Naive Bayes Model:\", accuracy_naive_bayes)\n",
    "\n",
    "# Test Gradient Boosting model\n",
    "print(\"\\nGradient Boosting Model:\")\n",
    "# Make predictions\n",
    "y_pred_gradient_boosting = gradient_boosting.predict(X_test_vectorized)\n",
    "print(\"Predictions:\", y_pred_gradient_boosting)\n",
    "# Calculate accuracy\n",
    "accuracy_gradient_boosting = accuracy_score(y_texts, y_pred_gradient_boosting)\n",
    "print(\"Accuracy Gradient Boosting:\", accuracy_gradient_boosting)\n",
    "\n",
    "# Test MLP model\n",
    "print(\"\\nMLP Model:\")\n",
    "# Make predictions\n",
    "y_pred_mlp = mlp_model.predict(X_test_vectorized)\n",
    "print(\"Predictions:\", y_pred_mlp)\n",
    "# Calculate accuracy\n",
    "accuracy_mlp = accuracy_score(y_texts, y_pred_mlp)\n",
    "print(\"Accuracy MLP:\", accuracy_mlp)\n",
    "\n",
    "\n",
    "import pickle\n",
    "# Load the VADER model from the file\n",
    "with open(\"vader_model_part1.pkl\", 'rb') as f:\n",
    "    vader_model = pickle.load(f)\n",
    "      \n",
    "# Test VADER model\n",
    "print(\"VADER Model:\")\n",
    "y_pred_vader = []\n",
    "for text in preprocessed_test_texts:\n",
    "    score = vader_model.polarity_scores(text)['compound']\n",
    "    if score > 0:\n",
    "        print(\"positive\")\n",
    "        y_pred_vader.append('positive')\n",
    "    elif score < 0:\n",
    "        print(\"negative\")\n",
    "        y_pred_vader.append('negative')\n",
    "    else:\n",
    "        print(\"neutral\")\n",
    "        y_pred_vader.append('neutral')\n",
    "\n",
    "\n",
    "# Calculate accuracy\n",
    "accuracy_vader = accuracy_score(y_texts, y_pred_vader)\n",
    "print(\"Accuracy VADER:\", accuracy_vader)"
   ]
  },
  {
   "cell_type": "code",
   "execution_count": 45,
   "id": "4ec8c1ad",
   "metadata": {},
   "outputs": [
    {
     "name": "stdout",
     "output_type": "stream",
     "text": [
      "\n",
      "=========================================\n",
      "Accuracy Logistic Regresion: 71.43%\n",
      "Accuracy SVM Model: 71.43%\n",
      "Accuracy Naive Bayes Model: 28.57%\n",
      "Accuracy Gradient Boosting: 71.43%\n",
      "Accuracy MLP: 42.86%\n",
      "Accuracy VADER: 71.43%\n"
     ]
    }
   ],
   "source": [
    "#COMPARE ACCUARACY\n",
    "print('\\n=========================================')\n",
    "print(\"Accuracy Logistic Regresion: {:.2%}\".format(accuracy_logreg))\n",
    "print(\"Accuracy SVM Model: {:.2%}\".format(accuracy_svm))\n",
    "print(\"Accuracy Naive Bayes Model: {:.2%}\".format(accuracy_naive_bayes))\n",
    "print(\"Accuracy Gradient Boosting: {:.2%}\".format(accuracy_gradient_boosting))\n",
    "print(\"Accuracy MLP: {:.2%}\".format(accuracy_mlp))\n",
    "print(\"Accuracy VADER: {:.2%}\".format(accuracy_vader))"
   ]
  },
  {
   "cell_type": "code",
   "execution_count": 46,
   "id": "ad2d02c9",
   "metadata": {},
   "outputs": [
    {
     "name": "stdout",
     "output_type": "stream",
     "text": [
      "\n",
      "Records where enhanced rating differs from actual rating:\n",
      "\n",
      "Actual Rating: Negative\n",
      "Enhanced Rating: Neutral\n",
      "Actual Rating: Negative\n",
      "Enhanced Rating: Neutral\n",
      "Actual Rating: Neutral\n",
      "Enhanced Rating: Positive\n",
      "Actual Rating: Negative\n",
      "Enhanced Rating: Neutral\n",
      "Actual Rating: Negative\n",
      "Enhanced Rating: Neutral\n",
      "Actual Rating: Negative\n",
      "Enhanced Rating: Neutral\n",
      "Actual Rating: Neutral\n",
      "Enhanced Rating: Negative\n",
      "Actual Rating: Neutral\n",
      "Enhanced Rating: Positive\n",
      "Actual Rating: Positive\n",
      "Enhanced Rating: Neutral\n",
      "Actual Rating: Negative\n",
      "Enhanced Rating: Neutral\n",
      "Actual Rating: Neutral\n",
      "Enhanced Rating: Positive\n",
      "Actual Rating: Neutral\n",
      "Enhanced Rating: Negative\n",
      "Actual Rating: Negative\n",
      "Enhanced Rating: Neutral\n",
      "Actual Rating: Neutral\n",
      "Enhanced Rating: Negative\n",
      "Actual Rating: Neutral\n",
      "Enhanced Rating: Negative\n",
      "Actual Rating: Neutral\n",
      "Enhanced Rating: Positive\n",
      "Actual Rating: Negative\n",
      "Enhanced Rating: Neutral\n",
      "Actual Rating: Negative\n",
      "Enhanced Rating: Neutral\n",
      "\n",
      "Same Rating: 82.00%\n",
      "Same Ratings Count: 82\n",
      "Different Ratings Count: 18\n"
     ]
    }
   ],
   "source": [
    "\"\"\" 16. a.Enhance the rating values \"\"\"\n",
    "from sklearn.metrics import mean_squared_error\n",
    "\n",
    "X_enhance = X_test[:100]  \n",
    "y_enhance = y_test[:100]\n",
    "\n",
    "def enhanced_rating(X_enhance, y_enhance):\n",
    "    \n",
    "    sentiment_lr = logreg.predict(X_enhance)\n",
    "    sentiment_svm = svm.predict(X_enhance)\n",
    "    \n",
    "    # Mapear etiquetas de sentimiento a valores numéricos\n",
    "    sentiment_mapping = {'positive': 2, 'neutral': 1, 'negative': 0}\n",
    "    sentiment_lr_numeric = np.array([sentiment_mapping[label] for label in sentiment_lr])\n",
    "    sentiment_svm_numeric = np.array([sentiment_mapping[label] for label in sentiment_svm])\n",
    "    y_enhance_numeric = np.array([sentiment_mapping[label] for label in y_enhance])\n",
    "\n",
    "    best_weights = None\n",
    "    lowest_mse = float('inf')\n",
    "\n",
    "\n",
    "    # Grid search for weights\n",
    "    for alpha in range(0, 11):\n",
    "        lg_weight = alpha / 10\n",
    "        svm_weight = 1 - lg_weight\n",
    "        \n",
    "        # Combine predictions using a linear combination\n",
    "        enhanced_rating = np.multiply(lg_weight, sentiment_lr_numeric) + np.multiply(svm_weight, 1 - sentiment_svm_numeric)\n",
    "        \n",
    "        # Calculate MSE\n",
    "        mse = mean_squared_error(y_enhance_numeric, enhanced_rating)\n",
    "        \n",
    "        # Check if this MSE is the lowest found so far\n",
    "        if mse < lowest_mse:\n",
    "            lowest_mse = mse\n",
    "            best_weights = (lg_weight, svm_weight)\n",
    "    \n",
    "    enhanced_rating = (best_weights[0] * sentiment_lr_numeric) + (best_weights[1] * (1 - sentiment_svm_numeric))\n",
    "\n",
    "    final_results = pd.DataFrame()\n",
    "    final_results[\"actual_rating\"] = y_enhance_numeric \n",
    "    final_results[\"enhanced_rating\"] = enhanced_rating.round().astype(int)\n",
    "\n",
    "    return final_results\n",
    "\n",
    "\n",
    "X_enhance = vectorize_text_with_word2vec(X_enhance, word2vec_embeddings, embedding_dim)\n",
    "final_test_results = enhanced_rating(X_enhance, y_enhance)\n",
    "\n",
    "def map_rating_to_category(rating):\n",
    "    if rating == 2:\n",
    "        return \"Positive\"\n",
    "    elif rating == 1:\n",
    "        return \"Neutral\"\n",
    "    else:\n",
    "        return \"Negative\"\n",
    "\n",
    "total_records = len(final_test_results)\n",
    "same_count = 0\n",
    "\n",
    "\n",
    "print(\"\\nRecords where enhanced rating differs from actual rating:\\n\")\n",
    "for index in final_test_results.index:\n",
    "    if final_test_results.at[index, \"actual_rating\"] == final_test_results.at[index, \"enhanced_rating\"]:\n",
    "        same_count += 1\n",
    "    else:\n",
    "        actual_category = map_rating_to_category(final_test_results.at[index, \"actual_rating\"])\n",
    "        enhanced_category = map_rating_to_category(final_test_results.at[index, \"enhanced_rating\"])\n",
    "        print(\"Actual Rating:\", actual_category)\n",
    "        print(\"Enhanced Rating:\", enhanced_category)\n",
    "\n",
    "different_count = total_records - same_count\n",
    "accuracy = (same_count / total_records) * 100\n",
    "\n",
    "print(\"\\nSame Rating: {:.2f}%\".format(accuracy))\n",
    "print(\"Same Ratings Count:\", same_count)\n",
    "print(\"Different Ratings Count:\", different_count)"
   ]
  },
  {
   "cell_type": "code",
   "execution_count": 47,
   "id": "fb7b26e0",
   "metadata": {},
   "outputs": [
    {
     "name": "stdout",
     "output_type": "stream",
     "text": [
      "\n",
      "Records where enhanced rating differs from actual rating:\n",
      "\n",
      "Actual Rating: Negative\n",
      "Enhanced Rating: Neutral\n",
      "Actual Rating: Negative\n",
      "Enhanced Rating: Neutral\n",
      "Actual Rating: Neutral\n",
      "Enhanced Rating: Positive\n",
      "Actual Rating: Negative\n",
      "Enhanced Rating: Neutral\n",
      "Actual Rating: Negative\n",
      "Enhanced Rating: Neutral\n",
      "Actual Rating: Negative\n",
      "Enhanced Rating: Neutral\n",
      "Actual Rating: Neutral\n",
      "Enhanced Rating: Negative\n",
      "Actual Rating: Neutral\n",
      "Enhanced Rating: Positive\n",
      "Actual Rating: Positive\n",
      "Enhanced Rating: Neutral\n",
      "Actual Rating: Negative\n",
      "Enhanced Rating: Neutral\n",
      "Actual Rating: Neutral\n",
      "Enhanced Rating: Positive\n",
      "Actual Rating: Neutral\n",
      "Enhanced Rating: Negative\n",
      "Actual Rating: Negative\n",
      "Enhanced Rating: Neutral\n",
      "Actual Rating: Neutral\n",
      "Enhanced Rating: Negative\n",
      "Actual Rating: Neutral\n",
      "Enhanced Rating: Negative\n",
      "Actual Rating: Neutral\n",
      "Enhanced Rating: Positive\n",
      "Actual Rating: Negative\n",
      "Enhanced Rating: Neutral\n",
      "Actual Rating: Negative\n",
      "Enhanced Rating: Neutral\n",
      "\n",
      "Same Rating: 82.00%\n",
      "Same Ratings Count: 82\n",
      "Different Ratings Count: 18\n"
     ]
    }
   ],
   "source": [
    "\"\"\" 16. a.Enhance the rating values \"\"\"\n",
    "from sklearn.metrics import mean_squared_error\n",
    "\n",
    "X_enhance = X_test[:100]  \n",
    "y_enhance = y_test[:100]\n",
    "\n",
    "def enhanced_rating(X_enhance, y_enhance):\n",
    "    \n",
    "    sentiment_lr = logreg.predict(X_enhance)\n",
    "    sentiment_svm = gradient_boosting.predict(X_enhance)\n",
    "    \n",
    "    # Mapear etiquetas de sentimiento a valores numéricos\n",
    "    sentiment_mapping = {'positive': 2, 'neutral': 1, 'negative': 0}\n",
    "    sentiment_lr_numeric = np.array([sentiment_mapping[label] for label in sentiment_lr])\n",
    "    sentiment_svm_numeric = np.array([sentiment_mapping[label] for label in sentiment_svm])\n",
    "    y_enhance_numeric = np.array([sentiment_mapping[label] for label in y_enhance])\n",
    "\n",
    "    best_weights = None\n",
    "    lowest_mse = float('inf')\n",
    "\n",
    "\n",
    "    # Grid search for weights\n",
    "    for alpha in range(0, 11):\n",
    "        lg_weight = alpha / 10\n",
    "        svm_weight = 1 - lg_weight\n",
    "        \n",
    "        # Combine predictions using a linear combination\n",
    "        enhanced_rating = np.multiply(lg_weight, sentiment_lr_numeric) + np.multiply(svm_weight, 1 - sentiment_svm_numeric)\n",
    "        \n",
    "        # Calculate MSE\n",
    "        mse = mean_squared_error(y_enhance_numeric, enhanced_rating)\n",
    "        \n",
    "        # Check if this MSE is the lowest found so far\n",
    "        if mse < lowest_mse:\n",
    "            lowest_mse = mse\n",
    "            best_weights = (lg_weight, svm_weight)\n",
    "    \n",
    "    enhanced_rating = (best_weights[0] * sentiment_lr_numeric) + (best_weights[1] * (1 - sentiment_svm_numeric))\n",
    "\n",
    "    final_results = pd.DataFrame()\n",
    "    final_results[\"actual_rating\"] = y_enhance_numeric \n",
    "    final_results[\"enhanced_rating\"] = enhanced_rating.round().astype(int)\n",
    "\n",
    "    return final_results\n",
    "\n",
    "\n",
    "X_enhance = vectorize_text_with_word2vec(X_enhance, word2vec_embeddings, embedding_dim)\n",
    "final_test_results = enhanced_rating(X_enhance, y_enhance)\n",
    "\n",
    "def map_rating_to_category(rating):\n",
    "    if rating == 2:\n",
    "        return \"Positive\"\n",
    "    elif rating == 1:\n",
    "        return \"Neutral\"\n",
    "    else:\n",
    "        return \"Negative\"\n",
    "\n",
    "total_records = len(final_test_results)\n",
    "same_count = 0\n",
    "\n",
    "\n",
    "print(\"\\nRecords where enhanced rating differs from actual rating:\\n\")\n",
    "for index in final_test_results.index:\n",
    "    if final_test_results.at[index, \"actual_rating\"] == final_test_results.at[index, \"enhanced_rating\"]:\n",
    "        same_count += 1\n",
    "    else:\n",
    "        actual_category = map_rating_to_category(final_test_results.at[index, \"actual_rating\"])\n",
    "        enhanced_category = map_rating_to_category(final_test_results.at[index, \"enhanced_rating\"])\n",
    "        print(\"Actual Rating:\", actual_category)\n",
    "        print(\"Enhanced Rating:\", enhanced_category)\n",
    "\n",
    "different_count = total_records - same_count\n",
    "accuracy = (same_count / total_records) * 100\n",
    "\n",
    "print(\"\\nSame Rating: {:.2f}%\".format(accuracy))\n",
    "print(\"Same Ratings Count:\", same_count)\n",
    "print(\"Different Ratings Count:\", different_count)"
   ]
  },
  {
   "cell_type": "markdown",
   "id": "13e2f4e1",
   "metadata": {},
   "source": [
    "## Using a LLM model summarize the results into a 50 word. "
   ]
  },
  {
   "cell_type": "code",
   "execution_count": 51,
   "id": "61e98778",
   "metadata": {},
   "outputs": [
    {
     "name": "stdout",
     "output_type": "stream",
     "text": [
      "Number of duplicate rows considering reviewText: 898\n",
      "<class 'pandas.core.frame.DataFrame'>\n",
      "Index: 6826 entries, 83758 to 22946\n",
      "Data columns (total 2 columns):\n",
      " #   Column        Non-Null Count  Dtype \n",
      "---  ------        --------------  ----- \n",
      " 0   reviewText    6826 non-null   object\n",
      " 1   rating_label  6826 non-null   object\n",
      "dtypes: object(2)\n",
      "memory usage: 160.0+ KB\n",
      "Number of rows after removing duplicates: 6826\n",
      "Number of reviews with more tha 100 words:  (83, 2)\n",
      "                                               reviewText  word_count\n",
      "25749   I bought this as a Christmas gift because I'm ...         121\n",
      "78123   There are many ways to put a smile on your dau...         154\n",
      "104323  My husband and I were trying to figure out wha...         123\n",
      "116100  all 4 gift \"cards\" were received. the experien...         151\n",
      "811     I had ordered over $200.00 of Regal movie card...         110\n",
      "...                                                   ...         ...\n",
      "109343  DO NOT BUY THIS CRAP! I am so incredibly angry...         103\n",
      "66077   I had an amazon gift card and I decided to use...         104\n",
      "29177   I purchased the gift card as a present, and in...         140\n",
      "98212   Don't know what to give that person in your li...         106\n",
      "488     I am only disappointed in the check-out proces...         121\n",
      "\n",
      "[83 rows x 2 columns]\n"
     ]
    },
    {
     "name": "stderr",
     "output_type": "stream",
     "text": [
      "C:\\Users\\saman\\AppData\\Local\\Temp\\ipykernel_20604\\1466008649.py:81: SettingWithCopyWarning: \n",
      "A value is trying to be set on a copy of a slice from a DataFrame.\n",
      "Try using .loc[row_indexer,col_indexer] = value instead\n",
      "\n",
      "See the caveats in the documentation: https://pandas.pydata.org/pandas-docs/stable/user_guide/indexing.html#returning-a-view-versus-a-copy\n",
      "  selected_reviews.loc[:, 'word_count'] = selected_reviews['reviewText'].str.split().apply(len)\n"
     ]
    },
    {
     "data": {
      "application/vnd.jupyter.widget-view+json": {
       "model_id": "fe0e718e2b174f75a76f122dad7a7c88",
       "version_major": 2,
       "version_minor": 0
      },
      "text/plain": [
       "Downloading vocab.json:   0%|          | 0.00/899k [00:00<?, ?B/s]"
      ]
     },
     "metadata": {},
     "output_type": "display_data"
    },
    {
     "name": "stderr",
     "output_type": "stream",
     "text": [
      "C:\\Users\\saman\\anaconda3\\Lib\\site-packages\\huggingface_hub\\file_download.py:133: UserWarning: `huggingface_hub` cache-system uses symlinks by default to efficiently store duplicated files but your machine does not support them in C:\\Users\\saman\\.cache\\huggingface\\hub. Caching files will still work but in a degraded version that might require more space on your disk. This warning can be disabled by setting the `HF_HUB_DISABLE_SYMLINKS_WARNING` environment variable. For more details, see https://huggingface.co/docs/huggingface_hub/how-to-cache#limitations.\n",
      "To support symlinks on Windows, you either need to activate Developer Mode or to run Python as an administrator. In order to see activate developer mode, see this article: https://docs.microsoft.com/en-us/windows/apps/get-started/enable-your-device-for-development\n",
      "  warnings.warn(message)\n"
     ]
    },
    {
     "data": {
      "application/vnd.jupyter.widget-view+json": {
       "model_id": "27cb697bd898451f8b0a09d742850bdf",
       "version_major": 2,
       "version_minor": 0
      },
      "text/plain": [
       "Downloading merges.txt:   0%|          | 0.00/456k [00:00<?, ?B/s]"
      ]
     },
     "metadata": {},
     "output_type": "display_data"
    },
    {
     "data": {
      "application/vnd.jupyter.widget-view+json": {
       "model_id": "1eb6cd8fecb64d73bac7c53fb9644d81",
       "version_major": 2,
       "version_minor": 0
      },
      "text/plain": [
       "Downloading config.json:   0%|          | 0.00/1.58k [00:00<?, ?B/s]"
      ]
     },
     "metadata": {},
     "output_type": "display_data"
    },
    {
     "ename": "ImportError",
     "evalue": "\nBartForConditionalGeneration requires the PyTorch library but it was not found in your environment.\nHowever, we were able to find a TensorFlow installation. TensorFlow classes begin\nwith \"TF\", but are otherwise identically named to our PyTorch classes. This\nmeans that the TF equivalent of the class you tried to import would be \"TFBartForConditionalGeneration\".\nIf you want to use TensorFlow, please use TF classes instead!\n\nIf you really do want to use PyTorch please go to\nhttps://pytorch.org/get-started/locally/ and follow the instructions that\nmatch your environment.\n",
     "output_type": "error",
     "traceback": [
      "\u001b[1;31m---------------------------------------------------------------------------\u001b[0m",
      "\u001b[1;31mImportError\u001b[0m                               Traceback (most recent call last)",
      "Cell \u001b[1;32mIn[51], line 94\u001b[0m\n\u001b[0;32m     92\u001b[0m model_name \u001b[38;5;241m=\u001b[39m \u001b[38;5;124m\"\u001b[39m\u001b[38;5;124mfacebook/bart-large-cnn\u001b[39m\u001b[38;5;124m\"\u001b[39m\n\u001b[0;32m     93\u001b[0m tokenizer \u001b[38;5;241m=\u001b[39m BartTokenizer\u001b[38;5;241m.\u001b[39mfrom_pretrained(model_name)\n\u001b[1;32m---> 94\u001b[0m model \u001b[38;5;241m=\u001b[39m BartForConditionalGeneration\u001b[38;5;241m.\u001b[39mfrom_pretrained(model_name)\n\u001b[0;32m     96\u001b[0m \u001b[38;5;66;03m# Ensure each review is a string in a list\u001b[39;00m\n\u001b[0;32m     97\u001b[0m reviews \u001b[38;5;241m=\u001b[39m selected_reviews[\u001b[38;5;124m'\u001b[39m\u001b[38;5;124mreviewText\u001b[39m\u001b[38;5;124m'\u001b[39m]\u001b[38;5;241m.\u001b[39mtolist()\n",
      "File \u001b[1;32m~\\anaconda3\\Lib\\site-packages\\transformers\\utils\\import_utils.py:1070\u001b[0m, in \u001b[0;36mDummyObject.__getattribute__\u001b[1;34m(cls, key)\u001b[0m\n\u001b[0;32m   1068\u001b[0m \u001b[38;5;28;01mif\u001b[39;00m key\u001b[38;5;241m.\u001b[39mstartswith(\u001b[38;5;124m\"\u001b[39m\u001b[38;5;124m_\u001b[39m\u001b[38;5;124m\"\u001b[39m) \u001b[38;5;129;01mand\u001b[39;00m key \u001b[38;5;241m!=\u001b[39m \u001b[38;5;124m\"\u001b[39m\u001b[38;5;124m_from_config\u001b[39m\u001b[38;5;124m\"\u001b[39m:\n\u001b[0;32m   1069\u001b[0m     \u001b[38;5;28;01mreturn\u001b[39;00m \u001b[38;5;28msuper\u001b[39m()\u001b[38;5;241m.\u001b[39m\u001b[38;5;21m__getattribute__\u001b[39m(key)\n\u001b[1;32m-> 1070\u001b[0m requires_backends(\u001b[38;5;28mcls\u001b[39m, \u001b[38;5;28mcls\u001b[39m\u001b[38;5;241m.\u001b[39m_backends)\n",
      "File \u001b[1;32m~\\anaconda3\\Lib\\site-packages\\transformers\\utils\\import_utils.py:1049\u001b[0m, in \u001b[0;36mrequires_backends\u001b[1;34m(obj, backends)\u001b[0m\n\u001b[0;32m   1047\u001b[0m \u001b[38;5;66;03m# Raise an error for users who might not realize that classes without \"TF\" are torch-only\u001b[39;00m\n\u001b[0;32m   1048\u001b[0m \u001b[38;5;28;01mif\u001b[39;00m \u001b[38;5;124m\"\u001b[39m\u001b[38;5;124mtorch\u001b[39m\u001b[38;5;124m\"\u001b[39m \u001b[38;5;129;01min\u001b[39;00m backends \u001b[38;5;129;01mand\u001b[39;00m \u001b[38;5;124m\"\u001b[39m\u001b[38;5;124mtf\u001b[39m\u001b[38;5;124m\"\u001b[39m \u001b[38;5;129;01mnot\u001b[39;00m \u001b[38;5;129;01min\u001b[39;00m backends \u001b[38;5;129;01mand\u001b[39;00m \u001b[38;5;129;01mnot\u001b[39;00m is_torch_available() \u001b[38;5;129;01mand\u001b[39;00m is_tf_available():\n\u001b[1;32m-> 1049\u001b[0m     \u001b[38;5;28;01mraise\u001b[39;00m \u001b[38;5;167;01mImportError\u001b[39;00m(PYTORCH_IMPORT_ERROR_WITH_TF\u001b[38;5;241m.\u001b[39mformat(name))\n\u001b[0;32m   1051\u001b[0m \u001b[38;5;66;03m# Raise the inverse error for PyTorch users trying to load TF classes\u001b[39;00m\n\u001b[0;32m   1052\u001b[0m \u001b[38;5;28;01mif\u001b[39;00m \u001b[38;5;124m\"\u001b[39m\u001b[38;5;124mtf\u001b[39m\u001b[38;5;124m\"\u001b[39m \u001b[38;5;129;01min\u001b[39;00m backends \u001b[38;5;129;01mand\u001b[39;00m \u001b[38;5;124m\"\u001b[39m\u001b[38;5;124mtorch\u001b[39m\u001b[38;5;124m\"\u001b[39m \u001b[38;5;129;01mnot\u001b[39;00m \u001b[38;5;129;01min\u001b[39;00m backends \u001b[38;5;129;01mand\u001b[39;00m is_torch_available() \u001b[38;5;129;01mand\u001b[39;00m \u001b[38;5;129;01mnot\u001b[39;00m is_tf_available():\n",
      "\u001b[1;31mImportError\u001b[0m: \nBartForConditionalGeneration requires the PyTorch library but it was not found in your environment.\nHowever, we were able to find a TensorFlow installation. TensorFlow classes begin\nwith \"TF\", but are otherwise identically named to our PyTorch classes. This\nmeans that the TF equivalent of the class you tried to import would be \"TFBartForConditionalGeneration\".\nIf you want to use TensorFlow, please use TF classes instead!\n\nIf you really do want to use PyTorch please go to\nhttps://pytorch.org/get-started/locally/ and follow the instructions that\nmatch your environment.\n"
     ]
    }
   ],
   "source": [
    "import pandas as pd\n",
    "import spacy\n",
    "import random\n",
    "from transformers import GPT2Tokenizer, GPT2LMHeadModel\n",
    "from transformers import AutoTokenizer, AutoModelForQuestionAnswering\n",
    "from transformers import BartForConditionalGeneration, BartTokenizer\n",
    "# Load the pre-trained GPT-2 model for summarization\n",
    "#summarization_pipeline = pipeline(\"summarization\")\n",
    "\n",
    "#Load data\n",
    "df = pd.read_json(r\"C:\\Users\\saman\\Downloads\\Gift_Cards.json\\Gift_Cards.json\",lines = True)\n",
    "\n",
    "# Select a Subset of Data\n",
    "subset_data = df.sample(n=8000, random_state=42)\n",
    "\n",
    "\n",
    "# Labeling the data based on ratings\n",
    "def label_rating(row):\n",
    "    if row['overall'] >= 4:\n",
    "        return 'positive'\n",
    "    elif row['overall'] == 3:\n",
    "        return 'neutral'\n",
    "    else:  # Ratings 1 and 2\n",
    "        return 'negative'\n",
    "\n",
    "subset_data['rating_label'] = subset_data.apply(label_rating, axis=1)\n",
    "\n",
    "# Dropping columns 'image', 'vote', and 'style' columns because are not important for the analysis\n",
    "subset_data.drop(columns=['image', 'vote', 'style'], inplace=True, errors='ignore')\n",
    "\n",
    "# Dropping 'overall' because'rating_label' will be used\n",
    "subset_data.drop(columns=['overall'], inplace=True)\n",
    "\n",
    "# Dropping columns that are not important for Sentiment analysis\n",
    "subset_data.drop(columns=['reviewerName', 'reviewerID', 'asin', 'unixReviewTime', 'reviewTime' ], inplace=True)\n",
    "\n",
    "# Chose the appropriate columns for your sentiment analyzer\n",
    "subset_data['reviewText'] = subset_data['reviewText'].fillna('')\n",
    "\n",
    "subset_data.drop(columns=['summary'], inplace=True, errors='ignore')\n",
    "\n",
    "def identify_unverified_reviewers(df):\n",
    "    unverified_reviewers = df[df['verified'] == False]\n",
    "    df = df.drop(unverified_reviewers.index)\n",
    "    return len(unverified_reviewers)\n",
    "\n",
    "unverified_reviewers_count = identify_unverified_reviewers(subset_data)\n",
    "\n",
    "# Delete unverified users reviews \n",
    "subset_data = subset_data[subset_data['verified'] != False]\n",
    "subset_data.shape\n",
    "\n",
    "# Drop column 'verified'\n",
    "subset_data.drop(columns=['verified'], inplace=True, errors='ignore')\n",
    "subset_data.shape\n",
    "\n",
    "# Find duplicates in the 'reviewText' column\n",
    "duplicates_combinedText = subset_data[subset_data.duplicated(subset=['reviewText'], keep=False)]\n",
    "\n",
    "# Count the number of duplicate rows based on specific columns\n",
    "duplicate_count = duplicates_combinedText.shape[0]\n",
    "\n",
    "print(\"Number of duplicate rows considering reviewText:\", duplicate_count)\n",
    "\n",
    "# Remove duplicates from subset_data based on the 'reviewText' column\n",
    "subset_data = subset_data.drop_duplicates(subset=['reviewText'], keep='first')\n",
    "\n",
    "subset_data.info()\n",
    "\n",
    "# Verify the removal of duplicates\n",
    "print(\"Number of rows after removing duplicates:\", len(subset_data))\n",
    "\n",
    "\n",
    "\"\"\"\n",
    "Summary\n",
    "\"\"\"\n",
    "# Select 10 reviews with lengths more than 100 words\n",
    "selected_reviews = subset_data[subset_data['reviewText'].str.split().apply(len) > 100]\n",
    "print(\"Number of reviews with more tha 100 words: \",selected_reviews.shape)\n",
    "\n",
    "selected_reviews.loc[:, 'word_count'] = selected_reviews['reviewText'].str.split().apply(len)\n",
    "\n",
    "#selected_reviews['word_count'] = selected_reviews['reviewText'].str.split().apply(len)\n",
    "print(selected_reviews[['reviewText', 'word_count']])\n",
    "\n",
    "\n",
    "# Randomly select 10 reviews from the subset\n",
    "selected_reviews = selected_reviews.sample(n=10, random_state=42)\n",
    "\n",
    "\n",
    "# Load BART model and tokenizer\n",
    "model_name = \"facebook/bart-large-cnn\"\n",
    "tokenizer = BartTokenizer.from_pretrained(model_name)\n",
    "model = BartForConditionalGeneration.from_pretrained(model_name)\n",
    "\n",
    "# Ensure each review is a string in a list\n",
    "reviews = selected_reviews['reviewText'].tolist()\n",
    "\n",
    "# Truncate or pad the input sequences to a maximum length of 512 tokens\n",
    "encoded_inputs = tokenizer(reviews, padding=True, truncation=True, max_length=512, return_tensors=\"pt\")\n",
    "\n",
    "# Generate summaries\n",
    "# Generate summaries\n",
    "summary_ids = model.generate(encoded_inputs.input_ids, num_beams=4, max_length=50, min_length=40)\n",
    "\n",
    "# Decode the summaries\n",
    "summaries = [tokenizer.decode(summary_id, skip_special_tokens=True) for summary_id in summary_ids]\n",
    "\n",
    "# Print summaries for the first two reviews\n",
    "for i in range(2):\n",
    "    print('\\n===============================================')\n",
    "    print(f\"Original text for review {i+1}: {reviews[i]}\")\n",
    "    print('\\n===============================================')\n",
    "    print(f\"Summary for review {i+1}: {summaries[i]}\")\n",
    "\n"
   ]
  },
  {
   "cell_type": "markdown",
   "id": "e5fe08c9",
   "metadata": {},
   "source": [
    "## Using a LLM model to create a response as a service representatitive"
   ]
  },
  {
   "cell_type": "code",
   "execution_count": 52,
   "id": "484309ef",
   "metadata": {},
   "outputs": [
    {
     "ename": "IndexError",
     "evalue": "[E040] Attempt to access token at -1, max length 0.",
     "output_type": "error",
     "traceback": [
      "\u001b[1;31m---------------------------------------------------------------------------\u001b[0m",
      "\u001b[1;31mIndexError\u001b[0m                                Traceback (most recent call last)",
      "Cell \u001b[1;32mIn[52], line 20\u001b[0m\n\u001b[0;32m     17\u001b[0m         \u001b[38;5;28;01mreturn\u001b[39;00m \u001b[38;5;28;01mFalse\u001b[39;00m\n\u001b[0;32m     19\u001b[0m \u001b[38;5;66;03m# Filter rows containing questions\u001b[39;00m\n\u001b[1;32m---> 20\u001b[0m questions_df \u001b[38;5;241m=\u001b[39m subset_data[subset_data[\u001b[38;5;124m'\u001b[39m\u001b[38;5;124mreviewText\u001b[39m\u001b[38;5;124m'\u001b[39m]\u001b[38;5;241m.\u001b[39mapply(is_question)]\n\u001b[0;32m     22\u001b[0m \u001b[38;5;66;03m# Print the questions\u001b[39;00m\n\u001b[0;32m     23\u001b[0m \u001b[38;5;28mprint\u001b[39m(\u001b[38;5;124m\"\u001b[39m\u001b[38;5;124mQuestions in the dataset:\u001b[39m\u001b[38;5;124m\"\u001b[39m)\n",
      "File \u001b[1;32m~\\anaconda3\\Lib\\site-packages\\pandas\\core\\series.py:4630\u001b[0m, in \u001b[0;36mSeries.apply\u001b[1;34m(self, func, convert_dtype, args, **kwargs)\u001b[0m\n\u001b[0;32m   4520\u001b[0m \u001b[38;5;28;01mdef\u001b[39;00m \u001b[38;5;21mapply\u001b[39m(\n\u001b[0;32m   4521\u001b[0m     \u001b[38;5;28mself\u001b[39m,\n\u001b[0;32m   4522\u001b[0m     func: AggFuncType,\n\u001b[1;32m   (...)\u001b[0m\n\u001b[0;32m   4525\u001b[0m     \u001b[38;5;241m*\u001b[39m\u001b[38;5;241m*\u001b[39mkwargs,\n\u001b[0;32m   4526\u001b[0m ) \u001b[38;5;241m-\u001b[39m\u001b[38;5;241m>\u001b[39m DataFrame \u001b[38;5;241m|\u001b[39m Series:\n\u001b[0;32m   4527\u001b[0m \u001b[38;5;250m    \u001b[39m\u001b[38;5;124;03m\"\"\"\u001b[39;00m\n\u001b[0;32m   4528\u001b[0m \u001b[38;5;124;03m    Invoke function on values of Series.\u001b[39;00m\n\u001b[0;32m   4529\u001b[0m \n\u001b[1;32m   (...)\u001b[0m\n\u001b[0;32m   4628\u001b[0m \u001b[38;5;124;03m    dtype: float64\u001b[39;00m\n\u001b[0;32m   4629\u001b[0m \u001b[38;5;124;03m    \"\"\"\u001b[39;00m\n\u001b[1;32m-> 4630\u001b[0m     \u001b[38;5;28;01mreturn\u001b[39;00m SeriesApply(\u001b[38;5;28mself\u001b[39m, func, convert_dtype, args, kwargs)\u001b[38;5;241m.\u001b[39mapply()\n",
      "File \u001b[1;32m~\\anaconda3\\Lib\\site-packages\\pandas\\core\\apply.py:1025\u001b[0m, in \u001b[0;36mSeriesApply.apply\u001b[1;34m(self)\u001b[0m\n\u001b[0;32m   1022\u001b[0m     \u001b[38;5;28;01mreturn\u001b[39;00m \u001b[38;5;28mself\u001b[39m\u001b[38;5;241m.\u001b[39mapply_str()\n\u001b[0;32m   1024\u001b[0m \u001b[38;5;66;03m# self.f is Callable\u001b[39;00m\n\u001b[1;32m-> 1025\u001b[0m \u001b[38;5;28;01mreturn\u001b[39;00m \u001b[38;5;28mself\u001b[39m\u001b[38;5;241m.\u001b[39mapply_standard()\n",
      "File \u001b[1;32m~\\anaconda3\\Lib\\site-packages\\pandas\\core\\apply.py:1076\u001b[0m, in \u001b[0;36mSeriesApply.apply_standard\u001b[1;34m(self)\u001b[0m\n\u001b[0;32m   1074\u001b[0m     \u001b[38;5;28;01melse\u001b[39;00m:\n\u001b[0;32m   1075\u001b[0m         values \u001b[38;5;241m=\u001b[39m obj\u001b[38;5;241m.\u001b[39mastype(\u001b[38;5;28mobject\u001b[39m)\u001b[38;5;241m.\u001b[39m_values\n\u001b[1;32m-> 1076\u001b[0m         mapped \u001b[38;5;241m=\u001b[39m lib\u001b[38;5;241m.\u001b[39mmap_infer(\n\u001b[0;32m   1077\u001b[0m             values,\n\u001b[0;32m   1078\u001b[0m             f,\n\u001b[0;32m   1079\u001b[0m             convert\u001b[38;5;241m=\u001b[39m\u001b[38;5;28mself\u001b[39m\u001b[38;5;241m.\u001b[39mconvert_dtype,\n\u001b[0;32m   1080\u001b[0m         )\n\u001b[0;32m   1082\u001b[0m \u001b[38;5;28;01mif\u001b[39;00m \u001b[38;5;28mlen\u001b[39m(mapped) \u001b[38;5;129;01mand\u001b[39;00m \u001b[38;5;28misinstance\u001b[39m(mapped[\u001b[38;5;241m0\u001b[39m], ABCSeries):\n\u001b[0;32m   1083\u001b[0m     \u001b[38;5;66;03m# GH#43986 Need to do list(mapped) in order to get treated as nested\u001b[39;00m\n\u001b[0;32m   1084\u001b[0m     \u001b[38;5;66;03m#  See also GH#25959 regarding EA support\u001b[39;00m\n\u001b[0;32m   1085\u001b[0m     \u001b[38;5;28;01mreturn\u001b[39;00m obj\u001b[38;5;241m.\u001b[39m_constructor_expanddim(\u001b[38;5;28mlist\u001b[39m(mapped), index\u001b[38;5;241m=\u001b[39mobj\u001b[38;5;241m.\u001b[39mindex)\n",
      "File \u001b[1;32m~\\anaconda3\\Lib\\site-packages\\pandas\\_libs\\lib.pyx:2834\u001b[0m, in \u001b[0;36mpandas._libs.lib.map_infer\u001b[1;34m()\u001b[0m\n",
      "Cell \u001b[1;32mIn[52], line 14\u001b[0m, in \u001b[0;36mis_question\u001b[1;34m(sentence)\u001b[0m\n\u001b[0;32m     11\u001b[0m doc \u001b[38;5;241m=\u001b[39m nlp(sentence)\n\u001b[0;32m     13\u001b[0m \u001b[38;5;66;03m# Check if the last token is a question mark and the sentence starts with a question word or auxiliary verb\u001b[39;00m\n\u001b[1;32m---> 14\u001b[0m \u001b[38;5;28;01mif\u001b[39;00m \u001b[38;5;28mlen\u001b[39m(doc) \u001b[38;5;241m<\u001b[39m\u001b[38;5;241m=\u001b[39m \u001b[38;5;241m30\u001b[39m \u001b[38;5;129;01mand\u001b[39;00m doc[\u001b[38;5;241m-\u001b[39m\u001b[38;5;241m1\u001b[39m]\u001b[38;5;241m.\u001b[39mtext \u001b[38;5;241m==\u001b[39m \u001b[38;5;124m\"\u001b[39m\u001b[38;5;124m?\u001b[39m\u001b[38;5;124m\"\u001b[39m \u001b[38;5;129;01mand\u001b[39;00m (doc[\u001b[38;5;241m0\u001b[39m]\u001b[38;5;241m.\u001b[39mtag_ \u001b[38;5;241m==\u001b[39m \u001b[38;5;124m\"\u001b[39m\u001b[38;5;124mWDT\u001b[39m\u001b[38;5;124m\"\u001b[39m \u001b[38;5;129;01mor\u001b[39;00m doc[\u001b[38;5;241m0\u001b[39m]\u001b[38;5;241m.\u001b[39mtag_ \u001b[38;5;241m==\u001b[39m \u001b[38;5;124m\"\u001b[39m\u001b[38;5;124mWRB\u001b[39m\u001b[38;5;124m\"\u001b[39m \u001b[38;5;129;01mor\u001b[39;00m doc[\u001b[38;5;241m0\u001b[39m]\u001b[38;5;241m.\u001b[39mtag_ \u001b[38;5;241m==\u001b[39m \u001b[38;5;124m\"\u001b[39m\u001b[38;5;124mWP\u001b[39m\u001b[38;5;124m\"\u001b[39m \u001b[38;5;129;01mor\u001b[39;00m doc[\u001b[38;5;241m0\u001b[39m]\u001b[38;5;241m.\u001b[39mtag_ \u001b[38;5;241m==\u001b[39m \u001b[38;5;124m\"\u001b[39m\u001b[38;5;124mMD\u001b[39m\u001b[38;5;124m\"\u001b[39m):\n\u001b[0;32m     15\u001b[0m     \u001b[38;5;28;01mreturn\u001b[39;00m \u001b[38;5;28;01mTrue\u001b[39;00m\n\u001b[0;32m     16\u001b[0m \u001b[38;5;28;01melse\u001b[39;00m:\n",
      "File \u001b[1;32m~\\anaconda3\\Lib\\site-packages\\spacy\\tokens\\doc.pyx:505\u001b[0m, in \u001b[0;36mspacy.tokens.doc.Doc.__getitem__\u001b[1;34m()\u001b[0m\n",
      "File \u001b[1;32m~\\anaconda3\\Lib\\site-packages\\spacy\\tokens\\token.pxd:25\u001b[0m, in \u001b[0;36mspacy.tokens.token.Token.cinit\u001b[1;34m()\u001b[0m\n",
      "\u001b[1;31mIndexError\u001b[0m: [E040] Attempt to access token at -1, max length 0."
     ]
    }
   ],
   "source": [
    "\"\"\"\n",
    "Answering Question\n",
    "\"\"\"    \n",
    "\n",
    "# Load English language model for spaCy\n",
    "nlp = spacy.load(\"en_core_web_sm\")\n",
    "\n",
    "# Function to check if a sentence is a question\n",
    "def is_question(sentence):\n",
    "    # Tokenize the sentence\n",
    "    doc = nlp(sentence)\n",
    "    \n",
    "    # Check if the last token is a question mark and the sentence starts with a question word or auxiliary verb\n",
    "    if len(doc) <= 30 and doc[-1].text == \"?\" and (doc[0].tag_ == \"WDT\" or doc[0].tag_ == \"WRB\" or doc[0].tag_ == \"WP\" or doc[0].tag_ == \"MD\"):\n",
    "        return True\n",
    "    else:\n",
    "        return False\n",
    "\n",
    "# Filter rows containing questions\n",
    "questions_df = subset_data[subset_data['reviewText'].apply(is_question)]\n",
    "\n",
    "# Print the questions\n",
    "print(\"Questions in the dataset:\")\n",
    "print(questions_df['reviewText'])\n",
    "\n",
    "# Generate a random integer between 0 and 9 (inclusive)\n",
    "random_index = random.randint(0, len(questions_df) - 1)\n",
    "# question_review = questions_df['reviewText'].iloc[random_index]\n",
    "\n",
    "question_review = questions_df['reviewText'].iloc[random_index]\n",
    "\n",
    "# Load the language model pipeline\n",
    "model_name = \"gpt2\"  \n",
    "lm_tokenizer = GPT2Tokenizer.from_pretrained(model_name)\n",
    "lm_model = GPT2LMHeadModel.from_pretrained(model_name)\n",
    "\n",
    "# Tokenize the input text\n",
    "inputs = lm_tokenizer.encode(question_review, return_tensors=\"pt\")\n",
    "\n",
    "# Generate the output\n",
    "outputs = lm_model.generate(inputs, max_length=50, num_return_sequences=1)\n",
    "\n",
    "# Decode and print the generated text\n",
    "generated_response = lm_tokenizer.decode(outputs[0], skip_special_tokens=True)\n",
    "print('\\n===============================================')\n",
    "print(\"Original question:\", question_review)\n",
    "print(\"Generated response:\", generated_response)"
   ]
  },
  {
   "cell_type": "code",
   "execution_count": null,
   "id": "358f1bc8",
   "metadata": {},
   "outputs": [],
   "source": []
  }
 ],
 "metadata": {
  "colab": {
   "provenance": []
  },
  "kernelspec": {
   "display_name": "Python 3 (ipykernel)",
   "language": "python",
   "name": "python3"
  },
  "language_info": {
   "codemirror_mode": {
    "name": "ipython",
    "version": 3
   },
   "file_extension": ".py",
   "mimetype": "text/x-python",
   "name": "python",
   "nbconvert_exporter": "python",
   "pygments_lexer": "ipython3",
   "version": "3.11.5"
  },
  "vscode": {
   "interpreter": {
    "hash": "1af925151dd4d782713cad2f9aa59e6443226f1dd646f2f2f2be76276b2cf27f"
   }
  }
 },
 "nbformat": 4,
 "nbformat_minor": 5
}
