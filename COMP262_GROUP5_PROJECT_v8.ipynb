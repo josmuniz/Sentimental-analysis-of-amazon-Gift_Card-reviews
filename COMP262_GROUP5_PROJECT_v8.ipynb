{
 "cells": [
  {
   "cell_type": "markdown",
   "id": "b759b295-6846-4b2f-970c-065b060907db",
   "metadata": {
    "id": "b759b295-6846-4b2f-970c-065b060907db"
   },
   "source": [
    "## Sentiment Anylisis Model Gift Cards\n",
    "### COMP262 - Group 5\n",
    "Juan Arevalo  \n",
    "Jose Muniz  \n",
    "Ruben Ormeno  \n",
    "Samantha Ortiz de Foronda  \n",
    "Mariela Ramos\n"
   ]
  },
  {
   "cell_type": "markdown",
   "id": "efb17842-6a5d-450b-a5c6-068b2204eedf",
   "metadata": {
    "id": "efb17842-6a5d-450b-a5c6-068b2204eedf"
   },
   "source": [
    "## 1. Dataset data exploration"
   ]
  },
  {
   "cell_type": "code",
   "execution_count": 1,
   "id": "ba0e5440-5bad-48f8-8a28-d130958734f0",
   "metadata": {
    "id": "ba0e5440-5bad-48f8-8a28-d130958734f0"
   },
   "outputs": [],
   "source": [
    "import numpy as np\n",
    "import pandas as pd\n",
    "import nltk\n",
    "from nltk.sentiment.vader import SentimentIntensityAnalyzer\n",
    "import re\n",
    "import seaborn as sns\n",
    "import matplotlib.pyplot as plt\n",
    "import json\n",
    "import pandas as pd\n",
    "import matplotlib.pyplot as plt\n",
    "from scipy import stats"
   ]
  },
  {
   "cell_type": "code",
   "execution_count": 2,
   "id": "b2b6a1c8-8ab3-4660-90ad-06c73a1f4971",
   "metadata": {
    "id": "b2b6a1c8-8ab3-4660-90ad-06c73a1f4971"
   },
   "outputs": [],
   "source": [
    "#Load data\n",
    "df = pd.read_json(r\"C:\\MR\\Centennial\\Sem4\\NLP\\Project\\Gift_Cards_5.json\\Gift_Cards_5.json\",lines = True)"
   ]
  },
  {
   "cell_type": "markdown",
   "id": "10f7e0b3",
   "metadata": {
    "id": "3b1df795-ce62-43d6-8752-dba63d2fc054"
   },
   "source": [
    "#### Field Description\n",
    "overall (bigint) – User rating (1-5)  \n",
    "verified (boolean)  Is the review verified (true, false)  \n",
    "reviewtime (string) – Timestamp formatted like “10 30, 2009”  \n",
    "reviewerid (string) – Amazon generated user id  \n",
    "asin (string) – Unique Amazon generated product id  \n",
    "reviewername (string) – User supplied name  \n",
    "reviewtext (string) – Review text  \n",
    "summary (string) – Summary of Review text  \n",
    "unixreviewtime (bigint) – Timestamp formatted in epoch time  \n",
    "vote (double) – Userful voters form other users  \n",
    "style - a disctionary of the product metadata, e.g., \"Format\" is \"Hardcover\"  \n",
    "image -  images that users post after they have received the product  "
   ]
  },
  {
   "cell_type": "markdown",
   "id": "6871c724-9294-4620-a18b-8d46a1c4af9c",
   "metadata": {
    "id": "6871c724-9294-4620-a18b-8d46a1c4af9c"
   },
   "source": [
    "### 1a. Counts, averages"
   ]
  },
  {
   "cell_type": "code",
   "execution_count": 3,
   "id": "addc3efd-2894-41e4-b2f9-32bc295dc48d",
   "metadata": {
    "colab": {
     "base_uri": "https://localhost:8080/"
    },
    "id": "addc3efd-2894-41e4-b2f9-32bc295dc48d",
    "outputId": "602d013b-3062-4143-d04a-440aacef9453",
    "scrolled": false
   },
   "outputs": [
    {
     "name": "stdout",
     "output_type": "stream",
     "text": [
      "\n",
      "---Name and Types of colums---\n",
      "\n",
      "<class 'pandas.core.frame.DataFrame'>\n",
      "RangeIndex: 2972 entries, 0 to 2971\n",
      "Data columns (total 12 columns):\n",
      " #   Column          Non-Null Count  Dtype  \n",
      "---  ------          --------------  -----  \n",
      " 0   overall         2972 non-null   int64  \n",
      " 1   verified        2972 non-null   bool   \n",
      " 2   reviewTime      2972 non-null   object \n",
      " 3   reviewerID      2972 non-null   object \n",
      " 4   asin            2972 non-null   object \n",
      " 5   style           864 non-null    object \n",
      " 6   reviewerName    2972 non-null   object \n",
      " 7   reviewText      2966 non-null   object \n",
      " 8   summary         2972 non-null   object \n",
      " 9   unixReviewTime  2972 non-null   int64  \n",
      " 10  vote            208 non-null    float64\n",
      " 11  image           12 non-null     object \n",
      "dtypes: bool(1), float64(1), int64(2), object(8)\n",
      "memory usage: 258.4+ KB\n",
      "None\n",
      "\n",
      "---Shape----\n",
      "\n",
      "(2972, 12)\n"
     ]
    }
   ],
   "source": [
    "# Base exploration\n",
    "print('\\n---Name and Types of colums---\\n')\n",
    "print(df.info())\n",
    "print('\\n---Shape----\\n')\n",
    "print(df.shape)\n"
   ]
  },
  {
   "cell_type": "code",
   "execution_count": 4,
   "id": "c89ad948-6982-446a-98b4-f9ae49b473d8",
   "metadata": {
    "colab": {
     "base_uri": "https://localhost:8080/",
     "height": 425
    },
    "id": "c89ad948-6982-446a-98b4-f9ae49b473d8",
    "outputId": "17132faf-c20b-4abf-d4ba-3b30d32ded10"
   },
   "outputs": [
    {
     "data": {
      "text/html": [
       "<div>\n",
       "<style scoped>\n",
       "    .dataframe tbody tr th:only-of-type {\n",
       "        vertical-align: middle;\n",
       "    }\n",
       "\n",
       "    .dataframe tbody tr th {\n",
       "        vertical-align: top;\n",
       "    }\n",
       "\n",
       "    .dataframe thead th {\n",
       "        text-align: right;\n",
       "    }\n",
       "</style>\n",
       "<table border=\"1\" class=\"dataframe\">\n",
       "  <thead>\n",
       "    <tr style=\"text-align: right;\">\n",
       "      <th></th>\n",
       "      <th>Column</th>\n",
       "      <th>Total counts</th>\n",
       "      <th>Unique Value</th>\n",
       "      <th>Missing values</th>\n",
       "    </tr>\n",
       "  </thead>\n",
       "  <tbody>\n",
       "    <tr>\n",
       "      <th>0</th>\n",
       "      <td>reviewText</td>\n",
       "      <td>2966</td>\n",
       "      <td>1937</td>\n",
       "      <td>6</td>\n",
       "    </tr>\n",
       "    <tr>\n",
       "      <th>1</th>\n",
       "      <td>summary</td>\n",
       "      <td>2972</td>\n",
       "      <td>952</td>\n",
       "      <td>0</td>\n",
       "    </tr>\n",
       "    <tr>\n",
       "      <th>2</th>\n",
       "      <td>reviewTime</td>\n",
       "      <td>2972</td>\n",
       "      <td>797</td>\n",
       "      <td>0</td>\n",
       "    </tr>\n",
       "    <tr>\n",
       "      <th>3</th>\n",
       "      <td>unixReviewTime</td>\n",
       "      <td>2972</td>\n",
       "      <td>797</td>\n",
       "      <td>0</td>\n",
       "    </tr>\n",
       "    <tr>\n",
       "      <th>4</th>\n",
       "      <td>reviewerID</td>\n",
       "      <td>2972</td>\n",
       "      <td>458</td>\n",
       "      <td>0</td>\n",
       "    </tr>\n",
       "    <tr>\n",
       "      <th>5</th>\n",
       "      <td>reviewerName</td>\n",
       "      <td>2972</td>\n",
       "      <td>429</td>\n",
       "      <td>0</td>\n",
       "    </tr>\n",
       "    <tr>\n",
       "      <th>6</th>\n",
       "      <td>asin</td>\n",
       "      <td>2972</td>\n",
       "      <td>148</td>\n",
       "      <td>0</td>\n",
       "    </tr>\n",
       "    <tr>\n",
       "      <th>7</th>\n",
       "      <td>vote</td>\n",
       "      <td>208</td>\n",
       "      <td>20</td>\n",
       "      <td>2764</td>\n",
       "    </tr>\n",
       "    <tr>\n",
       "      <th>8</th>\n",
       "      <td>style</td>\n",
       "      <td>2972</td>\n",
       "      <td>18</td>\n",
       "      <td>0</td>\n",
       "    </tr>\n",
       "    <tr>\n",
       "      <th>9</th>\n",
       "      <td>image</td>\n",
       "      <td>2972</td>\n",
       "      <td>13</td>\n",
       "      <td>0</td>\n",
       "    </tr>\n",
       "    <tr>\n",
       "      <th>10</th>\n",
       "      <td>overall</td>\n",
       "      <td>2972</td>\n",
       "      <td>5</td>\n",
       "      <td>0</td>\n",
       "    </tr>\n",
       "    <tr>\n",
       "      <th>11</th>\n",
       "      <td>verified</td>\n",
       "      <td>2972</td>\n",
       "      <td>2</td>\n",
       "      <td>0</td>\n",
       "    </tr>\n",
       "  </tbody>\n",
       "</table>\n",
       "</div>"
      ],
      "text/plain": [
       "            Column  Total counts  Unique Value  Missing values\n",
       "0       reviewText          2966          1937               6\n",
       "1          summary          2972           952               0\n",
       "2       reviewTime          2972           797               0\n",
       "3   unixReviewTime          2972           797               0\n",
       "4       reviewerID          2972           458               0\n",
       "5     reviewerName          2972           429               0\n",
       "6             asin          2972           148               0\n",
       "7             vote           208            20            2764\n",
       "8            style          2972            18               0\n",
       "9            image          2972            13               0\n",
       "10         overall          2972             5               0\n",
       "11        verified          2972             2               0"
      ]
     },
     "execution_count": 4,
     "metadata": {},
     "output_type": "execute_result"
    }
   ],
   "source": [
    "# classes by variable\n",
    "def check_columns(dataframe):\n",
    "    total_counts = []\n",
    "    unique_counts = []\n",
    "    missing_values = []\n",
    "    for column in dataframe.columns:\n",
    "        try:\n",
    "            # Attempt to count unique values in the usual way\n",
    "            total_count = dataframe[column].count()\n",
    "            unique_count = dataframe[column].nunique()\n",
    "            missing_value = dataframe[column].isna().sum()\n",
    "            \n",
    "        except TypeError:\n",
    "            # Handle unhashable items by converting them to strings (or another approach as needed)\n",
    "            total_count = dataframe[column].astype(str).count()\n",
    "            unique_count = dataframe[column].astype(str).nunique()\n",
    "            missing_value = dataframe[column].astype(str).isna().sum() \n",
    "                \n",
    "        total_counts.append(total_count)\n",
    "        unique_counts.append(unique_count)\n",
    "        missing_values.append(missing_value)\n",
    "\n",
    "    # Create DataFrame with counts\n",
    "    nunique_df = pd.DataFrame({'Column': dataframe.columns, 'Total counts': total_counts,'Unique Value': unique_counts, 'Missing values': missing_values})\n",
    "    nunique_df = nunique_df.sort_values('Unique Value', ascending=False).reset_index(drop=True)\n",
    "    return nunique_df\n",
    "check_columns(df)"
   ]
  },
  {
   "cell_type": "code",
   "execution_count": 5,
   "id": "3e6805d2",
   "metadata": {
    "scrolled": false
   },
   "outputs": [
    {
     "name": "stdout",
     "output_type": "stream",
     "text": [
      "\n",
      "Counts and Averages of Numerical Variables:\n",
      "           overall  unixReviewTime        vote\n",
      "count  2972.000000    2.972000e+03  208.000000\n",
      "mean      4.885262    1.476136e+09    5.158654\n",
      "std       0.484660    3.379616e+07    7.366121\n",
      "min       1.000000    1.327968e+09    2.000000\n",
      "25%       5.000000    1.454890e+09    2.000000\n",
      "50%       5.000000    1.482710e+09    3.000000\n",
      "75%       5.000000    1.500271e+09    5.000000\n",
      "max       5.000000    1.534896e+09   60.000000\n"
     ]
    },
    {
     "data": {
      "image/png": "[encoded data removed]",
      "text/plain": [
       "<Figure size 1000x600 with 2 Axes>"
      ]
     },
     "metadata": {},
     "output_type": "display_data"
    }
   ],
   "source": [
    "\n",
    "# Select numerical variables\n",
    "numerical_variables = df.select_dtypes(include=['int64', 'float64'])\n",
    "\n",
    "# Print summary statistics\n",
    "print(\"\\nCounts and Averages of Numerical Variables:\")\n",
    "print(numerical_variables.describe())\n",
    "\n",
    "# Plotting\n",
    "plt.figure(figsize=(10, 6))\n",
    "\n",
    "# Bar plot for counts\n",
    "plt.subplot(1, 2, 1)\n",
    "numerical_variables.count().plot(kind='bar')\n",
    "plt.title('Counts of Numerical Variables')\n",
    "plt.xlabel('Variables')\n",
    "plt.ylabel('Count')\n",
    "\n",
    "# Line plot for averages\n",
    "plt.subplot(1, 2, 2)\n",
    "numerical_variables['overall'].value_counts().sort_index().plot(kind='bar', color='skyblue')\n",
    "plt.title('Distribution of Overall Ratings')\n",
    "plt.xlabel('Overall Rating')\n",
    "plt.ylabel('Frequency')\n",
    "plt.xticks(rotation=0)  # Rotate x-axis labels if needed\n",
    "plt.grid(axis='y')  \n",
    "\n",
    "plt.tight_layout()\n",
    "plt.show()\n"
   ]
  },
  {
   "cell_type": "markdown",
   "id": "7c4e0f67-e899-4354-9100-92dae1de7198",
   "metadata": {
    "id": "7c4e0f67-e899-4354-9100-92dae1de7198"
   },
   "source": [
    "### 1b. Distribution of number of reviews across products"
   ]
  },
  {
   "cell_type": "code",
   "execution_count": 6,
   "id": "14973943-11ad-49c5-915c-f85ab7581b2d",
   "metadata": {
    "colab": {
     "base_uri": "https://localhost:8080/",
     "height": 634
    },
    "id": "14973943-11ad-49c5-915c-f85ab7581b2d",
    "outputId": "4362fa69-9b09-498e-91f8-2b046f85b23e"
   },
   "outputs": [
    {
     "data": {
      "image/png": "[encoded data removed]",
      "text/plain": [
       "<Figure size 1000x600 with 1 Axes>"
      ]
     },
     "metadata": {},
     "output_type": "display_data"
    }
   ],
   "source": [
    "# Calculate the number of reviews per product (ASIN)\n",
    "review_counts = df['asin'].value_counts()\n",
    "\n",
    "# Create the plot\n",
    "plt.figure(figsize=(10, 6))\n",
    "review_counts.plot(kind='bar')\n",
    "plt.title('Distribution of Number of Reviews Across Products')\n",
    "plt.xlabel('Product ID (ASIN)')\n",
    "plt.ylabel('Number of Reviews')\n",
    "plt.xticks([])  # Rotate the x-axis labels for better readability\n",
    "plt.show()"
   ]
  },
  {
   "cell_type": "markdown",
   "id": "9f88e06b-72ae-4b51-9ce8-91901e92b785",
   "metadata": {
    "id": "9f88e06b-72ae-4b51-9ce8-91901e92b785"
   },
   "source": [
    "### 1c. Distribution of number of reviews per products"
   ]
  },
  {
   "cell_type": "code",
   "execution_count": 7,
   "id": "0522a913-04f6-4e06-9ad6-0a89112ce407",
   "metadata": {
    "colab": {
     "base_uri": "https://localhost:8080/",
     "height": 564
    },
    "id": "0522a913-04f6-4e06-9ad6-0a89112ce407",
    "outputId": "5aeed184-e412-4d14-9c1c-9dd20f49a7b3"
   },
   "outputs": [
    {
     "data": {
      "image/png": "[encoded data removed]",
      "text/plain": [
       "<Figure size 1200x600 with 1 Axes>"
      ]
     },
     "metadata": {},
     "output_type": "display_data"
    }
   ],
   "source": [
    "\n",
    "reviews_per_product = df['asin'].value_counts()\n",
    "\n",
    "# plot using seaborn\n",
    "plt.figure(figsize=(12, 6))\n",
    "sns.histplot(reviews_per_product, bins=30, kde=True, color='blue')\n",
    "plt.title('Distribution of the Number of Reviews Per Product')\n",
    "plt.xlabel('Number of Reviews')\n",
    "plt.ylabel('Number of Products')\n",
    "plt.grid(axis='y', alpha=0.75)\n",
    "\n",
    "plt.show()\n"
   ]
  },
  {
   "cell_type": "markdown",
   "id": "1cdf77f8",
   "metadata": {},
   "source": [
    "- Most products have received between 10 and 20 reviews, as indicated by the tallest bar in the histogram.  \n",
    "- Fewer products have a higher number of reviews, showing a decline in frequency as the number of reviews increases."
   ]
  },
  {
   "cell_type": "code",
   "execution_count": 8,
   "id": "902c27fc-b85c-4073-85f2-f4db11dd495d",
   "metadata": {
    "colab": {
     "base_uri": "https://localhost:8080/",
     "height": 720
    },
    "id": "902c27fc-b85c-4073-85f2-f4db11dd495d",
    "outputId": "57ddf658-28e4-4aa6-aac1-ddb38c3c9370"
   },
   "outputs": [
    {
     "name": "stdout",
     "output_type": "stream",
     "text": [
      "Top 10 products with the most reviews:\n",
      "asin\n",
      "B00AR51Y5I    94\n",
      "B004Q7CK9M    88\n",
      "B0091JKVU0    84\n",
      "B00BXLW5QC    79\n",
      "B0091JKY0M    73\n",
      "B01E4QUN0W    71\n",
      "B00GOLGWVK    68\n",
      "B00CHQ7I2S    65\n",
      "B006PJHP62    63\n",
      "B00PG8502O    61\n",
      "Name: count, dtype: int64\n",
      "\n",
      "Top 10 products with the least reviews:\n",
      "asin\n",
      "B00ET5WASC    5\n",
      "B00BXLVD8I    5\n",
      "B014S2HRVK    5\n",
      "B015NKJ6D8    5\n",
      "B00ELQD5K6    5\n",
      "B016J1LGPG    5\n",
      "B01CT5PHJ2    5\n",
      "B00BXLSPGQ    5\n",
      "B0188LOK7G    5\n",
      "B01B25LU7S    4\n",
      "Name: count, dtype: int64\n"
     ]
    }
   ],
   "source": [
    "# Assuming 'df' is your DataFrame containing the dataset information\n",
    "\n",
    "# Calculate the top 10 products with the most reviews and their counts\n",
    "top_10_most_reviews = df['asin'].value_counts().head(10)\n",
    "\n",
    "# Calculate the top 10 products with the least reviews and their counts\n",
    "top_10_least_reviews = df['asin'].value_counts().tail(10)\n",
    "\n",
    "print(\"Top 10 products with the most reviews:\")\n",
    "print(top_10_most_reviews)\n",
    "\n",
    "print(\"\\nTop 10 products with the least reviews:\")\n",
    "print(top_10_least_reviews)\n"
   ]
  },
  {
   "cell_type": "markdown",
   "id": "758ac9d8-b2b8-4057-b0e6-d077bfbef201",
   "metadata": {
    "id": "758ac9d8-b2b8-4057-b0e6-d077bfbef201"
   },
   "source": [
    "### 1d. Distribution reviews per user"
   ]
  },
  {
   "cell_type": "code",
   "execution_count": 9,
   "id": "d545f9f4-f9b5-4d83-a751-214eececa13f",
   "metadata": {
    "colab": {
     "base_uri": "https://localhost:8080/",
     "height": 564
    },
    "id": "d545f9f4-f9b5-4d83-a751-214eececa13f",
    "outputId": "b51d6927-df5c-4fd8-aa20-9985d53c13bc"
   },
   "outputs": [
    {
     "data": {
      "image/png": "[encoded data removed]",
      "text/plain": [
       "<Figure size 1200x600 with 1 Axes>"
      ]
     },
     "metadata": {},
     "output_type": "display_data"
    }
   ],
   "source": [
    "# Calculate the number of reviews per user\n",
    "reviews_per_user = df['reviewerID'].value_counts()\n",
    "\n",
    "# Plot the distribution of the number of reviews per user using seaborn\n",
    "plt.figure(figsize=(12, 6))\n",
    "sns.histplot(reviews_per_user, bins=30, kde=True, color='purple')\n",
    "plt.title('Distribution of the Number of Reviews Per User')\n",
    "plt.xlabel('Number of Reviews')\n",
    "plt.ylabel('Number of Users')\n",
    "plt.grid(axis='y', alpha=0.75)\n",
    "\n",
    "plt.show()"
   ]
  },
  {
   "cell_type": "code",
   "execution_count": 10,
   "id": "9d320642-d9df-4681-bc55-66218c84e727",
   "metadata": {
    "colab": {
     "base_uri": "https://localhost:8080/",
     "height": 807
    },
    "id": "9d320642-d9df-4681-bc55-66218c84e727",
    "outputId": "fddc6e34-1e39-4cba-e280-c6f47399bc27"
   },
   "outputs": [
    {
     "data": {
      "image/png": "[encoded data removed]",
      "text/plain": [
       "<Figure size 1200x800 with 1 Axes>"
      ]
     },
     "metadata": {},
     "output_type": "display_data"
    }
   ],
   "source": [
    "# Top 30 users with the most reviews and their counts\n",
    "top_30_users_reviews = df['reviewerID'].value_counts().head(30)\n",
    "\n",
    "# Plotting the distribution of reviews for the top 30 users\n",
    "plt.figure(figsize=(12, 8))\n",
    "sns.barplot(y=top_30_users_reviews.index, x=top_30_users_reviews.values, palette='coolwarm')\n",
    "plt.title('Top 30 Users by Number of Reviews')\n",
    "plt.xlabel('Number of Reviews')\n",
    "plt.ylabel('User ID')\n",
    "\n",
    "plt.show()"
   ]
  },
  {
   "cell_type": "markdown",
   "id": "eb5ca567",
   "metadata": {},
   "source": [
    "### 1e.\tReview lengths and outliers"
   ]
  },
  {
   "cell_type": "code",
   "execution_count": 11,
   "id": "2dd3fcab",
   "metadata": {},
   "outputs": [],
   "source": [
    "# Calculate review lengths\n",
    "df_length = df['reviewText'].dropna().apply(lambda x: len(str(x).split()))"
   ]
  },
  {
   "cell_type": "code",
   "execution_count": 12,
   "id": "fa027ecc",
   "metadata": {},
   "outputs": [
    {
     "data": {
      "image/png": "[encoded data removed]",
      "text/plain": [
       "<Figure size 1000x600 with 1 Axes>"
      ]
     },
     "metadata": {},
     "output_type": "display_data"
    }
   ],
   "source": [
    "# Plot histogram of review lengths\n",
    "plt.figure(figsize=(10, 6))\n",
    "plt.hist(df_length, bins=50, color='skyblue', edgecolor='black')\n",
    "plt.title('Distribution of Review Lengths')\n",
    "plt.xlabel('Review Length')\n",
    "plt.ylabel('Frequency')\n",
    "plt.grid(True)\n",
    "plt.show()\n"
   ]
  },
  {
   "cell_type": "code",
   "execution_count": 13,
   "id": "52f67210",
   "metadata": {},
   "outputs": [
    {
     "name": "stdout",
     "output_type": "stream",
     "text": [
      "Outlier threshold (Z-Score Method): 87.06347494420397\n"
     ]
    },
    {
     "data": {
      "image/png": "[encoded data removed]",
      "text/plain": [
       "<Figure size 800x600 with 1 Axes>"
      ]
     },
     "metadata": {},
     "output_type": "display_data"
    }
   ],
   "source": [
    "# Calculate z-scores\n",
    "\n",
    "mean_length = df_length.mean()\n",
    "std_length = df_length.std()\n",
    "df_length_zscore = (df_length - mean_length) / std_length\n",
    "\n",
    "# Define threshold for outliers using z-scores\n",
    "z_score_threshold = 3\n",
    "\n",
    "# Print outlier threshold\n",
    "outlier_threshold = mean_length + z_score_threshold * std_length\n",
    "print(\"Outlier threshold (Z-Score Method):\", outlier_threshold)\n",
    "\n",
    "# Identify outliers using z-scores\n",
    "outliers_z_score = df_length[(df_length_zscore > z_score_threshold) | (df_length_zscore < -z_score_threshold)]\n",
    "\n",
    "# Create a scatter plot to visualize the distribution of review lengths and identify outliers using z-scores\n",
    "plt.figure(figsize=(8, 6))\n",
    "plt.scatter(df_length.index, df_length, c='blue', label='Review Length')\n",
    "plt.scatter(outliers_z_score.index, outliers_z_score, c='red', label='Outliers (Z-Score Method)')\n",
    "plt.xlabel('Index')\n",
    "plt.ylabel('Review Length')\n",
    "plt.title('Distribution of Review Lengths with Outliers (Z-Score Method)')\n",
    "plt.legend()\n",
    "plt.show()\n"
   ]
  },
  {
   "cell_type": "markdown",
   "id": "6d6ad9d8",
   "metadata": {},
   "source": [
    "### 1f.\tAnalyze lengths"
   ]
  },
  {
   "cell_type": "code",
   "execution_count": 14,
   "id": "90f6c0ef",
   "metadata": {},
   "outputs": [
    {
     "name": "stdout",
     "output_type": "stream",
     "text": [
      "Minimum review length: 1\n",
      "Maximum review length: 461\n",
      "Average review length: 12.818273769386378\n"
     ]
    }
   ],
   "source": [
    "# review lengths\n",
    "print(\"Minimum review length:\", df_length.min())\n",
    "print(\"Maximum review length:\", df_length.max())\n",
    "print(\"Average review length:\", df_length.mean())"
   ]
  },
  {
   "cell_type": "code",
   "execution_count": 15,
   "id": "ea0befb1",
   "metadata": {},
   "outputs": [
    {
     "name": "stdout",
     "output_type": "stream",
     "text": [
      "Mode of review lengths: 1\n",
      "Frequency of the mode: 413\n"
     ]
    }
   ],
   "source": [
    "# Find the mode of review lengths\n",
    "mode_length = stats.mode(df_length)\n",
    "\n",
    "print(\"Mode of review lengths:\", mode_length.mode.item())\n",
    "print(\"Frequency of the mode:\", mode_length.count.item())\n"
   ]
  },
  {
   "cell_type": "markdown",
   "id": "61461cfa",
   "metadata": {},
   "source": [
    "### 1g. Check for duplicates"
   ]
  },
  {
   "cell_type": "code",
   "execution_count": 16,
   "id": "5d0b35b7",
   "metadata": {},
   "outputs": [
    {
     "name": "stdout",
     "output_type": "stream",
     "text": [
      "Number of duplicate rows considering reviewerID, asin, unixReviewTime and reviewText: 0\n"
     ]
    }
   ],
   "source": [
    "duplicates_df = df[df.duplicated(subset=['reviewerID', 'asin', 'unixReviewTime', 'reviewText'], keep=False)]\n",
    "\n",
    "# Count the number of duplicate rows based on specific columns\n",
    "duplicate_count = duplicates_df.shape[0]\n",
    "\n",
    "print(\"Number of duplicate rows considering reviewerID, asin, unixReviewTime and reviewText:\", duplicate_count)\n",
    "\n"
   ]
  },
  {
   "cell_type": "markdown",
   "id": "bd2318de-5889-4bfc-8792-4b3d07798f86",
   "metadata": {
    "id": "bd2318de-5889-4bfc-8792-4b3d07798f86"
   },
   "source": [
    "## 2.\tText basic pre-processing:"
   ]
  },
  {
   "cell_type": "markdown",
   "id": "180256be",
   "metadata": {},
   "source": [
    "### 2a. Labeling the data based on ratings"
   ]
  },
  {
   "cell_type": "code",
   "execution_count": 17,
   "id": "iT-QKvp7mXD-",
   "metadata": {
    "id": "iT-QKvp7mXD-"
   },
   "outputs": [],
   "source": [
    "# Labeling the data based on ratings\n",
    "def label_rating(row):\n",
    "    if row['overall'] >= 4:\n",
    "        return 'positive'\n",
    "    elif row['overall'] == 3:\n",
    "        return 'neutral'\n",
    "    else:  # Ratings 1 and 2\n",
    "        return 'negative'\n",
    "\n",
    "df['rating_label'] = df.apply(label_rating, axis=1)"
   ]
  },
  {
   "cell_type": "markdown",
   "id": "88134515",
   "metadata": {},
   "source": [
    "### 2b. Chose the appropriate columns for your sentiment analyzer"
   ]
  },
  {
   "cell_type": "code",
   "execution_count": 18,
   "id": "4d87c246-302b-47bc-9429-f8064c6b2088",
   "metadata": {},
   "outputs": [
    {
     "name": "stdout",
     "output_type": "stream",
     "text": [
      "DataFrame shape: (2972, 4)\n"
     ]
    },
    {
     "data": {
      "text/html": [
       "<div>\n",
       "<style scoped>\n",
       "    .dataframe tbody tr th:only-of-type {\n",
       "        vertical-align: middle;\n",
       "    }\n",
       "\n",
       "    .dataframe tbody tr th {\n",
       "        vertical-align: top;\n",
       "    }\n",
       "\n",
       "    .dataframe thead th {\n",
       "        text-align: right;\n",
       "    }\n",
       "</style>\n",
       "<table border=\"1\" class=\"dataframe\">\n",
       "  <thead>\n",
       "    <tr style=\"text-align: right;\">\n",
       "      <th></th>\n",
       "      <th>verified</th>\n",
       "      <th>unixReviewTime</th>\n",
       "      <th>rating_label</th>\n",
       "      <th>combined_text</th>\n",
       "    </tr>\n",
       "  </thead>\n",
       "  <tbody>\n",
       "    <tr>\n",
       "      <th>0</th>\n",
       "      <td>True</td>\n",
       "      <td>1529193600</td>\n",
       "      <td>positive</td>\n",
       "      <td>Another great gift. Five Stars</td>\n",
       "    </tr>\n",
       "    <tr>\n",
       "      <th>1</th>\n",
       "      <td>True</td>\n",
       "      <td>1528934400</td>\n",
       "      <td>positive</td>\n",
       "      <td>Gift card for my daughter Ease of use</td>\n",
       "    </tr>\n",
       "    <tr>\n",
       "      <th>2</th>\n",
       "      <td>True</td>\n",
       "      <td>1527897600</td>\n",
       "      <td>positive</td>\n",
       "      <td>Nice present Five Stars</td>\n",
       "    </tr>\n",
       "    <tr>\n",
       "      <th>3</th>\n",
       "      <td>True</td>\n",
       "      <td>1526688000</td>\n",
       "      <td>positive</td>\n",
       "      <td>My niece loved this birthday greeting/gift car...</td>\n",
       "    </tr>\n",
       "    <tr>\n",
       "      <th>4</th>\n",
       "      <td>True</td>\n",
       "      <td>1526601600</td>\n",
       "      <td>positive</td>\n",
       "      <td>fine as a gift. Five Stars</td>\n",
       "    </tr>\n",
       "  </tbody>\n",
       "</table>\n",
       "</div>"
      ],
      "text/plain": [
       "   verified  unixReviewTime rating_label  \\\n",
       "0      True      1529193600     positive   \n",
       "1      True      1528934400     positive   \n",
       "2      True      1527897600     positive   \n",
       "3      True      1526688000     positive   \n",
       "4      True      1526601600     positive   \n",
       "\n",
       "                                       combined_text  \n",
       "0                     Another great gift. Five Stars  \n",
       "1              Gift card for my daughter Ease of use  \n",
       "2                            Nice present Five Stars  \n",
       "3  My niece loved this birthday greeting/gift car...  \n",
       "4                         fine as a gift. Five Stars  "
      ]
     },
     "execution_count": 18,
     "metadata": {},
     "output_type": "execute_result"
    }
   ],
   "source": [
    "# Dropping columns 'image', 'vote', and 'style' columns because are not important for the analysis\n",
    "df.drop(columns=['image', 'vote', 'style'], inplace=True, errors='ignore')\n",
    "# Dropping'reviewerID','asin', 'reviewerName'\n",
    "df.drop(columns=['reviewerID','asin', 'reviewerName' ], inplace=True, errors='ignore')\n",
    "# Dropping 'summary' \n",
    "#df.drop(columns=['summary' ], inplace=True, errors='ignore')\n",
    "# Dropping 'reviewTime'\n",
    "df.drop(columns=['reviewTime', 'overall'], inplace=True)\n",
    "\n",
    "# Chose the appropriate columns for your sentiment analyzer\n",
    "df['reviewText'] = df['reviewText'].fillna('')\n",
    "df['summary'] = df['summary'].fillna('')\n",
    "\n",
    "# Combine 'reviewText' and 'summary' into a single column for a comprehensive sentiment analysis\n",
    "df['combined_text'] = df['reviewText'] + \" \" + df['summary']\n",
    "\n",
    "df.drop(columns=['reviewText', 'summary'], inplace=True, errors='ignore')\n",
    "\n",
    "\n",
    "# Print the shape of the DataFrame to see the number of entries and columns\n",
    "print(\"DataFrame shape:\", df.shape)\n",
    "\n",
    "df.head()"
   ]
  },
  {
   "cell_type": "code",
   "execution_count": 19,
   "id": "6d7d7296",
   "metadata": {},
   "outputs": [
    {
     "name": "stdout",
     "output_type": "stream",
     "text": [
      "\n",
      "Missing values in 'combined_text': 0\n"
     ]
    }
   ],
   "source": [
    "# Print a summary of any missing values in the combined_text column\n",
    "print(\"\\nMissing values in 'combined_text':\", df['combined_text'].isnull().sum())\n"
   ]
  },
  {
   "cell_type": "markdown",
   "id": "68211e64",
   "metadata": {},
   "source": [
    "### 2c.\tCheck for outliers"
   ]
  },
  {
   "cell_type": "markdown",
   "id": "5912448b",
   "metadata": {},
   "source": [
    "#### Unverified Reviewers outliers"
   ]
  },
  {
   "cell_type": "code",
   "execution_count": 20,
   "id": "c45db94f",
   "metadata": {},
   "outputs": [
    {
     "name": "stdout",
     "output_type": "stream",
     "text": [
      "Number of Unverified Reviewers: 134\n"
     ]
    }
   ],
   "source": [
    "def identify_unverified_reviewers(df):\n",
    "    unverified_reviewers = df[df['verified'] == False]\n",
    "    return len(unverified_reviewers)\n",
    "\n",
    "# Usage\n",
    "unverified_reviewers_count = identify_unverified_reviewers(df)\n",
    "print(\"Number of Unverified Reviewers:\", unverified_reviewers_count)\n"
   ]
  },
  {
   "cell_type": "markdown",
   "id": "be858787",
   "metadata": {},
   "source": [
    "#### Word count outliers"
   ]
  },
  {
   "cell_type": "code",
   "execution_count": 21,
   "id": "IqItAvQ0m2G2",
   "metadata": {
    "colab": {
     "base_uri": "https://localhost:8080/"
    },
    "id": "IqItAvQ0m2G2",
    "outputId": "a9079dcc-2676-496e-bebb-6d7114fa0beb"
   },
   "outputs": [
    {
     "name": "stdout",
     "output_type": "stream",
     "text": [
      "count    2972.000000\n",
      "mean       15.793742\n",
      "std        26.013748\n",
      "min         2.000000\n",
      "25%         4.000000\n",
      "50%         7.000000\n",
      "75%        17.000000\n",
      "max       474.000000\n",
      "Name: word_count, dtype: float64\n"
     ]
    }
   ],
   "source": [
    "# Check for outliers in 'combined_text' by word count\n",
    "df['word_count'] = df['combined_text'].fillna('').apply(lambda x: len(x.split()))\n",
    "print(df['word_count'].describe())"
   ]
  },
  {
   "cell_type": "code",
   "execution_count": 22,
   "id": "13db9248-4c12-49ce-b6cf-95dd6b257197",
   "metadata": {},
   "outputs": [
    {
     "name": "stdout",
     "output_type": "stream",
     "text": [
      "Outlier threshold (Z-Score Method): 93.83498648163726\n"
     ]
    },
    {
     "data": {
      "image/png": "[encoded data removed]",
      "text/plain": [
       "<Figure size 800x600 with 1 Axes>"
      ]
     },
     "metadata": {},
     "output_type": "display_data"
    }
   ],
   "source": [
    "# Calculate z-scores\n",
    "mean_length = df['word_count'].mean()\n",
    "std_length = df['word_count'].std()\n",
    "\n",
    "# Define threshold for outliers using z-scores\n",
    "z_score_threshold = 3\n",
    "\n",
    "# Print outlier threshold\n",
    "outlier_threshold = mean_length + z_score_threshold * std_length\n",
    "print(\"Outlier threshold (Z-Score Method):\", outlier_threshold)\n",
    "\n",
    "# Calculate z-scores for word count\n",
    "wordcount_z_score = (df['word_count'] - mean_length) / std_length\n",
    "\n",
    "# Identify outliers using z-scores\n",
    "outliers_z_score = df['word_count'][(wordcount_z_score > z_score_threshold) | (wordcount_z_score < -z_score_threshold)]\n",
    "\n",
    "# Create a scatter plot to visualize the distribution of review lengths and identify outliers using z-scores\n",
    "plt.figure(figsize=(8, 6))\n",
    "plt.scatter(df['word_count'].index, df['word_count'], c='blue', label='Word Count')\n",
    "plt.scatter(outliers_z_score.index, outliers_z_score, c='red', label='Outliers (Z-Score Method)')\n",
    "plt.xlabel('Index')\n",
    "plt.ylabel('Word Count')\n",
    "plt.title('Distribution of Word Counts with Outliers (Z-Score Method)')\n",
    "plt.legend()\n",
    "plt.show()"
   ]
  },
  {
   "cell_type": "code",
   "execution_count": 23,
   "id": "5cec613f",
   "metadata": {},
   "outputs": [],
   "source": [
    "# Filter rows where word count is less than or equal to 94\n",
    "df = df[df['word_count'] <= 94]\n",
    "\n",
    "# Drop the 'word_count' column as it's no longer needed\n",
    "df.drop(columns=['word_count'], inplace=True)\n",
    "\n",
    "# Optionally, you can reset the index of the DataFrame after dropping rows\n",
    "df.reset_index(drop=True, inplace=True)"
   ]
  },
  {
   "cell_type": "code",
   "execution_count": 24,
   "id": "190ab24c",
   "metadata": {},
   "outputs": [
    {
     "data": {
      "image/png": "[encoded data removed]",
      "text/plain": [
       "<Figure size 400x300 with 1 Axes>"
      ]
     },
     "metadata": {},
     "output_type": "display_data"
    },
    {
     "name": "stdout",
     "output_type": "stream",
     "text": [
      "Shape of dataframe: (2917, 4)\n"
     ]
    }
   ],
   "source": [
    "# Count the frequency of each rating label\n",
    "label_counts = df['rating_label'].value_counts()\n",
    "\n",
    "# Plot the frequency of each rating label using seaborn\n",
    "plt.figure(figsize=(4, 3))\n",
    "sns.barplot(x=label_counts.index, y=label_counts.values, palette='magma')\n",
    "plt.title('Frequency of Rating Labels')\n",
    "plt.xlabel('Rating Label')\n",
    "plt.ylabel('Frequency')\n",
    "\n",
    "plt.show()\n",
    "print(\"Shape of dataframe:\", df.shape)"
   ]
  },
  {
   "cell_type": "code",
   "execution_count": 26,
   "id": "07a4d2ce",
   "metadata": {},
   "outputs": [
    {
     "data": {
      "text/html": [
       "<div>\n",
       "<style scoped>\n",
       "    .dataframe tbody tr th:only-of-type {\n",
       "        vertical-align: middle;\n",
       "    }\n",
       "\n",
       "    .dataframe tbody tr th {\n",
       "        vertical-align: top;\n",
       "    }\n",
       "\n",
       "    .dataframe thead th {\n",
       "        text-align: right;\n",
       "    }\n",
       "</style>\n",
       "<table border=\"1\" class=\"dataframe\">\n",
       "  <thead>\n",
       "    <tr style=\"text-align: right;\">\n",
       "      <th></th>\n",
       "      <th>verified</th>\n",
       "      <th>unixReviewTime</th>\n",
       "      <th>rating_label</th>\n",
       "      <th>combined_text</th>\n",
       "    </tr>\n",
       "  </thead>\n",
       "  <tbody>\n",
       "    <tr>\n",
       "      <th>0</th>\n",
       "      <td>True</td>\n",
       "      <td>1529193600</td>\n",
       "      <td>positive</td>\n",
       "      <td>Another great gift. Five Stars</td>\n",
       "    </tr>\n",
       "    <tr>\n",
       "      <th>1</th>\n",
       "      <td>True</td>\n",
       "      <td>1528934400</td>\n",
       "      <td>positive</td>\n",
       "      <td>Gift card for my daughter Ease of use</td>\n",
       "    </tr>\n",
       "    <tr>\n",
       "      <th>2</th>\n",
       "      <td>True</td>\n",
       "      <td>1527897600</td>\n",
       "      <td>positive</td>\n",
       "      <td>Nice present Five Stars</td>\n",
       "    </tr>\n",
       "    <tr>\n",
       "      <th>3</th>\n",
       "      <td>True</td>\n",
       "      <td>1526688000</td>\n",
       "      <td>positive</td>\n",
       "      <td>My niece loved this birthday greeting/gift car...</td>\n",
       "    </tr>\n",
       "    <tr>\n",
       "      <th>4</th>\n",
       "      <td>True</td>\n",
       "      <td>1526601600</td>\n",
       "      <td>positive</td>\n",
       "      <td>fine as a gift. Five Stars</td>\n",
       "    </tr>\n",
       "  </tbody>\n",
       "</table>\n",
       "</div>"
      ],
      "text/plain": [
       "   verified  unixReviewTime rating_label  \\\n",
       "0      True      1529193600     positive   \n",
       "1      True      1528934400     positive   \n",
       "2      True      1527897600     positive   \n",
       "3      True      1526688000     positive   \n",
       "4      True      1526601600     positive   \n",
       "\n",
       "                                       combined_text  \n",
       "0                     Another great gift. Five Stars  \n",
       "1              Gift card for my daughter Ease of use  \n",
       "2                            Nice present Five Stars  \n",
       "3  My niece loved this birthday greeting/gift car...  \n",
       "4                         fine as a gift. Five Stars  "
      ]
     },
     "execution_count": 26,
     "metadata": {},
     "output_type": "execute_result"
    }
   ],
   "source": [
    "df.head()"
   ]
  },
  {
   "cell_type": "markdown",
   "id": "47587b31",
   "metadata": {},
   "source": [
    "#### Reviewers outliers"
   ]
  },
  {
   "cell_type": "code",
   "execution_count": 53,
   "id": "71534380",
   "metadata": {
    "scrolled": false
   },
   "outputs": [
    {
     "name": "stdout",
     "output_type": "stream",
     "text": [
      "          reviewerID                 reviewText_cleaned   reviewTime  \\\n",
      "1523  A3OHGWD8LIDZ8K      fast delivery and card worked  03 10, 2015   \n",
      "1920   ALQUMN89FI5HD  great gift card worked perfectly.  11 27, 2017   \n",
      "1908   AKT3Z3O3T26PL                              great  02 15, 2018   \n",
      "1159  A32MAHV0PG6YU6    does what a gift card should :)  12 14, 2017   \n",
      "566   A1YWA3Z785KX03               arrived within 5 min  03 10, 2017   \n",
      "\n",
      "      review_count  \n",
      "1523            21  \n",
      "1920            16  \n",
      "1908            13  \n",
      "1159            13  \n",
      "566             11  \n",
      "\n",
      "Mean review count: 1.3900841908325539\n",
      "\n",
      "Outliers:\n",
      "          reviewerID                                 reviewText_cleaned  \\\n",
      "8     A11F143J72N3QZ                                               gift   \n",
      "85    A15FGESGPI84VP                                   its a gift card.   \n",
      "90    A16QCOFOP5DW4I                                              great   \n",
      "167   A1EKEP11L6DPIM                                        thank you!!   \n",
      "189   A1FJGAOIKUTDYR                                  gift card worked.   \n",
      "301   A1KIY4XSTAU2LT                          arrived quick easy to use   \n",
      "313   A1KU8DS7KA7OYT  great deal during the holidays when you can ge...   \n",
      "325   A1L4GG3FBMIG6V                                       pretty good!   \n",
      "334   A1LHJLC4GABYY0                                           love it.   \n",
      "359   A1MVZEZZ0PLKM5                                           excelent   \n",
      "360   A1MXZ1CW0ZVTKL     not much to say, gift card is as good as cash!   \n",
      "419   A1OQYXKIH50PHK                             love it!!!! thanks!!!!   \n",
      "425   A1PD3L2DC3VIB8                               they are gift cards.   \n",
      "519   A1U3DENVSYZ5BQ  my 11 grandchildren love to receive amazon gif...   \n",
      "520   A1U9NOZSL0SN9X                                           all good   \n",
      "541   A1WLQZOGXNQQC8    great purchase. the gift card worked very good.   \n",
      "566   A1YWA3Z785KX03                               arrived within 5 min   \n",
      "639   A24LOQNUJL15V4                                      :) great gift   \n",
      "663   A2630ATALYRS6K                                                 ok   \n",
      "669   A27A4BCOBGPYR3                item as described, arrived on time.   \n",
      "799   A2FCAFNICJR9Q1                                perfect, thank you!   \n",
      "1008  A2RTTRR421J9KG                                        works great   \n",
      "1010  A2RTTRR421J9KG                                             works!   \n",
      "1023  A2SWVHBL244VHD  exactly as shown. no activation charge, just r...   \n",
      "1041  A2UAWNUKHPNXBJ                                                 ok   \n",
      "1079  A2WPBMZ2ISXTSA                                    convenient gift   \n",
      "1096  A2Y1UBFYZRI6S7                                           loved it   \n",
      "1103  A2Z43ZQDGCFCBD            came on time, and exactly as described.   \n",
      "1129  A31JPNHS8Y3G40                                         good...!!!   \n",
      "1159  A32MAHV0PG6YU6                    does what a gift card should :)   \n",
      "1166  A33QLA6L0ZJ7ZM                                         great gift   \n",
      "1221  A35S2WL2F27WC7                                        great item!   \n",
      "1301  A3BNRL2SCE6CGU                                they are gift cards   \n",
      "1482  A3M7CI5UDRM4KE                            always a great present.   \n",
      "1495  A3MSHXB61CEAFS                                         great gift   \n",
      "1521  A3OFTIM87CP08T                                             great!   \n",
      "1523  A3OHGWD8LIDZ8K                      fast delivery and card worked   \n",
      "1659   A6PM53ZBME6MD                                              gifts   \n",
      "1795   AF5DE7E49647T  amazon made it easy for me to solve the the la...   \n",
      "1908   AKT3Z3O3T26PL                                              great   \n",
      "1909   ALG9T0EF2ZXDI                                               gift   \n",
      "1920   ALQUMN89FI5HD                  great gift card worked perfectly.   \n",
      "2125   AZDGZL2OF9S1E  what can you say it's a gift card - shipping w...   \n",
      "2132   AZKLLDZ59Q4A1                                               good   \n",
      "\n",
      "       reviewTime  review_count  \n",
      "8     01 10, 2017             6  \n",
      "85     01 4, 2016             7  \n",
      "90    12 30, 2016             6  \n",
      "167   02 27, 2015             6  \n",
      "189    02 7, 2017             6  \n",
      "301   06 13, 2018             8  \n",
      "313   01 20, 2017             6  \n",
      "325   11 10, 2017             8  \n",
      "334   06 14, 2016             6  \n",
      "359   03 22, 2017             7  \n",
      "360   07 10, 2018             7  \n",
      "419   05 21, 2015             7  \n",
      "425   03 10, 2016             7  \n",
      "519    02 6, 2017             6  \n",
      "520   12 28, 2016             6  \n",
      "541    05 2, 2016             6  \n",
      "566   03 10, 2017            11  \n",
      "639   04 27, 2016             6  \n",
      "663    01 5, 2017             8  \n",
      "669    01 4, 2017             8  \n",
      "799   12 27, 2016             6  \n",
      "1008   12 7, 2017             8  \n",
      "1010  01 19, 2018             6  \n",
      "1023  04 19, 2018             8  \n",
      "1041  01 14, 2017             6  \n",
      "1079  06 16, 2016             6  \n",
      "1096  12 12, 2016             8  \n",
      "1103  01 28, 2018             6  \n",
      "1129  06 26, 2015             8  \n",
      "1159  12 14, 2017            13  \n",
      "1166  01 10, 2017             6  \n",
      "1221  07 19, 2016             9  \n",
      "1301  03 18, 2018             6  \n",
      "1482  02 18, 2016             7  \n",
      "1495  04 18, 2016             6  \n",
      "1521  08 19, 2015             6  \n",
      "1523  03 10, 2015            21  \n",
      "1659   02 3, 2016             9  \n",
      "1795  02 24, 2017             6  \n",
      "1908  02 15, 2018            13  \n",
      "1909   02 8, 2016             6  \n",
      "1920  11 27, 2017            16  \n",
      "2125   01 9, 2015             6  \n",
      "2132  09 22, 2016             6  \n"
     ]
    }
   ],
   "source": [
    "# Remove leading and trailing whitespaces and convert to lowercase\n",
    "df['reviewText_cleaned'] = df['reviewText'].str.strip().str.lower()\n",
    "\n",
    "# Group by reviewerID and reviewText_cleaned (cleaned review text) and count the occurrences\n",
    "review_frequency = df.groupby(['reviewerID', 'reviewText_cleaned','reviewTime']).size().reset_index(name='review_count')\n",
    "\n",
    "# Sort the list by review count in descending order\n",
    "review_frequency_sorted = review_frequency.sort_values(by='review_count', ascending=False)\n",
    "\n",
    "# Print the sorted DataFrame\n",
    "print(review_frequency_sorted.head())\n",
    "\n",
    "# Calculate the mean review count\n",
    "mean_review_count = review_frequency['review_count'].mean()\n",
    "print(\"\\nMean review count:\", mean_review_count)\n",
    "\n",
    "# Calculate the standard deviation of review counts\n",
    "std_review_count = review_frequency['review_count'].std()\n",
    "\n",
    "# Define a threshold for outliers (3 standard deviations from the mean)\n",
    "threshold = 3\n",
    "\n",
    "# Calculate the lower and upper bounds for outliers\n",
    "lower_bound = mean_review_count - (threshold * std_review_count)\n",
    "upper_bound = mean_review_count + (threshold * std_review_count)\n",
    "\n",
    "# Identify outliers based on the bounds\n",
    "outliers = review_frequency[(review_frequency['review_count'] < lower_bound) | (review_frequency['review_count'] > upper_bound)]\n",
    "\n",
    "# Print the outliers\n",
    "print(\"\\nOutliers:\")\n",
    "print(outliers)"
   ]
  },
  {
   "cell_type": "markdown",
   "id": "91b86ddc-3df8-4c7e-9a6c-67582fcb96a1",
   "metadata": {},
   "source": [
    "## 4. Pre-process the text for VADER"
   ]
  },
  {
   "cell_type": "code",
   "execution_count": 512,
   "id": "6bb655e3-9d03-4e45-8734-dfe08aa691e5",
   "metadata": {},
   "outputs": [
    {
     "name": "stderr",
     "output_type": "stream",
     "text": [
      "[nltk_data] Downloading package vader_lexicon to\n",
      "[nltk_data]     /Users/ryaol/nltk_data...\n",
      "[nltk_data]   Package vader_lexicon is already up-to-date!\n"
     ]
    }
   ],
   "source": [
    "# Step 1: Perform Sentiment Analysis\n",
    "# Ensure you have the VADER lexicon downloaded\n",
    "nltk.download('vader_lexicon')\n",
    "\n",
    "# Initialize the SentimentIntensityAnalyzer\n",
    "sia = SentimentIntensityAnalyzer()\n",
    "\n",
    "# Function to get the compound sentiment score for a text\n",
    "def get_sentiment_score(text):\n",
    "    return sia.polarity_scores(text)['compound']\n",
    "\n",
    "# Apply sentiment analysis on the combined review texts\n",
    "df['sentiment_score'] = df['combined_text'].apply(get_sentiment_score)"
   ]
  },
  {
   "cell_type": "code",
   "execution_count": 513,
   "id": "d69f3c58",
   "metadata": {},
   "outputs": [
    {
     "data": {
      "text/plain": [
       "rating_label\n",
       "positive    2906\n",
       "negative      33\n",
       "neutral       33\n",
       "Name: count, dtype: int64"
      ]
     },
     "execution_count": 513,
     "metadata": {},
     "output_type": "execute_result"
    }
   ],
   "source": [
    "df['rating_label'].value_counts()"
   ]
  },
  {
   "cell_type": "code",
   "execution_count": 514,
   "id": "5e1b4535",
   "metadata": {},
   "outputs": [
    {
     "data": {
      "text/plain": [
       "overall\n",
       "5    2752\n",
       "4     154\n",
       "3      33\n",
       "1      22\n",
       "2      11\n",
       "Name: count, dtype: int64"
      ]
     },
     "execution_count": 514,
     "metadata": {},
     "output_type": "execute_result"
    }
   ],
   "source": [
    "df['overall'].value_counts()"
   ]
  },
  {
   "cell_type": "code",
   "execution_count": 515,
   "id": "70630a21",
   "metadata": {},
   "outputs": [
    {
     "data": {
      "text/plain": [
       "count    2972.000000\n",
       "mean        0.619738\n",
       "std         0.329863\n",
       "min        -0.974600\n",
       "25%         0.440400\n",
       "50%         0.700300\n",
       "75%         0.872000\n",
       "max         0.999400\n",
       "Name: sentiment_score, dtype: float64"
      ]
     },
     "execution_count": 515,
     "metadata": {},
     "output_type": "execute_result"
    }
   ],
   "source": [
    "df['sentiment_score'].describe()"
   ]
  },
  {
   "cell_type": "code",
   "execution_count": 516,
   "id": "799cc640",
   "metadata": {},
   "outputs": [],
   "source": [
    "df['rating_label_vader'] = df['sentiment_score'].apply(lambda x: 'positive' if x > 0 \n",
    "                                                       else ('neutral' \n",
    "                                                             #if (x > -0.05 and x < 0.05) \n",
    "                                                             if(x == 0)\n",
    "                                                             else 'negative'))\n"
   ]
  },
  {
   "cell_type": "code",
   "execution_count": 517,
   "id": "65a9855d",
   "metadata": {},
   "outputs": [
    {
     "data": {
      "image/png": "[encoded data removed]",
      "text/plain": [
       "<Figure size 600x400 with 1 Axes>"
      ]
     },
     "metadata": {},
     "output_type": "display_data"
    }
   ],
   "source": [
    "#Comparing the rating labels and the VADER sentiment labels\n",
    "# Create a confusion matrix\n",
    "conf_matrix = pd.crosstab(df['rating_label'], df['rating_label_vader'], rownames=['Actual'], colnames=['Predicted'])\n",
    "\n",
    "# Plot the confusion matrix using seaborn\n",
    "plt.figure(figsize=(6,4))\n",
    "sns.heatmap(conf_matrix, annot=True, fmt='d', cmap='Blues', cbar=False)\n",
    "plt.title('Confusion Matrix of Rating Labels vs. VADER Sentiment Labels')\n",
    "plt.show()"
   ]
  },
  {
   "cell_type": "code",
   "execution_count": 518,
   "id": "d3c368b8",
   "metadata": {},
   "outputs": [
    {
     "name": "stdout",
     "output_type": "stream",
     "text": [
      "accuracy of vader lexicon: 0.8738223418573351\n",
      "F1 score of vader lexicon: 0.9159016048180161\n"
     ]
    }
   ],
   "source": [
    "#printing the accuracy of the VADER sentiment labels\n",
    "# Calculate the accuracy of the VADER sentiment labels\n",
    "accuracy = (conf_matrix['negative']['negative'] + conf_matrix['positive']['positive'] + conf_matrix['neutral']['neutral']) / conf_matrix.values.sum()\n",
    "print(\"accuracy of vader lexicon:\", accuracy)\n",
    "from sklearn.metrics import f1_score\n",
    "F1_score = f1_score(df['rating_label'], df['rating_label_vader'], average='weighted')\n",
    "print(\"F1 score of vader lexicon:\", F1_score)"
   ]
  },
  {
   "cell_type": "code",
   "execution_count": 519,
   "id": "4cfa713c",
   "metadata": {},
   "outputs": [],
   "source": [
    "#show the reviews that are misclassified\n",
    "misclassified_reviews = df[df['rating_label'] != df['rating_label_vader']]"
   ]
  },
  {
   "cell_type": "code",
   "execution_count": 520,
   "id": "c8a14b9e",
   "metadata": {},
   "outputs": [
    {
     "data": {
      "text/plain": [
       "overall               375\n",
       "verified              375\n",
       "reviewTime            375\n",
       "reviewerID            375\n",
       "asin                  375\n",
       "reviewerName          375\n",
       "reviewText            375\n",
       "summary               375\n",
       "unixReviewTime        375\n",
       "ID_Name               375\n",
       "rating_label          375\n",
       "combined_text         375\n",
       "word_count            375\n",
       "z_score               375\n",
       "reviewText_cleaned    375\n",
       "sentiment_score       375\n",
       "rating_label_vader    375\n",
       "dtype: int64"
      ]
     },
     "execution_count": 520,
     "metadata": {},
     "output_type": "execute_result"
    }
   ],
   "source": [
    "misclassified_reviews.count()"
   ]
  },
  {
   "cell_type": "code",
   "execution_count": 521,
   "id": "7448c5ab",
   "metadata": {},
   "outputs": [
    {
     "data": {
      "text/html": [
       "<div>\n",
       "<style scoped>\n",
       "    .dataframe tbody tr th:only-of-type {\n",
       "        vertical-align: middle;\n",
       "    }\n",
       "\n",
       "    .dataframe tbody tr th {\n",
       "        vertical-align: top;\n",
       "    }\n",
       "\n",
       "    .dataframe thead th {\n",
       "        text-align: right;\n",
       "    }\n",
       "</style>\n",
       "<table border=\"1\" class=\"dataframe\">\n",
       "  <thead>\n",
       "    <tr style=\"text-align: right;\">\n",
       "      <th></th>\n",
       "      <th>rating_label</th>\n",
       "      <th>rating_label_vader</th>\n",
       "      <th>combined_text</th>\n",
       "    </tr>\n",
       "  </thead>\n",
       "  <tbody>\n",
       "    <tr>\n",
       "      <th>39</th>\n",
       "      <td>positive</td>\n",
       "      <td>negative</td>\n",
       "      <td>How can you go wrong with a amazon gift certificate, you can't Terrific</td>\n",
       "    </tr>\n",
       "    <tr>\n",
       "      <th>95</th>\n",
       "      <td>positive</td>\n",
       "      <td>negative</td>\n",
       "      <td>If you are ever stuck on what to get kids (tweens) this is the way to go!\\nWho does not love gift cards? They are the same as cash and not as impersonal. That way they spend the money to get what they want and you know they cannot return to store to exchange. Great gift idea</td>\n",
       "    </tr>\n",
       "    <tr>\n",
       "      <th>100</th>\n",
       "      <td>positive</td>\n",
       "      <td>negative</td>\n",
       "      <td>Once again, who but Donald Trump (perhaps The Walton family) could hate an Amazon Gift Card? who but Donald Trump (perhaps The Walton family) could hate an Amazon Gift Card</td>\n",
       "    </tr>\n",
       "    <tr>\n",
       "      <th>173</th>\n",
       "      <td>positive</td>\n",
       "      <td>negative</td>\n",
       "      <td>Delivered as expected, no complaints! Five Stars</td>\n",
       "    </tr>\n",
       "    <tr>\n",
       "      <th>295</th>\n",
       "      <td>positive</td>\n",
       "      <td>negative</td>\n",
       "      <td>What's not to like Five Stars</td>\n",
       "    </tr>\n",
       "    <tr>\n",
       "      <th>312</th>\n",
       "      <td>positive</td>\n",
       "      <td>negative</td>\n",
       "      <td>Easy to use No problems</td>\n",
       "    </tr>\n",
       "    <tr>\n",
       "      <th>354</th>\n",
       "      <td>positive</td>\n",
       "      <td>negative</td>\n",
       "      <td>Whats not to love about a gift card ??? Five Stars</td>\n",
       "    </tr>\n",
       "    <tr>\n",
       "      <th>512</th>\n",
       "      <td>positive</td>\n",
       "      <td>negative</td>\n",
       "      <td>What's not to love Five Stars</td>\n",
       "    </tr>\n",
       "    <tr>\n",
       "      <th>649</th>\n",
       "      <td>positive</td>\n",
       "      <td>negative</td>\n",
       "      <td>Who won't love a gift? Plus it was nicely packed with a good quality cardboard box. They are hard card boards and has magnetics to keep them shut. Who won't love a gift?</td>\n",
       "    </tr>\n",
       "    <tr>\n",
       "      <th>681</th>\n",
       "      <td>positive</td>\n",
       "      <td>negative</td>\n",
       "      <td>Kinda funky.  Thought it would be prettier than it is.  Just tin, but it's what's inside that counts. Right? Never saw a snowflake like this.</td>\n",
       "    </tr>\n",
       "    <tr>\n",
       "      <th>692</th>\n",
       "      <td>positive</td>\n",
       "      <td>negative</td>\n",
       "      <td>Who doesn't love amazon gift cards! ! Five Stars</td>\n",
       "    </tr>\n",
       "    <tr>\n",
       "      <th>778</th>\n",
       "      <td>positive</td>\n",
       "      <td>negative</td>\n",
       "      <td>blahblahblah, unless it doesn't upload with cash, there be no complaints.\\nshould be kool MONEY WAS THERE AND ON OTHER STARBUCK GIFTCARDS RECENTLY BOUGHT chickens &amp; coffee</td>\n",
       "    </tr>\n",
       "    <tr>\n",
       "      <th>782</th>\n",
       "      <td>positive</td>\n",
       "      <td>negative</td>\n",
       "      <td>who doesn't love this as a gift. Five Stars</td>\n",
       "    </tr>\n",
       "    <tr>\n",
       "      <th>785</th>\n",
       "      <td>positive</td>\n",
       "      <td>negative</td>\n",
       "      <td>what's not to love SB Fan</td>\n",
       "    </tr>\n",
       "    <tr>\n",
       "      <th>835</th>\n",
       "      <td>positive</td>\n",
       "      <td>negative</td>\n",
       "      <td>Don't even have to go to the store to get this!  And who doesn't love a movie?  Great gift card, came within two days. And who doesn't love a movie</td>\n",
       "    </tr>\n",
       "    <tr>\n",
       "      <th>937</th>\n",
       "      <td>positive</td>\n",
       "      <td>negative</td>\n",
       "      <td>Easy to use No problems</td>\n",
       "    </tr>\n",
       "    <tr>\n",
       "      <th>1005</th>\n",
       "      <td>positive</td>\n",
       "      <td>negative</td>\n",
       "      <td>Easy to use No problems</td>\n",
       "    </tr>\n",
       "    <tr>\n",
       "      <th>1085</th>\n",
       "      <td>positive</td>\n",
       "      <td>negative</td>\n",
       "      <td>Delivered as expected, no complaints! Five Stars</td>\n",
       "    </tr>\n",
       "    <tr>\n",
       "      <th>1115</th>\n",
       "      <td>positive</td>\n",
       "      <td>negative</td>\n",
       "      <td>no driving to the mall! Five Stars</td>\n",
       "    </tr>\n",
       "    <tr>\n",
       "      <th>1120</th>\n",
       "      <td>positive</td>\n",
       "      <td>negative</td>\n",
       "      <td>you can use this to purchase riot points and anything that uses openbucks basically.,., Five Stars</td>\n",
       "    </tr>\n",
       "    <tr>\n",
       "      <th>1140</th>\n",
       "      <td>positive</td>\n",
       "      <td>negative</td>\n",
       "      <td>Have to change it to 5 stars because the cashier helped me to exchange a new card. So Nice! Must say terrible shipping!\\n\\nThere is no problem on the card excepting its already damaged. I will try to use it in store to see if I need to return or exchange it There is no problem on the card excepting its already ...</td>\n",
       "    </tr>\n",
       "    <tr>\n",
       "      <th>1188</th>\n",
       "      <td>positive</td>\n",
       "      <td>negative</td>\n",
       "      <td>No problems using these cards so far.  While my husband takes his lunch from home most days, there are times he wants something different or he forgets his lunch.  Being diabetic, he shouldn't skip lunch.  Subway offers variety which fits into his diet. Good for diabetics, convenient</td>\n",
       "    </tr>\n",
       "    <tr>\n",
       "      <th>1291</th>\n",
       "      <td>positive</td>\n",
       "      <td>negative</td>\n",
       "      <td>Whats not to love about a gift card? Five Stars</td>\n",
       "    </tr>\n",
       "    <tr>\n",
       "      <th>1328</th>\n",
       "      <td>positive</td>\n",
       "      <td>negative</td>\n",
       "      <td>Received quickly and had no problems! Perfect</td>\n",
       "    </tr>\n",
       "    <tr>\n",
       "      <th>1357</th>\n",
       "      <td>positive</td>\n",
       "      <td>negative</td>\n",
       "      <td>what's not to like about sephora Five Stars</td>\n",
       "    </tr>\n",
       "    <tr>\n",
       "      <th>1399</th>\n",
       "      <td>positive</td>\n",
       "      <td>negative</td>\n",
       "      <td>What's not to love Five Stars</td>\n",
       "    </tr>\n",
       "    <tr>\n",
       "      <th>1463</th>\n",
       "      <td>positive</td>\n",
       "      <td>negative</td>\n",
       "      <td>Who wouldn't love a gift card to Texas Roadhouse. Five Stars</td>\n",
       "    </tr>\n",
       "    <tr>\n",
       "      <th>1490</th>\n",
       "      <td>positive</td>\n",
       "      <td>negative</td>\n",
       "      <td>Money for pizza Get what you pay for</td>\n",
       "    </tr>\n",
       "    <tr>\n",
       "      <th>1520</th>\n",
       "      <td>positive</td>\n",
       "      <td>negative</td>\n",
       "      <td>Easy to use No problems</td>\n",
       "    </tr>\n",
       "    <tr>\n",
       "      <th>1534</th>\n",
       "      <td>positive</td>\n",
       "      <td>negative</td>\n",
       "      <td>Saved a trip to the mall. What's not to love? What's not to love?</td>\n",
       "    </tr>\n",
       "    <tr>\n",
       "      <th>1593</th>\n",
       "      <td>positive</td>\n",
       "      <td>negative</td>\n",
       "      <td>This card was very convenient when we didn't want to carry cash with us. My husband used the leftover for lunches. Convenient</td>\n",
       "    </tr>\n",
       "    <tr>\n",
       "      <th>1619</th>\n",
       "      <td>positive</td>\n",
       "      <td>negative</td>\n",
       "      <td>Who does not love IHOP? Five Stars</td>\n",
       "    </tr>\n",
       "    <tr>\n",
       "      <th>1662</th>\n",
       "      <td>positive</td>\n",
       "      <td>negative</td>\n",
       "      <td>Who doesn't like Starbucks? Five Stars</td>\n",
       "    </tr>\n",
       "    <tr>\n",
       "      <th>1673</th>\n",
       "      <td>positive</td>\n",
       "      <td>negative</td>\n",
       "      <td>Who doesn't love Starbucks gift cards?  :-) Five Stars</td>\n",
       "    </tr>\n",
       "    <tr>\n",
       "      <th>1774</th>\n",
       "      <td>positive</td>\n",
       "      <td>negative</td>\n",
       "      <td>What's not to love Five Stars</td>\n",
       "    </tr>\n",
       "    <tr>\n",
       "      <th>1915</th>\n",
       "      <td>positive</td>\n",
       "      <td>negative</td>\n",
       "      <td>how can you go wrong? how can you go wrong?</td>\n",
       "    </tr>\n",
       "    <tr>\n",
       "      <th>1964</th>\n",
       "      <td>positive</td>\n",
       "      <td>negative</td>\n",
       "      <td>I have placed order for both my grand children at time. But this order tracking information was not provided to me. Hence there was confusion. No Communication</td>\n",
       "    </tr>\n",
       "    <tr>\n",
       "      <th>1979</th>\n",
       "      <td>positive</td>\n",
       "      <td>negative</td>\n",
       "      <td>This gift card came quickly and the food was great. I had no problems whatsoever. No problems!</td>\n",
       "    </tr>\n",
       "    <tr>\n",
       "      <th>2006</th>\n",
       "      <td>positive</td>\n",
       "      <td>negative</td>\n",
       "      <td>Worked just fine at the concession. I didn't have any issues. Received the email in 5 minutes No issues</td>\n",
       "    </tr>\n",
       "    <tr>\n",
       "      <th>2059</th>\n",
       "      <td>positive</td>\n",
       "      <td>negative</td>\n",
       "      <td>it was delivered as scheduled, and no problems using it. Five Stars</td>\n",
       "    </tr>\n",
       "    <tr>\n",
       "      <th>2079</th>\n",
       "      <td>positive</td>\n",
       "      <td>negative</td>\n",
       "      <td>Had no problem with using the card. Received it in just a few minutes. Easy to use</td>\n",
       "    </tr>\n",
       "    <tr>\n",
       "      <th>2163</th>\n",
       "      <td>positive</td>\n",
       "      <td>negative</td>\n",
       "      <td>Came instantly! no problems</td>\n",
       "    </tr>\n",
       "    <tr>\n",
       "      <th>2205</th>\n",
       "      <td>positive</td>\n",
       "      <td>negative</td>\n",
       "      <td>Delivered in 5 minutes and there were no problems! I would buy this again Fast and easy!</td>\n",
       "    </tr>\n",
       "    <tr>\n",
       "      <th>2246</th>\n",
       "      <td>positive</td>\n",
       "      <td>negative</td>\n",
       "      <td>I love Wendy's, but the closets one, to me, is at Gulfgate, which is less than 3 miles.  That store does not honor the gift\\ncards.  The store says their machine is broke, it has been broken for over 3 months. I love Wendy's, but the closets one</td>\n",
       "    </tr>\n",
       "    <tr>\n",
       "      <th>2312</th>\n",
       "      <td>positive</td>\n",
       "      <td>negative</td>\n",
       "      <td>Delivered as expected, no complaints! Five Stars</td>\n",
       "    </tr>\n",
       "    <tr>\n",
       "      <th>2459</th>\n",
       "      <td>positive</td>\n",
       "      <td>negative</td>\n",
       "      <td>What is there not to love gifts!</td>\n",
       "    </tr>\n",
       "    <tr>\n",
       "      <th>2490</th>\n",
       "      <td>positive</td>\n",
       "      <td>negative</td>\n",
       "      <td>This worked just as it should. No complaints. Five Stars</td>\n",
       "    </tr>\n",
       "    <tr>\n",
       "      <th>2556</th>\n",
       "      <td>positive</td>\n",
       "      <td>negative</td>\n",
       "      <td>olive garden email gift card. What's not to love? Can get it essentially same day since it's via email. No waiting for shipping. What's not to love? Can get it essentially same day since it's ...</td>\n",
       "    </tr>\n",
       "    <tr>\n",
       "      <th>2647</th>\n",
       "      <td>positive</td>\n",
       "      <td>negative</td>\n",
       "      <td>Who but Donald Trump could hate anything Amazon? Five Stars</td>\n",
       "    </tr>\n",
       "    <tr>\n",
       "      <th>2694</th>\n",
       "      <td>positive</td>\n",
       "      <td>negative</td>\n",
       "      <td>who doesn't love amazon GC's? Five Stars</td>\n",
       "    </tr>\n",
       "    <tr>\n",
       "      <th>2792</th>\n",
       "      <td>positive</td>\n",
       "      <td>negative</td>\n",
       "      <td>What's not to love Five Stars</td>\n",
       "    </tr>\n",
       "    <tr>\n",
       "      <th>2817</th>\n",
       "      <td>positive</td>\n",
       "      <td>negative</td>\n",
       "      <td>nothing like a gift card Five Stars</td>\n",
       "    </tr>\n",
       "    <tr>\n",
       "      <th>2842</th>\n",
       "      <td>positive</td>\n",
       "      <td>negative</td>\n",
       "      <td>who doesn't love amazon GCs? Five Stars</td>\n",
       "    </tr>\n",
       "    <tr>\n",
       "      <th>2846</th>\n",
       "      <td>positive</td>\n",
       "      <td>negative</td>\n",
       "      <td>What's not to love Five Stars</td>\n",
       "    </tr>\n",
       "    <tr>\n",
       "      <th>2911</th>\n",
       "      <td>positive</td>\n",
       "      <td>negative</td>\n",
       "      <td>No worries gift card Four Stars</td>\n",
       "    </tr>\n",
       "  </tbody>\n",
       "</table>\n",
       "</div>"
      ],
      "text/plain": [
       "     rating_label rating_label_vader  \\\n",
       "39       positive           negative   \n",
       "95       positive           negative   \n",
       "100      positive           negative   \n",
       "173      positive           negative   \n",
       "295      positive           negative   \n",
       "312      positive           negative   \n",
       "354      positive           negative   \n",
       "512      positive           negative   \n",
       "649      positive           negative   \n",
       "681      positive           negative   \n",
       "692      positive           negative   \n",
       "778      positive           negative   \n",
       "782      positive           negative   \n",
       "785      positive           negative   \n",
       "835      positive           negative   \n",
       "937      positive           negative   \n",
       "1005     positive           negative   \n",
       "1085     positive           negative   \n",
       "1115     positive           negative   \n",
       "1120     positive           negative   \n",
       "1140     positive           negative   \n",
       "1188     positive           negative   \n",
       "1291     positive           negative   \n",
       "1328     positive           negative   \n",
       "1357     positive           negative   \n",
       "1399     positive           negative   \n",
       "1463     positive           negative   \n",
       "1490     positive           negative   \n",
       "1520     positive           negative   \n",
       "1534     positive           negative   \n",
       "1593     positive           negative   \n",
       "1619     positive           negative   \n",
       "1662     positive           negative   \n",
       "1673     positive           negative   \n",
       "1774     positive           negative   \n",
       "1915     positive           negative   \n",
       "1964     positive           negative   \n",
       "1979     positive           negative   \n",
       "2006     positive           negative   \n",
       "2059     positive           negative   \n",
       "2079     positive           negative   \n",
       "2163     positive           negative   \n",
       "2205     positive           negative   \n",
       "2246     positive           negative   \n",
       "2312     positive           negative   \n",
       "2459     positive           negative   \n",
       "2490     positive           negative   \n",
       "2556     positive           negative   \n",
       "2647     positive           negative   \n",
       "2694     positive           negative   \n",
       "2792     positive           negative   \n",
       "2817     positive           negative   \n",
       "2842     positive           negative   \n",
       "2846     positive           negative   \n",
       "2911     positive           negative   \n",
       "\n",
       "                                                                                                                                                                                                                                                                                                                    combined_text  \n",
       "39                                                                                                                                                                                                                                                        How can you go wrong with a amazon gift certificate, you can't Terrific  \n",
       "95                                            If you are ever stuck on what to get kids (tweens) this is the way to go!\\nWho does not love gift cards? They are the same as cash and not as impersonal. That way they spend the money to get what they want and you know they cannot return to store to exchange. Great gift idea  \n",
       "100                                                                                                                                                  Once again, who but Donald Trump (perhaps The Walton family) could hate an Amazon Gift Card? who but Donald Trump (perhaps The Walton family) could hate an Amazon Gift Card  \n",
       "173                                                                                                                                                                                                                                                                              Delivered as expected, no complaints! Five Stars  \n",
       "295                                                                                                                                                                                                                                                                                                 What's not to like Five Stars  \n",
       "312                                                                                                                                                                                                                                                                                                       Easy to use No problems  \n",
       "354                                                                                                                                                                                                                                                                            Whats not to love about a gift card ??? Five Stars  \n",
       "512                                                                                                                                                                                                                                                                                                 What's not to love Five Stars  \n",
       "649                                                                                                                                                     Who won't love a gift? Plus it was nicely packed with a good quality cardboard box. They are hard card boards and has magnetics to keep them shut. Who won't love a gift?  \n",
       "681                                                                                                                                                                                 Kinda funky.  Thought it would be prettier than it is.  Just tin, but it's what's inside that counts. Right? Never saw a snowflake like this.  \n",
       "692                                                                                                                                                                                                                                                                              Who doesn't love amazon gift cards! ! Five Stars  \n",
       "778                                                                                                                                                   blahblahblah, unless it doesn't upload with cash, there be no complaints.\\nshould be kool MONEY WAS THERE AND ON OTHER STARBUCK GIFTCARDS RECENTLY BOUGHT chickens & coffee  \n",
       "782                                                                                                                                                                                                                                                                                   who doesn't love this as a gift. Five Stars  \n",
       "785                                                                                                                                                                                                                                                                                                     what's not to love SB Fan  \n",
       "835                                                                                                                                                                           Don't even have to go to the store to get this!  And who doesn't love a movie?  Great gift card, came within two days. And who doesn't love a movie  \n",
       "937                                                                                                                                                                                                                                                                                                       Easy to use No problems  \n",
       "1005                                                                                                                                                                                                                                                                                                      Easy to use No problems  \n",
       "1085                                                                                                                                                                                                                                                                             Delivered as expected, no complaints! Five Stars  \n",
       "1115                                                                                                                                                                                                                                                                                           no driving to the mall! Five Stars  \n",
       "1120                                                                                                                                                                                                                           you can use this to purchase riot points and anything that uses openbucks basically.,., Five Stars  \n",
       "1140  Have to change it to 5 stars because the cashier helped me to exchange a new card. So Nice! Must say terrible shipping!\\n\\nThere is no problem on the card excepting its already damaged. I will try to use it in store to see if I need to return or exchange it There is no problem on the card excepting its already ...  \n",
       "1188                                 No problems using these cards so far.  While my husband takes his lunch from home most days, there are times he wants something different or he forgets his lunch.  Being diabetic, he shouldn't skip lunch.  Subway offers variety which fits into his diet. Good for diabetics, convenient  \n",
       "1291                                                                                                                                                                                                                                                                              Whats not to love about a gift card? Five Stars  \n",
       "1328                                                                                                                                                                                                                                                                                Received quickly and had no problems! Perfect  \n",
       "1357                                                                                                                                                                                                                                                                                  what's not to like about sephora Five Stars  \n",
       "1399                                                                                                                                                                                                                                                                                                What's not to love Five Stars  \n",
       "1463                                                                                                                                                                                                                                                                 Who wouldn't love a gift card to Texas Roadhouse. Five Stars  \n",
       "1490                                                                                                                                                                                                                                                                                         Money for pizza Get what you pay for  \n",
       "1520                                                                                                                                                                                                                                                                                                      Easy to use No problems  \n",
       "1534                                                                                                                                                                                                                                                            Saved a trip to the mall. What's not to love? What's not to love?  \n",
       "1593                                                                                                                                                                                                This card was very convenient when we didn't want to carry cash with us. My husband used the leftover for lunches. Convenient  \n",
       "1619                                                                                                                                                                                                                                                                                           Who does not love IHOP? Five Stars  \n",
       "1662                                                                                                                                                                                                                                                                                       Who doesn't like Starbucks? Five Stars  \n",
       "1673                                                                                                                                                                                                                                                                       Who doesn't love Starbucks gift cards?  :-) Five Stars  \n",
       "1774                                                                                                                                                                                                                                                                                                What's not to love Five Stars  \n",
       "1915                                                                                                                                                                                                                                                                                  how can you go wrong? how can you go wrong?  \n",
       "1964                                                                                                                                                              I have placed order for both my grand children at time. But this order tracking information was not provided to me. Hence there was confusion. No Communication  \n",
       "1979                                                                                                                                                                                                                               This gift card came quickly and the food was great. I had no problems whatsoever. No problems!  \n",
       "2006                                                                                                                                                                                                                      Worked just fine at the concession. I didn't have any issues. Received the email in 5 minutes No issues  \n",
       "2059                                                                                                                                                                                                                                                          it was delivered as scheduled, and no problems using it. Five Stars  \n",
       "2079                                                                                                                                                                                                                                           Had no problem with using the card. Received it in just a few minutes. Easy to use  \n",
       "2163                                                                                                                                                                                                                                                                                                  Came instantly! no problems  \n",
       "2205                                                                                                                                                                                                                                     Delivered in 5 minutes and there were no problems! I would buy this again Fast and easy!  \n",
       "2246                                                                        I love Wendy's, but the closets one, to me, is at Gulfgate, which is less than 3 miles.  That store does not honor the gift\\ncards.  The store says their machine is broke, it has been broken for over 3 months. I love Wendy's, but the closets one  \n",
       "2312                                                                                                                                                                                                                                                                             Delivered as expected, no complaints! Five Stars  \n",
       "2459                                                                                                                                                                                                                                                                                             What is there not to love gifts!  \n",
       "2490                                                                                                                                                                                                                                                                     This worked just as it should. No complaints. Five Stars  \n",
       "2556                                                                                                                          olive garden email gift card. What's not to love? Can get it essentially same day since it's via email. No waiting for shipping. What's not to love? Can get it essentially same day since it's ...  \n",
       "2647                                                                                                                                                                                                                                                                  Who but Donald Trump could hate anything Amazon? Five Stars  \n",
       "2694                                                                                                                                                                                                                                                                                     who doesn't love amazon GC's? Five Stars  \n",
       "2792                                                                                                                                                                                                                                                                                                What's not to love Five Stars  \n",
       "2817                                                                                                                                                                                                                                                                                          nothing like a gift card Five Stars  \n",
       "2842                                                                                                                                                                                                                                                                                      who doesn't love amazon GCs? Five Stars  \n",
       "2846                                                                                                                                                                                                                                                                                                What's not to love Five Stars  \n",
       "2911                                                                                                                                                                                                                                                                                              No worries gift card Four Stars  "
      ]
     },
     "execution_count": 521,
     "metadata": {},
     "output_type": "execute_result"
    }
   ],
   "source": [
    "pd.set_option('display.max_colwidth', None)\n",
    "misclassified_reviews[(misclassified_reviews['rating_label'] == 'positive') & (misclassified_reviews['rating_label_vader'] == 'negative')][['rating_label','rating_label_vader','combined_text']]\n"
   ]
  },
  {
   "cell_type": "code",
   "execution_count": 522,
   "id": "d4be0bf6",
   "metadata": {},
   "outputs": [
    {
     "data": {
      "text/html": [
       "<div>\n",
       "<style scoped>\n",
       "    .dataframe tbody tr th:only-of-type {\n",
       "        vertical-align: middle;\n",
       "    }\n",
       "\n",
       "    .dataframe tbody tr th {\n",
       "        vertical-align: top;\n",
       "    }\n",
       "\n",
       "    .dataframe thead th {\n",
       "        text-align: right;\n",
       "    }\n",
       "</style>\n",
       "<table border=\"1\" class=\"dataframe\">\n",
       "  <thead>\n",
       "    <tr style=\"text-align: right;\">\n",
       "      <th></th>\n",
       "      <th>rating_label</th>\n",
       "      <th>rating_label_vader</th>\n",
       "    </tr>\n",
       "  </thead>\n",
       "  <tbody>\n",
       "    <tr>\n",
       "      <th>39</th>\n",
       "      <td>positive</td>\n",
       "      <td>negative</td>\n",
       "    </tr>\n",
       "    <tr>\n",
       "      <th>95</th>\n",
       "      <td>positive</td>\n",
       "      <td>negative</td>\n",
       "    </tr>\n",
       "    <tr>\n",
       "      <th>100</th>\n",
       "      <td>positive</td>\n",
       "      <td>negative</td>\n",
       "    </tr>\n",
       "    <tr>\n",
       "      <th>173</th>\n",
       "      <td>positive</td>\n",
       "      <td>negative</td>\n",
       "    </tr>\n",
       "    <tr>\n",
       "      <th>295</th>\n",
       "      <td>positive</td>\n",
       "      <td>negative</td>\n",
       "    </tr>\n",
       "    <tr>\n",
       "      <th>312</th>\n",
       "      <td>positive</td>\n",
       "      <td>negative</td>\n",
       "    </tr>\n",
       "    <tr>\n",
       "      <th>354</th>\n",
       "      <td>positive</td>\n",
       "      <td>negative</td>\n",
       "    </tr>\n",
       "    <tr>\n",
       "      <th>512</th>\n",
       "      <td>positive</td>\n",
       "      <td>negative</td>\n",
       "    </tr>\n",
       "    <tr>\n",
       "      <th>649</th>\n",
       "      <td>positive</td>\n",
       "      <td>negative</td>\n",
       "    </tr>\n",
       "    <tr>\n",
       "      <th>681</th>\n",
       "      <td>positive</td>\n",
       "      <td>negative</td>\n",
       "    </tr>\n",
       "    <tr>\n",
       "      <th>692</th>\n",
       "      <td>positive</td>\n",
       "      <td>negative</td>\n",
       "    </tr>\n",
       "    <tr>\n",
       "      <th>778</th>\n",
       "      <td>positive</td>\n",
       "      <td>negative</td>\n",
       "    </tr>\n",
       "    <tr>\n",
       "      <th>782</th>\n",
       "      <td>positive</td>\n",
       "      <td>negative</td>\n",
       "    </tr>\n",
       "    <tr>\n",
       "      <th>785</th>\n",
       "      <td>positive</td>\n",
       "      <td>negative</td>\n",
       "    </tr>\n",
       "    <tr>\n",
       "      <th>835</th>\n",
       "      <td>positive</td>\n",
       "      <td>negative</td>\n",
       "    </tr>\n",
       "    <tr>\n",
       "      <th>937</th>\n",
       "      <td>positive</td>\n",
       "      <td>negative</td>\n",
       "    </tr>\n",
       "    <tr>\n",
       "      <th>1005</th>\n",
       "      <td>positive</td>\n",
       "      <td>negative</td>\n",
       "    </tr>\n",
       "    <tr>\n",
       "      <th>1085</th>\n",
       "      <td>positive</td>\n",
       "      <td>negative</td>\n",
       "    </tr>\n",
       "    <tr>\n",
       "      <th>1115</th>\n",
       "      <td>positive</td>\n",
       "      <td>negative</td>\n",
       "    </tr>\n",
       "    <tr>\n",
       "      <th>1120</th>\n",
       "      <td>positive</td>\n",
       "      <td>negative</td>\n",
       "    </tr>\n",
       "    <tr>\n",
       "      <th>1140</th>\n",
       "      <td>positive</td>\n",
       "      <td>negative</td>\n",
       "    </tr>\n",
       "    <tr>\n",
       "      <th>1188</th>\n",
       "      <td>positive</td>\n",
       "      <td>negative</td>\n",
       "    </tr>\n",
       "    <tr>\n",
       "      <th>1291</th>\n",
       "      <td>positive</td>\n",
       "      <td>negative</td>\n",
       "    </tr>\n",
       "    <tr>\n",
       "      <th>1328</th>\n",
       "      <td>positive</td>\n",
       "      <td>negative</td>\n",
       "    </tr>\n",
       "    <tr>\n",
       "      <th>1357</th>\n",
       "      <td>positive</td>\n",
       "      <td>negative</td>\n",
       "    </tr>\n",
       "    <tr>\n",
       "      <th>1399</th>\n",
       "      <td>positive</td>\n",
       "      <td>negative</td>\n",
       "    </tr>\n",
       "    <tr>\n",
       "      <th>1463</th>\n",
       "      <td>positive</td>\n",
       "      <td>negative</td>\n",
       "    </tr>\n",
       "    <tr>\n",
       "      <th>1490</th>\n",
       "      <td>positive</td>\n",
       "      <td>negative</td>\n",
       "    </tr>\n",
       "    <tr>\n",
       "      <th>1520</th>\n",
       "      <td>positive</td>\n",
       "      <td>negative</td>\n",
       "    </tr>\n",
       "    <tr>\n",
       "      <th>1534</th>\n",
       "      <td>positive</td>\n",
       "      <td>negative</td>\n",
       "    </tr>\n",
       "    <tr>\n",
       "      <th>1593</th>\n",
       "      <td>positive</td>\n",
       "      <td>negative</td>\n",
       "    </tr>\n",
       "    <tr>\n",
       "      <th>1619</th>\n",
       "      <td>positive</td>\n",
       "      <td>negative</td>\n",
       "    </tr>\n",
       "    <tr>\n",
       "      <th>1662</th>\n",
       "      <td>positive</td>\n",
       "      <td>negative</td>\n",
       "    </tr>\n",
       "    <tr>\n",
       "      <th>1673</th>\n",
       "      <td>positive</td>\n",
       "      <td>negative</td>\n",
       "    </tr>\n",
       "    <tr>\n",
       "      <th>1774</th>\n",
       "      <td>positive</td>\n",
       "      <td>negative</td>\n",
       "    </tr>\n",
       "    <tr>\n",
       "      <th>1915</th>\n",
       "      <td>positive</td>\n",
       "      <td>negative</td>\n",
       "    </tr>\n",
       "    <tr>\n",
       "      <th>1964</th>\n",
       "      <td>positive</td>\n",
       "      <td>negative</td>\n",
       "    </tr>\n",
       "    <tr>\n",
       "      <th>1979</th>\n",
       "      <td>positive</td>\n",
       "      <td>negative</td>\n",
       "    </tr>\n",
       "    <tr>\n",
       "      <th>2006</th>\n",
       "      <td>positive</td>\n",
       "      <td>negative</td>\n",
       "    </tr>\n",
       "    <tr>\n",
       "      <th>2059</th>\n",
       "      <td>positive</td>\n",
       "      <td>negative</td>\n",
       "    </tr>\n",
       "    <tr>\n",
       "      <th>2079</th>\n",
       "      <td>positive</td>\n",
       "      <td>negative</td>\n",
       "    </tr>\n",
       "    <tr>\n",
       "      <th>2163</th>\n",
       "      <td>positive</td>\n",
       "      <td>negative</td>\n",
       "    </tr>\n",
       "    <tr>\n",
       "      <th>2205</th>\n",
       "      <td>positive</td>\n",
       "      <td>negative</td>\n",
       "    </tr>\n",
       "    <tr>\n",
       "      <th>2246</th>\n",
       "      <td>positive</td>\n",
       "      <td>negative</td>\n",
       "    </tr>\n",
       "    <tr>\n",
       "      <th>2312</th>\n",
       "      <td>positive</td>\n",
       "      <td>negative</td>\n",
       "    </tr>\n",
       "    <tr>\n",
       "      <th>2459</th>\n",
       "      <td>positive</td>\n",
       "      <td>negative</td>\n",
       "    </tr>\n",
       "    <tr>\n",
       "      <th>2490</th>\n",
       "      <td>positive</td>\n",
       "      <td>negative</td>\n",
       "    </tr>\n",
       "    <tr>\n",
       "      <th>2556</th>\n",
       "      <td>positive</td>\n",
       "      <td>negative</td>\n",
       "    </tr>\n",
       "    <tr>\n",
       "      <th>2647</th>\n",
       "      <td>positive</td>\n",
       "      <td>negative</td>\n",
       "    </tr>\n",
       "    <tr>\n",
       "      <th>2694</th>\n",
       "      <td>positive</td>\n",
       "      <td>negative</td>\n",
       "    </tr>\n",
       "    <tr>\n",
       "      <th>2792</th>\n",
       "      <td>positive</td>\n",
       "      <td>negative</td>\n",
       "    </tr>\n",
       "    <tr>\n",
       "      <th>2817</th>\n",
       "      <td>positive</td>\n",
       "      <td>negative</td>\n",
       "    </tr>\n",
       "    <tr>\n",
       "      <th>2842</th>\n",
       "      <td>positive</td>\n",
       "      <td>negative</td>\n",
       "    </tr>\n",
       "    <tr>\n",
       "      <th>2846</th>\n",
       "      <td>positive</td>\n",
       "      <td>negative</td>\n",
       "    </tr>\n",
       "    <tr>\n",
       "      <th>2911</th>\n",
       "      <td>positive</td>\n",
       "      <td>negative</td>\n",
       "    </tr>\n",
       "  </tbody>\n",
       "</table>\n",
       "</div>"
      ],
      "text/plain": [
       "     rating_label rating_label_vader\n",
       "39       positive           negative\n",
       "95       positive           negative\n",
       "100      positive           negative\n",
       "173      positive           negative\n",
       "295      positive           negative\n",
       "312      positive           negative\n",
       "354      positive           negative\n",
       "512      positive           negative\n",
       "649      positive           negative\n",
       "681      positive           negative\n",
       "692      positive           negative\n",
       "778      positive           negative\n",
       "782      positive           negative\n",
       "785      positive           negative\n",
       "835      positive           negative\n",
       "937      positive           negative\n",
       "1005     positive           negative\n",
       "1085     positive           negative\n",
       "1115     positive           negative\n",
       "1120     positive           negative\n",
       "1140     positive           negative\n",
       "1188     positive           negative\n",
       "1291     positive           negative\n",
       "1328     positive           negative\n",
       "1357     positive           negative\n",
       "1399     positive           negative\n",
       "1463     positive           negative\n",
       "1490     positive           negative\n",
       "1520     positive           negative\n",
       "1534     positive           negative\n",
       "1593     positive           negative\n",
       "1619     positive           negative\n",
       "1662     positive           negative\n",
       "1673     positive           negative\n",
       "1774     positive           negative\n",
       "1915     positive           negative\n",
       "1964     positive           negative\n",
       "1979     positive           negative\n",
       "2006     positive           negative\n",
       "2059     positive           negative\n",
       "2079     positive           negative\n",
       "2163     positive           negative\n",
       "2205     positive           negative\n",
       "2246     positive           negative\n",
       "2312     positive           negative\n",
       "2459     positive           negative\n",
       "2490     positive           negative\n",
       "2556     positive           negative\n",
       "2647     positive           negative\n",
       "2694     positive           negative\n",
       "2792     positive           negative\n",
       "2817     positive           negative\n",
       "2842     positive           negative\n",
       "2846     positive           negative\n",
       "2911     positive           negative"
      ]
     },
     "execution_count": 522,
     "metadata": {},
     "output_type": "execute_result"
    }
   ],
   "source": [
    "misclassified_reviews[(misclassified_reviews['rating_label']=='positive') & (misclassified_reviews['rating_label_vader']=='negative')][['rating_label','rating_label_vader',]]"
   ]
  },
  {
   "cell_type": "markdown",
   "id": "3bfae11a",
   "metadata": {},
   "source": [
    "## 5. Selecting 1000 reviews from the dataset"
   ]
  },
  {
   "cell_type": "code",
   "execution_count": 523,
   "id": "a3cf3d3e",
   "metadata": {},
   "outputs": [
    {
     "data": {
      "text/html": [
       "<div>\n",
       "<style scoped>\n",
       "    .dataframe tbody tr th:only-of-type {\n",
       "        vertical-align: middle;\n",
       "    }\n",
       "\n",
       "    .dataframe tbody tr th {\n",
       "        vertical-align: top;\n",
       "    }\n",
       "\n",
       "    .dataframe thead th {\n",
       "        text-align: right;\n",
       "    }\n",
       "</style>\n",
       "<table border=\"1\" class=\"dataframe\">\n",
       "  <thead>\n",
       "    <tr style=\"text-align: right;\">\n",
       "      <th></th>\n",
       "      <th>overall</th>\n",
       "      <th>verified</th>\n",
       "      <th>reviewTime</th>\n",
       "      <th>reviewerID</th>\n",
       "      <th>asin</th>\n",
       "      <th>reviewerName</th>\n",
       "      <th>reviewText</th>\n",
       "      <th>summary</th>\n",
       "      <th>unixReviewTime</th>\n",
       "      <th>ID_Name</th>\n",
       "      <th>rating_label</th>\n",
       "      <th>combined_text</th>\n",
       "      <th>word_count</th>\n",
       "      <th>z_score</th>\n",
       "      <th>reviewText_cleaned</th>\n",
       "      <th>sentiment_score</th>\n",
       "      <th>rating_label_vader</th>\n",
       "    </tr>\n",
       "  </thead>\n",
       "  <tbody>\n",
       "    <tr>\n",
       "      <th>1984</th>\n",
       "      <td>5</td>\n",
       "      <td>True</td>\n",
       "      <td>01 4, 2016</td>\n",
       "      <td>A15FGESGPI84VP</td>\n",
       "      <td>B00JJ59UA8</td>\n",
       "      <td>Tamara from NC</td>\n",
       "      <td>Its a gift card.</td>\n",
       "      <td>Five Stars</td>\n",
       "      <td>1451865600</td>\n",
       "      <td>A15FGESGPI84VP - Tamara from NC</td>\n",
       "      <td>positive</td>\n",
       "      <td>Its a gift card. Five Stars</td>\n",
       "      <td>6</td>\n",
       "      <td>-0.376483</td>\n",
       "      <td>its a gift card.</td>\n",
       "      <td>0.4404</td>\n",
       "      <td>positive</td>\n",
       "    </tr>\n",
       "    <tr>\n",
       "      <th>2369</th>\n",
       "      <td>5</td>\n",
       "      <td>True</td>\n",
       "      <td>12 21, 2015</td>\n",
       "      <td>A3G5OIVLDJLM7B</td>\n",
       "      <td>B00UW1CEMY</td>\n",
       "      <td>Amazon Customer</td>\n",
       "      <td>Good ideal</td>\n",
       "      <td>convenient</td>\n",
       "      <td>1450656000</td>\n",
       "      <td>A3G5OIVLDJLM7B - Amazon Customer</td>\n",
       "      <td>positive</td>\n",
       "      <td>Good ideal convenient</td>\n",
       "      <td>3</td>\n",
       "      <td>-0.491807</td>\n",
       "      <td>good ideal</td>\n",
       "      <td>0.7430</td>\n",
       "      <td>positive</td>\n",
       "    </tr>\n",
       "    <tr>\n",
       "      <th>2085</th>\n",
       "      <td>5</td>\n",
       "      <td>True</td>\n",
       "      <td>11 9, 2015</td>\n",
       "      <td>ASMBYX11IUPJR</td>\n",
       "      <td>B00MV9H6VY</td>\n",
       "      <td>Brian Miller</td>\n",
       "      <td>good gift card</td>\n",
       "      <td>good</td>\n",
       "      <td>1447027200</td>\n",
       "      <td>ASMBYX11IUPJR - Brian Miller</td>\n",
       "      <td>positive</td>\n",
       "      <td>good gift card good</td>\n",
       "      <td>4</td>\n",
       "      <td>-0.453366</td>\n",
       "      <td>good gift card</td>\n",
       "      <td>0.8271</td>\n",
       "      <td>positive</td>\n",
       "    </tr>\n",
       "    <tr>\n",
       "      <th>1783</th>\n",
       "      <td>5</td>\n",
       "      <td>True</td>\n",
       "      <td>12 6, 2016</td>\n",
       "      <td>A1L2NJYQ9O10TP</td>\n",
       "      <td>B00GOLGWVK</td>\n",
       "      <td>Lee</td>\n",
       "      <td>Great price and good food.</td>\n",
       "      <td>Five Stars</td>\n",
       "      <td>1480982400</td>\n",
       "      <td>A1L2NJYQ9O10TP - Lee</td>\n",
       "      <td>positive</td>\n",
       "      <td>Great price and good food. Five Stars</td>\n",
       "      <td>7</td>\n",
       "      <td>-0.338042</td>\n",
       "      <td>great price and good food.</td>\n",
       "      <td>0.7906</td>\n",
       "      <td>positive</td>\n",
       "    </tr>\n",
       "    <tr>\n",
       "      <th>1965</th>\n",
       "      <td>5</td>\n",
       "      <td>True</td>\n",
       "      <td>01 18, 2016</td>\n",
       "      <td>A2W3RQOSC87P4A</td>\n",
       "      <td>B00JDQJZWG</td>\n",
       "      <td>Linda Murphy                                                                          on</td>\n",
       "      <td>My gift cerficate, including this adorable cupcake, was delivered in record time.  Thank you!....</td>\n",
       "      <td>including this adorable cupcake, was delivered in record time</td>\n",
       "      <td>1453075200</td>\n",
       "      <td>A2W3RQOSC87P4A - Linda Murphy                                                                          on</td>\n",
       "      <td>positive</td>\n",
       "      <td>My gift cerficate, including this adorable cupcake, was delivered in record time.  Thank you!.... including this adorable cupcake, was delivered in record time</td>\n",
       "      <td>23</td>\n",
       "      <td>0.277017</td>\n",
       "      <td>my gift cerficate, including this adorable cupcake, was delivered in record time.  thank you!....</td>\n",
       "      <td>0.9215</td>\n",
       "      <td>positive</td>\n",
       "    </tr>\n",
       "  </tbody>\n",
       "</table>\n",
       "</div>"
      ],
      "text/plain": [
       "      overall  verified   reviewTime      reviewerID        asin  \\\n",
       "1984        5      True   01 4, 2016  A15FGESGPI84VP  B00JJ59UA8   \n",
       "2369        5      True  12 21, 2015  A3G5OIVLDJLM7B  B00UW1CEMY   \n",
       "2085        5      True   11 9, 2015   ASMBYX11IUPJR  B00MV9H6VY   \n",
       "1783        5      True   12 6, 2016  A1L2NJYQ9O10TP  B00GOLGWVK   \n",
       "1965        5      True  01 18, 2016  A2W3RQOSC87P4A  B00JDQJZWG   \n",
       "\n",
       "                                                                                  reviewerName  \\\n",
       "1984                                                                            Tamara from NC   \n",
       "2369                                                                           Amazon Customer   \n",
       "2085                                                                              Brian Miller   \n",
       "1783                                                                                      Lee    \n",
       "1965  Linda Murphy                                                                          on   \n",
       "\n",
       "                                                                                             reviewText  \\\n",
       "1984                                                                                   Its a gift card.   \n",
       "2369                                                                                         Good ideal   \n",
       "2085                                                                                     good gift card   \n",
       "1783                                                                         Great price and good food.   \n",
       "1965  My gift cerficate, including this adorable cupcake, was delivered in record time.  Thank you!....   \n",
       "\n",
       "                                                            summary  \\\n",
       "1984                                                     Five Stars   \n",
       "2369                                                     convenient   \n",
       "2085                                                           good   \n",
       "1783                                                     Five Stars   \n",
       "1965  including this adorable cupcake, was delivered in record time   \n",
       "\n",
       "      unixReviewTime  \\\n",
       "1984      1451865600   \n",
       "2369      1450656000   \n",
       "2085      1447027200   \n",
       "1783      1480982400   \n",
       "1965      1453075200   \n",
       "\n",
       "                                                                                                        ID_Name  \\\n",
       "1984                                                                            A15FGESGPI84VP - Tamara from NC   \n",
       "2369                                                                           A3G5OIVLDJLM7B - Amazon Customer   \n",
       "2085                                                                               ASMBYX11IUPJR - Brian Miller   \n",
       "1783                                                                                      A1L2NJYQ9O10TP - Lee    \n",
       "1965  A2W3RQOSC87P4A - Linda Murphy                                                                          on   \n",
       "\n",
       "     rating_label  \\\n",
       "1984     positive   \n",
       "2369     positive   \n",
       "2085     positive   \n",
       "1783     positive   \n",
       "1965     positive   \n",
       "\n",
       "                                                                                                                                                        combined_text  \\\n",
       "1984                                                                                                                                      Its a gift card. Five Stars   \n",
       "2369                                                                                                                                            Good ideal convenient   \n",
       "2085                                                                                                                                              good gift card good   \n",
       "1783                                                                                                                            Great price and good food. Five Stars   \n",
       "1965  My gift cerficate, including this adorable cupcake, was delivered in record time.  Thank you!.... including this adorable cupcake, was delivered in record time   \n",
       "\n",
       "      word_count   z_score  \\\n",
       "1984           6 -0.376483   \n",
       "2369           3 -0.491807   \n",
       "2085           4 -0.453366   \n",
       "1783           7 -0.338042   \n",
       "1965          23  0.277017   \n",
       "\n",
       "                                                                                     reviewText_cleaned  \\\n",
       "1984                                                                                   its a gift card.   \n",
       "2369                                                                                         good ideal   \n",
       "2085                                                                                     good gift card   \n",
       "1783                                                                         great price and good food.   \n",
       "1965  my gift cerficate, including this adorable cupcake, was delivered in record time.  thank you!....   \n",
       "\n",
       "      sentiment_score rating_label_vader  \n",
       "1984           0.4404           positive  \n",
       "2369           0.7430           positive  \n",
       "2085           0.8271           positive  \n",
       "1783           0.7906           positive  \n",
       "1965           0.9215           positive  "
      ]
     },
     "execution_count": 523,
     "metadata": {},
     "output_type": "execute_result"
    }
   ],
   "source": [
    "#selecting 1000 reviews randomly\n",
    "df_1000 = df.sample(n=1000, random_state=1)\n",
    "df_1000.head()\n"
   ]
  },
  {
   "cell_type": "markdown",
   "id": "5454d5c0",
   "metadata": {},
   "source": [
    "## 6.A Modeling (Sentiment Analysis) - VADER Lexicon Approach"
   ]
  },
  {
   "cell_type": "code",
   "execution_count": 524,
   "id": "120b7409",
   "metadata": {},
   "outputs": [
    {
     "data": {
      "text/plain": [
       "1984                                                                                                                     gift card . Five Stars\n",
       "2369                                                                                                                      Good ideal convenient\n",
       "2085                                                                                                                        good gift card good\n",
       "1783                                                                                                         Great price good food . Five Stars\n",
       "1965    gift cerficate , including adorable cupcake , delivered record time .   Thank ! .... including adorable cupcake , delivered record time\n",
       "Name: reviews_after_preprocessing, dtype: object"
      ]
     },
     "execution_count": 524,
     "metadata": {},
     "output_type": "execute_result"
    }
   ],
   "source": [
    "import nltk\n",
    "from nltk.corpus import stopwords\n",
    "from nltk.tokenize import word_tokenize\n",
    "from nltk.stem import WordNetLemmatizer\n",
    "import spacy\n",
    "import string\n",
    "\n",
    "\n",
    "# Load spaCy model for tokenization\n",
    "nlp = spacy.load('en_core_web_sm')\n",
    "\n",
    "# Define the list of stopwords and create the lemmatizer object\n",
    "stop_words = set(stopwords.words('english'))\n",
    "lemmatizer = WordNetLemmatizer()\n",
    "\n",
    "def preprocess_text(text):\n",
    "    # Tokenize the text using spaCy\n",
    "    doc = nlp(text)\n",
    "    tokens = [token.text for token in doc]\n",
    "\n",
    "    # Remove stopwords\n",
    "    tokens = [token for token in tokens if token.lower() not in stop_words]\n",
    "\n",
    "    # Lemmatize each word\n",
    "    tokens = [lemmatizer.lemmatize(token) for token in tokens]\n",
    "\n",
    "    # Join tokens back into text\n",
    "    preprocessed_text = ' '.join(tokens)\n",
    "\n",
    "    return preprocessed_text\n",
    "\n",
    "\n",
    "df_1000['reviews_after_preprocessing'] = df_1000['combined_text'].apply(preprocess_text)\n",
    "df_1000['reviews_after_preprocessing'].head()\n"
   ]
  },
  {
   "cell_type": "code",
   "execution_count": 525,
   "id": "0b716104",
   "metadata": {},
   "outputs": [
    {
     "data": {
      "image/png": "[encoded data removed]",
      "text/plain": [
       "<Figure size 600x400 with 1 Axes>"
      ]
     },
     "metadata": {},
     "output_type": "display_data"
    }
   ],
   "source": [
    "df_1000['vader_sentiment_score_after_preprocessing'] = df_1000['reviews_after_preprocessing'].apply(get_sentiment_score)\n",
    "df_1000['rating_label_vader_after_preprocessing'] = df_1000['vader_sentiment_score_after_preprocessing'].apply(lambda x: 'positive' if x > 0\n",
    "                                                                                                     else ('neutral' if x == 0\n",
    "                                                                                                           else 'negative'))\n",
    "confmatrix_after_preprocessing = pd.crosstab(df_1000['rating_label'], df_1000['rating_label_vader_after_preprocessing'], rownames=['Actual'], colnames=['Predicted'])\n",
    "\n",
    "plt.figure(figsize=(6,4))\n",
    "sns.heatmap(confmatrix_after_preprocessing, annot=True, fmt='d', cmap='Blues', cbar=False)\n",
    "plt.title('Confusion Matrix of Rating Labels vs. VADER Sentiment Labels After Preprocessing')\n",
    "plt.show()"
   ]
  },
  {
   "cell_type": "code",
   "execution_count": 526,
   "id": "7b937490",
   "metadata": {},
   "outputs": [
    {
     "name": "stdout",
     "output_type": "stream",
     "text": [
      "accuracy of vader lexicon after preprocessing: 0.898\n",
      "F1 score of vader lexicon after preprocessing: 0.9299149105332273\n"
     ]
    }
   ],
   "source": [
    "#printing the accuracy of the VADER sentiment labels after preprocessing\n",
    "accuracy_after_preprocessing = (confmatrix_after_preprocessing['negative']['negative'] + confmatrix_after_preprocessing['positive']['positive'] + confmatrix_after_preprocessing['neutral']['neutral']) / confmatrix_after_preprocessing.values.sum()\n",
    "print(\"accuracy of vader lexicon after preprocessing:\", accuracy_after_preprocessing)\n",
    "F1_score_after_preprocessing = f1_score(df_1000['rating_label'], df_1000['rating_label_vader_after_preprocessing'], average='weighted')\n",
    "print(\"F1 score of vader lexicon after preprocessing:\", F1_score_after_preprocessing)"
   ]
  },
  {
   "cell_type": "markdown",
   "id": "d83f81b8",
   "metadata": {},
   "source": [
    "## 6.A Modeling (Sentiment Analysis) - sentiwordnet Lexicon Approach"
   ]
  },
  {
   "cell_type": "code",
   "execution_count": 216,
   "id": "0bb02abb",
   "metadata": {},
   "outputs": [],
   "source": [
    "#Defining a function to get the sentiwordnet score for a sentence\n",
    "from nltk.corpus import sentiwordnet as swn\n",
    "from nltk.corpus import wordnet as wn\n",
    "\n",
    "def get_sentiwordnet_score(text):\n",
    "    # Tokenize the text using spaCy\n",
    "    doc = nlp(text)\n",
    "    tokens = [token.text for token in doc]\n",
    "\n",
    "    # Remove stopwords\n",
    "    tokens = [token for token in tokens if token.lower() not in stop_words]\n",
    "\n",
    "    # Lemmatize each word\n",
    "    tokens = [lemmatizer.lemmatize(token) for token in tokens]\n",
    "\n",
    "    # Get the sentiment score for each word\n",
    "    pos_score = 0\n",
    "    neg_score = 0\n",
    "    for token in tokens:\n",
    "        synsets = wn.synsets(token)\n",
    "        if synsets:\n",
    "            synset = synsets[0]\n",
    "            senti_synset = swn.senti_synset(synset.name())\n",
    "            pos_score += senti_synset.pos_score()\n",
    "            neg_score += senti_synset.neg_score()\n",
    "\n",
    "    return pos_score - neg_score"
   ]
  },
  {
   "cell_type": "code",
   "execution_count": 217,
   "id": "7d62dc2c",
   "metadata": {},
   "outputs": [
    {
     "data": {
      "text/plain": [
       "('Another great gift. Five Stars',\n",
       " ['Another', 'great', 'gift', '.', 'Five', 'Stars'])"
      ]
     },
     "execution_count": 217,
     "metadata": {},
     "output_type": "execute_result"
    }
   ],
   "source": [
    "df['combined_text'][0]\n",
    "aux_tokens = nlp(df['combined_text'][0])\n",
    "aux_tokens = [token.text for token in aux_tokens]\n",
    "aux_tokens = [token for token in aux_tokens if token.lower() not in stop_words]\n",
    "aux_tokens = [lemmatizer.lemmatize(token) for token in aux_tokens]\n",
    "df['combined_text'][0], aux_tokens"
   ]
  },
  {
   "cell_type": "code",
   "execution_count": 223,
   "id": "899da816",
   "metadata": {},
   "outputs": [
    {
     "name": "stdout",
     "output_type": "stream",
     "text": [
      "Token:  Another\n",
      "Synsets: [Synset('another.s.01')]\n",
      "Token:  great\n",
      "Synsets: [Synset('great.n.01'), Synset('great.s.01'), Synset('great.s.02'), Synset('great.s.03'), Synset('bang-up.s.01'), Synset('capital.s.03'), Synset('big.s.13')]\n",
      "Token:  gift\n",
      "Synsets: [Synset('gift.n.01'), Synset('endowment.n.01'), Synset('giving.n.01'), Synset('endow.v.01'), Synset('give.v.08')]\n",
      "Token:  .\n",
      "Synsets: []\n",
      "Token:  Five\n",
      "Synsets: [Synset('five.n.01'), Synset('basketball_team.n.01'), Synset('five-spot.n.03'), Synset('five.s.01')]\n",
      "Token:  Stars\n",
      "Synsets: [Synset('star.n.01'), Synset('ace.n.03'), Synset('star.n.03'), Synset('star.n.04'), Synset('star.n.05'), Synset('headliner.n.01'), Synset('asterisk.n.01'), Synset('star_topology.n.01'), Synset('star.v.01'), Synset('star.v.02'), Synset('star.v.03')]\n"
     ]
    }
   ],
   "source": [
    "pos_score = 0\n",
    "neg_score = 0\n",
    "for token in aux_tokens:\n",
    "    synsets = wn.synsets(token)\n",
    "    print(\"Token: \",token)\n",
    "    print(\"Synsets:\",synsets)\n",
    "    '''\n",
    "    print(\"SentiWordNet Pos-Score:\",swn.senti_synset.pos_score())\n",
    "    print(\"SentiWordNet Neg-Score:\",swn.senti_synset.neg_score())\n",
    "    print(\"SentiWordNet Obj-Score:\",swn.senti_synset.obj_score())\n",
    "\n",
    "\n",
    "\n",
    "    if synsets:\n",
    "        synset = synsets[0]\n",
    "        senti_synset = swn.senti_synset(synset.name())\n",
    "        pos_score += senti_synset.pos_score()\n",
    "        neg_score += senti_synset.neg_score()\n",
    "\n",
    "print(\"Positive score:\", pos_score)\n",
    "print(\"Negative score:\", neg_score)\n",
    "print(\"Sentiwordnet score:\", pos_score - neg_score) \n",
    "'''"
   ]
  },
  {
   "cell_type": "code",
   "execution_count": 226,
   "id": "e27dd015",
   "metadata": {},
   "outputs": [
    {
     "name": "stdout",
     "output_type": "stream",
     "text": [
      "{'She': 'PRP', 'quickly': 'RB', 'ran': 'VBD', 'to': 'TO', 'the': 'DT', 'store': 'NN', '.': '.'}\n"
     ]
    }
   ],
   "source": [
    "import nltk\n",
    "from nltk.tokenize import word_tokenize\n",
    "from nltk import pos_tag\n",
    "\n",
    "def get_word_pos(sentence):\n",
    "    # Tokenize the sentence\n",
    "    tokens = word_tokenize(sentence)\n",
    "    # Perform POS tagging\n",
    "    pos_tags = nltk.pos_tag(tokens)  # Rename variable to avoid conflict\n",
    "    # Create a dictionary to store the POS tags of each word\n",
    "    pos_dict = {}\n",
    "    for word, pos_tag in pos_tags:\n",
    "        pos_dict[word] = pos_tag\n",
    "    return pos_dict\n",
    "\n",
    "# Example usage\n",
    "sentence = \"She quickly ran to the store.\"\n",
    "pos_dict = get_word_pos(sentence)\n",
    "print(pos_dict)\n"
   ]
  },
  {
   "cell_type": "code",
   "execution_count": 231,
   "id": "15a6c78b",
   "metadata": {},
   "outputs": [
    {
     "name": "stdout",
     "output_type": "stream",
     "text": [
      "pos_tags: [('She', 'PRP'), ('quickly', 'RB'), ('ran', 'VBD'), ('to', 'TO'), ('the', 'DT'), ('store', 'NN'), ('.', '.')]\n",
      "pairs: She PRP\n",
      "tag for sentiwornet None\n",
      "pairs: quickly RB\n",
      "tag for sentiwornet r\n",
      "pairs: ran VBD\n",
      "tag for sentiwornet v\n",
      "pairs: to TO\n",
      "tag for sentiwornet None\n",
      "pairs: the DT\n",
      "tag for sentiwornet None\n",
      "pairs: store NN\n",
      "tag for sentiwornet n\n",
      "pairs: . .\n",
      "tag for sentiwornet None\n",
      "{}\n"
     ]
    }
   ],
   "source": [
    "import nltk\n",
    "from nltk.tokenize import word_tokenize\n",
    "from nltk import pos_tag\n",
    "\n",
    "# Function to map NLTK POS tags to SentiWordNet POS tags\n",
    "def map_pos_tag(nltk_pos_tag):\n",
    "    if nltk_pos_tag.startswith('N'):  # Noun\n",
    "        return 'n'\n",
    "    elif nltk_pos_tag.startswith('V'):  # Verb\n",
    "        return 'v'\n",
    "    elif nltk_pos_tag.startswith('J'):  # Adjective\n",
    "        return 'a'\n",
    "    elif nltk_pos_tag.startswith('R'):  # Adverb\n",
    "        return 'r'\n",
    "    else:\n",
    "        return None  # Handle unknown POS tags\n",
    "\n",
    "# Function to get SentiWordNet score for a word\n",
    "def get_sentiwordnet_score(word, nltk_pos_tag):\n",
    "    sentiwordnet_pos_tag = map_pos_tag(nltk_pos_tag)\n",
    "    if sentiwordnet_pos_tag:\n",
    "        # Get synsets for the word using SentiWordNet's POS tag\n",
    "        synsets = list(swn.senti_synsets(word, sentiwordnet_pos_tag))\n",
    "        if synsets:\n",
    "            # Calculate average positive and negative scores\n",
    "            pos_scores = [synset.pos_score() for synset in synsets]\n",
    "            neg_scores = [synset.neg_score() for synset in synsets]\n",
    "            avg_pos_score = sum(pos_scores) / len(pos_scores)\n",
    "            avg_neg_score = sum(neg_scores) / len(neg_scores)\n",
    "            return avg_pos_score, avg_neg_score\n",
    "    return None, None  # Return None if word not found or POS tag not recognized\n",
    "\n",
    "def delete_words_for_sentiwordnet(text):\n",
    "    # Tokenize the text using spaCy\n",
    "    doc = nlp(text)\n",
    "    tokens = [token.text for token in doc]\n",
    "\n",
    "    # Remove stopwords\n",
    "    tokens = [token for token in tokens if token.lower() not in stop_words]\n",
    "\n",
    "    # Lemmatize each word\n",
    "    tokens = [lemmatizer.lemmatize(token) for token in tokens]\n",
    "\n",
    "    return ' '.join(tokens)\n",
    "\n",
    "# Example usage\n",
    "sentence = \"She quickly ran to the store.\"\n",
    "sentence = delete_words_for_sentiwordnet(sentence)\n",
    "tokens = word_tokenize(sentence)\n",
    "pos_tags = nltk.pos_tag(tokens)\n",
    "print(\"pos_tags:\", pos_tags)\n",
    "word_scores = {}\n",
    "for token, pos_tag in pos_tags:\n",
    "    print(\"pairs:\",token, pos_tag)\n",
    "    pos_tag_swn = map_pos_tag(pos_tag)\n",
    "    print(\"tag for sentiwornet\",pos_tag_swn)\n",
    "    if pos_tag_swn:\n",
    "        pos_score, neg_score = get_sentiwordnet_score(token, pos_tag_swn)\n",
    "        if pos_score is not None and neg_score is not None:\n",
    "            word_scores[token] = {'Positive': pos_score, 'Negative': neg_score}\n",
    "\n",
    "print(word_scores)\n"
   ]
  },
  {
   "cell_type": "code",
   "execution_count": 233,
   "id": "2f8eb6a4",
   "metadata": {},
   "outputs": [
    {
     "name": "stderr",
     "output_type": "stream",
     "text": [
      "[nltk_data] Downloading package sentiwordnet to\n",
      "[nltk_data]     /Users/ryaol/nltk_data...\n",
      "[nltk_data]   Unzipping corpora/sentiwordnet.zip.\n"
     ]
    },
    {
     "data": {
      "text/plain": [
       "[]"
      ]
     },
     "execution_count": 233,
     "metadata": {},
     "output_type": "execute_result"
    }
   ],
   "source": [
    "nltk.download('sentiwordnet')\n",
    "list(swn.senti_synsets('quickly'))"
   ]
  },
  {
   "cell_type": "code",
   "execution_count": 247,
   "id": "70254248",
   "metadata": {},
   "outputs": [
    {
     "name": "stdout",
     "output_type": "stream",
     "text": [
      "[SentiSynset('good.n.01'), SentiSynset('good.n.02'), SentiSynset('good.n.03'), SentiSynset('commodity.n.01'), SentiSynset('good.a.01'), SentiSynset('full.s.06'), SentiSynset('good.a.03'), SentiSynset('estimable.s.02'), SentiSynset('beneficial.s.01'), SentiSynset('good.s.06'), SentiSynset('good.s.07'), SentiSynset('adept.s.01'), SentiSynset('good.s.09'), SentiSynset('dear.s.02'), SentiSynset('dependable.s.04'), SentiSynset('good.s.12'), SentiSynset('good.s.13'), SentiSynset('effective.s.04'), SentiSynset('good.s.15'), SentiSynset('good.s.16'), SentiSynset('good.s.17'), SentiSynset('good.s.18'), SentiSynset('good.s.19'), SentiSynset('good.s.20'), SentiSynset('good.s.21'), SentiSynset('well.r.01'), SentiSynset('thoroughly.r.02')]\n",
      "[0.5, 0.875, 0.625, 0.0, 0.75, 0.0, 1.0, 1.0, 0.625, 1.0, 0.75, 0.625, 0.625, 0.5, 0.5, 0.375, 0.625, 0.0, 0.625, 0.75, 0.75, 0.875, 0.5, 0.375, 0.75, 0.375, 0.0]\n"
     ]
    }
   ],
   "source": [
    "# Get the list of senti_synsets for the word 'quickly.r.01'\n",
    "senti_synsets = list(swn.senti_synsets('good'))\n",
    "print(senti_synsets)\n",
    "# Now you can access the pos_score of each senti_synset in the list\n",
    "pos_scores = [synset.pos_score() for synset in senti_synsets]\n",
    "\n",
    "# Print the list of pos_scores\n",
    "print(pos_scores)\n"
   ]
  },
  {
   "cell_type": "code",
   "execution_count": 248,
   "id": "b594e3df",
   "metadata": {},
   "outputs": [
    {
     "name": "stdout",
     "output_type": "stream",
     "text": [
      "Synset('well.r.01')\n"
     ]
    }
   ],
   "source": [
    "from nltk.wsd import lesk\n",
    "from nltk.tokenize import word_tokenize\n",
    "\n",
    "sentence = \"The good book I read was very informative.\"\n",
    "word = \"good\"\n",
    "synset = lesk(word_tokenize(sentence), word)\n",
    "print(synset)\n"
   ]
  },
  {
   "cell_type": "markdown",
   "id": "59457fa9",
   "metadata": {},
   "source": []
  },
  {
   "cell_type": "code",
   "execution_count": null,
   "id": "e88ddec9",
   "metadata": {},
   "outputs": [],
   "source": [
    "#Getting the sentiwordnet score\n",
    "df['sentiwordnet_sentiment_score'] = df['reviews_after_preprocessing'].apply(lambda x: get_sentiment_score(x))"
   ]
  }
 ],
 "metadata": {
  "colab": {
   "provenance": []
  },
  "kernelspec": {
   "display_name": "Python 3 (ipykernel)",
   "language": "python",
   "name": "python3"
  },
  "language_info": {
   "codemirror_mode": {
    "name": "ipython",
    "version": 3
   },
   "file_extension": ".py",
   "mimetype": "text/x-python",
   "name": "python",
   "nbconvert_exporter": "python",
   "pygments_lexer": "ipython3",
   "version": "3.11.5"
  },
  "vscode": {
   "interpreter": {
    "hash": "1af925151dd4d782713cad2f9aa59e6443226f1dd646f2f2f2be76276b2cf27f"
   }
  }
 },
 "nbformat": 4,
 "nbformat_minor": 5
}
